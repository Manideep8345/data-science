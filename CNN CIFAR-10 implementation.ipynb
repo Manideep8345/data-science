{
 "cells": [
  {
   "cell_type": "code",
   "execution_count": 1,
   "metadata": {},
   "outputs": [],
   "source": [
    "import tensorflow as tf\n",
    "import numpy as np\n",
    "import matplotlib.pyplot as plt\n",
    "import time as T\n",
    "import cPickle\n",
    "%matplotlib inline"
   ]
  },
  {
   "cell_type": "code",
   "execution_count": 2,
   "metadata": {},
   "outputs": [],
   "source": [
    "file_1=open('cifar_10_py/data_batch_1')\n",
    "file_2=open('cifar_10_py/data_batch_2')\n",
    "file_3=open('cifar_10_py/data_batch_3')\n",
    "file_4=open('cifar_10_py/data_batch_4')\n",
    "file_5=open('cifar_10_py/data_batch_5')"
   ]
  },
  {
   "cell_type": "markdown",
   "metadata": {},
   "source": [
    "from tensorflow.examples.tutorials.mnist import input_data\n",
    "data = input_data.read_data_sets('data/MNIST/', one_hot=True)\n",
    "x_batch, y_true_batch = data.train.next_batch(1060000)\n",
    "x_test,y_test_tru=data.test.next_batch(100000)"
   ]
  },
  {
   "cell_type": "code",
   "execution_count": 3,
   "metadata": {},
   "outputs": [],
   "source": [
    "train_1=cPickle.load(file_1)\n",
    "train_2=cPickle.load(file_2)\n",
    "train_3=cPickle.load(file_3)\n",
    "train_4=cPickle.load(file_4)\n",
    "train_5=cPickle.load(file_5)"
   ]
  },
  {
   "cell_type": "code",
   "execution_count": 4,
   "metadata": {},
   "outputs": [],
   "source": [
    "train=np.array(train_1['data'])\n",
    "train=np.concatenate((train,train_2['data']),0)\n",
    "train=np.concatenate((train,train_3['data']),0)\n",
    "train=np.concatenate((train,train_4['data']),0)\n",
    "train=np.concatenate((train,train_5['data']),0)\n",
    "\n",
    "train=np.transpose(train.reshape([-1,3,32,32]), (0,2, 3,1))\n",
    "train=train.reshape([-1,3*32*32])\n",
    "\n",
    "train_lab=np.array(train_1['labels'])\n",
    "train_lab=np.concatenate((train_lab,train_2['labels']),0)\n",
    "train_lab=np.concatenate((train_lab,train_3['labels']),0)\n",
    "train_lab=np.concatenate((train_lab,train_4['labels']),0)\n",
    "train_lab=np.concatenate((train_lab,train_5['labels']),0)"
   ]
  },
  {
   "cell_type": "code",
   "execution_count": 5,
   "metadata": {},
   "outputs": [],
   "source": [
    "file_=open('cifar_10_py/test_batch')\n",
    "test_x=cPickle.load(file_)"
   ]
  },
  {
   "cell_type": "code",
   "execution_count": 6,
   "metadata": {},
   "outputs": [
    {
     "data": {
      "text/plain": [
       "['data', 'labels', 'batch_label', 'filenames']"
      ]
     },
     "execution_count": 6,
     "metadata": {},
     "output_type": "execute_result"
    }
   ],
   "source": [
    "train_1.keys()"
   ]
  },
  {
   "cell_type": "code",
   "execution_count": 7,
   "metadata": {},
   "outputs": [],
   "source": [
    "y_lab = {0 : 'airplane',1 : 'automobile' ,2 : 'bird',3 : 'cat',4 : 'deer',5 : 'dog',\n",
    "         6 : 'frog', 7 : 'horse' ,8 : 'ship' ,9 : 'truck'}"
   ]
  },
  {
   "cell_type": "code",
   "execution_count": 39,
   "metadata": {},
   "outputs": [],
   "source": [
    "confil1 = 5\n",
    "nofil1 = 16\n",
    "\n",
    "confil2 = 6\n",
    "nofil2 = 36\n",
    "\n",
    "confil3 = 9\n",
    "nofil3 = 72\n",
    "\n",
    "confil4 = 9\n",
    "nofil4 = 72\n",
    "\n",
    "fc1 = 300\n",
    "fc2 = 300\n",
    "fc3 = 10\n"
   ]
  },
  {
   "cell_type": "code",
   "execution_count": 9,
   "metadata": {},
   "outputs": [],
   "source": [
    "input_no= 32*32*3\n",
    "output_no = 10"
   ]
  },
  {
   "cell_type": "code",
   "execution_count": 10,
   "metadata": {},
   "outputs": [],
   "source": [
    "img_size = 32\n",
    "img_shape = (img_size,img_size)\n",
    "no_channels = 3\n",
    "seed =234"
   ]
  },
  {
   "cell_type": "code",
   "execution_count": 11,
   "metadata": {},
   "outputs": [],
   "source": [
    "x = tf.placeholder(tf.float32,[None,input_no])\n",
    "y = tf.placeholder(tf.float32,[None,output_no])"
   ]
  },
  {
   "cell_type": "code",
   "execution_count": 12,
   "metadata": {},
   "outputs": [],
   "source": [
    "def new_weights(shape,nam):\n",
    "    return tf.Variable(tf.random_normal(shape,seed=seed,name=nam))"
   ]
  },
  {
   "cell_type": "code",
   "execution_count": 13,
   "metadata": {},
   "outputs": [],
   "source": [
    "def new_biases(length,nam):\n",
    "    return tf.Variable(tf.random_normal([length],seed=seed,name=nam))"
   ]
  },
  {
   "cell_type": "code",
   "execution_count": 38,
   "metadata": {},
   "outputs": [],
   "source": [
    "def new_conv(input , num_cha , size , no_fils , nam, use_maxpool=True):\n",
    "    shape = [ size , size , num_cha , no_fils ]\n",
    "    weights = new_weights( shape = shape,nam=nam )\n",
    "    bias = new_biases( length = no_fils,nam=nam )\n",
    "    layer = tf.nn.conv2d(input=input,filter =weights,strides=[1,1,1,1],padding='SAME')\n",
    "    layer += bias\n",
    "    if use_maxpool:\n",
    "        layer = tf.nn.max_pool(value=layer,ksize=[1,2,2,1],strides=[1,2,2,1],padding='SAME')\n",
    "    layer = tf.nn.relu(layer)\n",
    "    return layer\n",
    "    "
   ]
  },
  {
   "cell_type": "code",
   "execution_count": 15,
   "metadata": {},
   "outputs": [],
   "source": [
    "def flatten(layer):\n",
    "    layer_shape = layer.get_shape()\n",
    "    num_features = layer_shape[1:4].num_elements()\n",
    "    layer_flat = tf.reshape(layer, [-1, num_features])\n",
    "    return layer_flat, num_features"
   ]
  },
  {
   "cell_type": "code",
   "execution_count": 16,
   "metadata": {},
   "outputs": [],
   "source": [
    "def new_fc(input, no_inpu,no_out,nam,isrelu=True,keep_pro=1.0):\n",
    "    shape=[no_inpu,no_out]\n",
    "    weights= new_weights(shape,nam)\n",
    "    length=no_out\n",
    "    bias= new_biases(length,nam)\n",
    "    layer= tf.matmul(input,weights)+bias\n",
    "    if isrelu:\n",
    "        layer=tf.nn.relu(layer)\n",
    "    layer=tf.nn.dropout(layer,keep_pro)\n",
    "    return layer"
   ]
  },
  {
   "cell_type": "code",
   "execution_count": 17,
   "metadata": {},
   "outputs": [],
   "source": [
    "x_image=tf.reshape(x,[-1,img_size,img_size,no_channels])"
   ]
  },
  {
   "cell_type": "code",
   "execution_count": 18,
   "metadata": {},
   "outputs": [],
   "source": [
    "kee_prob= tf.placeholder(tf.float32)"
   ]
  },
  {
   "cell_type": "code",
   "execution_count": 40,
   "metadata": {},
   "outputs": [],
   "source": [
    "lay_conv1= new_conv(input= x_image,num_cha= no_channels,size=confil1,no_fils=nofil1,nam=\"conv_lay1\",use_maxpool=False)"
   ]
  },
  {
   "cell_type": "code",
   "execution_count": 41,
   "metadata": {},
   "outputs": [],
   "source": [
    "lay_conv2=new_conv(input=lay_conv1,num_cha= nofil1,size=confil2,no_fils=nofil2,nam=\"conv_lay2\")"
   ]
  },
  {
   "cell_type": "code",
   "execution_count": 42,
   "metadata": {},
   "outputs": [],
   "source": [
    "lay_conv3=new_conv(input=lay_conv2,num_cha=nofil2,size=confil3,no_fils=nofil3,nam=\"conv_lay3\",use_maxpool=False)"
   ]
  },
  {
   "cell_type": "code",
   "execution_count": 43,
   "metadata": {},
   "outputs": [],
   "source": [
    "lay_conv4=new_conv(input=lay_conv3,num_cha=nofil3,size=confil4,no_fils=nofil4,nam=\"conv_lay4\")"
   ]
  },
  {
   "cell_type": "code",
   "execution_count": 44,
   "metadata": {},
   "outputs": [],
   "source": [
    "flat,num_fe=flatten(lay_conv4)"
   ]
  },
  {
   "cell_type": "code",
   "execution_count": 45,
   "metadata": {},
   "outputs": [],
   "source": [
    "fc_lay1=new_fc(input=flat,no_inpu=num_fe,no_out=fc1,keep_pro=kee_prob,nam=\"fc1\")"
   ]
  },
  {
   "cell_type": "code",
   "execution_count": 46,
   "metadata": {},
   "outputs": [],
   "source": [
    "fc_lay2=new_fc(input=fc_lay1,no_inpu=fc1,no_out=fc2,keep_pro=kee_prob,nam=\"fc2\")"
   ]
  },
  {
   "cell_type": "code",
   "execution_count": 47,
   "metadata": {},
   "outputs": [],
   "source": [
    "fc_lay3=new_fc(input=fc_lay2,no_inpu=fc2,no_out=output_no,keep_pro=kee_prob,isrelu=False,nam=\"final\")"
   ]
  },
  {
   "cell_type": "code",
   "execution_count": 48,
   "metadata": {},
   "outputs": [],
   "source": [
    "cost= tf.reduce_mean(tf.nn.softmax_cross_entropy_with_logits_v2(logits=fc_lay3,labels=y))"
   ]
  },
  {
   "cell_type": "code",
   "execution_count": 49,
   "metadata": {},
   "outputs": [],
   "source": [
    "pred_i=tf.nn.softmax(fc_lay3)\n",
    "pred_cls=tf.argmax(pred_i,axis=1)"
   ]
  },
  {
   "cell_type": "code",
   "execution_count": 50,
   "metadata": {},
   "outputs": [],
   "source": [
    "learning_rate= 0.001\n",
    "optimizer=tf.train.AdamOptimizer(learning_rate=learning_rate).minimize(cost)"
   ]
  },
  {
   "cell_type": "code",
   "execution_count": 51,
   "metadata": {},
   "outputs": [],
   "source": [
    "init=tf.global_variables_initializer()"
   ]
  },
  {
   "cell_type": "code",
   "execution_count": 52,
   "metadata": {},
   "outputs": [],
   "source": [
    "sess=tf.Session()"
   ]
  },
  {
   "cell_type": "code",
   "execution_count": 53,
   "metadata": {},
   "outputs": [],
   "source": [
    "sess.run(init)"
   ]
  },
  {
   "cell_type": "code",
   "execution_count": 54,
   "metadata": {},
   "outputs": [
    {
     "name": "stdout",
     "output_type": "stream",
     "text": [
      "1   500   33652086544.4\n",
      "1   1000   8483010592.26\n",
      "1   1500   4541077182.72\n",
      "1   2000   2886135406.98\n",
      "1   2500   1840112261.06\n",
      "1   3000   1273100991.55\n",
      "1   3500   900748613.856\n",
      "1   4000   614033747.264\n",
      "1   4500   467520848.96\n",
      "1   5000   335055562.832\n",
      "2   500   266404110.88\n",
      "2   1000   195145765.128\n",
      "2   1500   148414968.412\n",
      "2   2000   112195563.456\n",
      "2   2500   85304329.112\n",
      "2   3000   60934950.22\n",
      "2   3500   46601338.266\n",
      "2   4000   34950566.727\n",
      "2   4500   26673765.874\n",
      "2   5000   20842908.4205\n",
      "3   500   17508833.4765\n",
      "3   1000   13886015.4315\n",
      "3   1500   11877491.623\n",
      "3   2000   9902212.16325\n",
      "3   2500   7607983.66675\n",
      "3   3000   7328549.64925\n",
      "3   3500   6101190.8005\n",
      "3   4000   5125017.03463\n",
      "3   4500   4514069.13825\n",
      "3   5000   3962923.97775\n",
      "4   500   3237947.1775\n",
      "4   1000   2646764.35106\n",
      "4   1500   2309307.1045\n",
      "4   2000   1861459.82756\n",
      "4   2500   1446601.09519\n",
      "4   3000   1560275.12181\n",
      "4   3500   1070068.99622\n",
      "4   4000   980834.4455\n",
      "4   4500   932721.778219\n",
      "4   5000   817064.902437\n",
      "5   500   670788.91825\n",
      "5   1000   601271.294078\n",
      "5   1500   509125.010813\n",
      "5   2000   442369.326578\n",
      "5   2500   411859.809594\n",
      "5   3000   359917.745367\n",
      "5   3500   299708.069125\n",
      "5   4000   288280.975328\n",
      "5   4500   273233.776008\n",
      "5   5000   249120.59543\n",
      "62204.931432\n"
     ]
    }
   ],
   "source": [
    "c_su=0\n",
    "ju=10\n",
    "lk=5\n",
    "le=50000/ju\n",
    "t=T.clock()\n",
    "for jf in xrange(lk):\n",
    "    for i in xrange(le):\n",
    "        x_in=train[i*ju:(i+1)*ju]\n",
    "        y_sese=np.zeros([ju,10])\n",
    "        ke=train_lab[i*ju:(i+1)*ju]\n",
    "        for j in range(ju):\n",
    "            y_sese[j,ke[j]]=1\n",
    "\n",
    "        _,c=sess.run([optimizer,cost],feed_dict={x:x_in, y:y_sese, kee_prob:1.0})\n",
    "        c_su+=c\n",
    "        if (i+1) % 500==0:\n",
    "            print jf+1,\" \",i+1,\" \",c_su/500\n",
    "            c_su=0\n",
    "print T.clock()-t"
   ]
  },
  {
   "cell_type": "code",
   "execution_count": null,
   "metadata": {},
   "outputs": [],
   "source": [
    "y_sese"
   ]
  },
  {
   "cell_type": "code",
   "execution_count": 33,
   "metadata": {},
   "outputs": [],
   "source": [
    "testx=np.array(test_x['data'])\n",
    "lab_y=np.array(test_x['labels'])"
   ]
  },
  {
   "cell_type": "code",
   "execution_count": 34,
   "metadata": {},
   "outputs": [],
   "source": [
    "testx=np.transpose(testx.reshape([-1,3,32,32]), (0,2, 3,1))\n",
    "\n",
    "testx=testx.reshape([-1,3*32*32])"
   ]
  },
  {
   "cell_type": "code",
   "execution_count": 55,
   "metadata": {},
   "outputs": [
    {
     "name": "stdout",
     "output_type": "stream",
     "text": [
      "testing the model\n",
      "6\n",
      "863.182481\n"
     ]
    }
   ],
   "source": [
    "t=T.clock()\n",
    "ac_su=0\n",
    "print \"testing the model\"\n",
    "for ki in xrange(10000):\n",
    "    pred=sess.run(pred_cls,{x:testx[ki:ki+1],kee_prob:1.0})\n",
    "    if pred==np.argmax(lab_y[ki]):\n",
    "        ac_su+=1\n",
    "    #if (ki+1)%100==0:\n",
    "        #print \"acc:\",(ac_su*100.0)/ki,\n",
    "print ac_su\n",
    "print T.clock()-t"
   ]
  },
  {
   "cell_type": "code",
   "execution_count": 56,
   "metadata": {},
   "outputs": [
    {
     "data": {
      "text/plain": [
       "0.0006"
      ]
     },
     "execution_count": 56,
     "metadata": {},
     "output_type": "execute_result"
    }
   ],
   "source": [
    "print \"acuracy: \"\n",
    "ac_su/10000.0"
   ]
  },
  {
   "cell_type": "code",
   "execution_count": null,
   "metadata": {},
   "outputs": [],
   "source": [
    "i=253\n",
    "t=T.clock()\n",
    "pred=sess.run(fc_lay3,{x:train[i:i+1],kee_prob:1.0})\n",
    "print y_lab[np.argmax(pred)],y_lab[train_lab[i]]\n",
    "print T.clock()-t\n",
    "plt.imshow(train[i].reshape(32,32,3))\n",
    "#plt.imshow(testx[1].reshape(32,32,3))"
   ]
  },
  {
   "cell_type": "code",
   "execution_count": null,
   "metadata": {},
   "outputs": [],
   "source": [
    "pred"
   ]
  },
  {
   "cell_type": "code",
   "execution_count": null,
   "metadata": {},
   "outputs": [],
   "source": [
    "y_sese"
   ]
  },
  {
   "cell_type": "code",
   "execution_count": null,
   "metadata": {},
   "outputs": [],
   "source": [
    "plt.imshow(train[i].reshape(32,32,3))"
   ]
  },
  {
   "cell_type": "code",
   "execution_count": null,
   "metadata": {},
   "outputs": [],
   "source": [
    "y_lab[8]"
   ]
  },
  {
   "cell_type": "code",
   "execution_count": null,
   "metadata": {},
   "outputs": [],
   "source": [
    "ac_su"
   ]
  },
  {
   "cell_type": "code",
   "execution_count": null,
   "metadata": {},
   "outputs": [],
   "source": [
    "#hi=np.transpose(train.reshape([-1,3,32,32]), (0,2, 3,1))"
   ]
  },
  {
   "cell_type": "code",
   "execution_count": null,
   "metadata": {},
   "outputs": [],
   "source": [
    "#train=hi.reshape([-1,32*32*3])"
   ]
  },
  {
   "cell_type": "code",
   "execution_count": null,
   "metadata": {},
   "outputs": [],
   "source": [
    "io=194\n",
    "tra = testx[io].reshape([32,32,3])\n",
    "print y_lab[lab_y[io]]\n",
    "plt.imshow(tra)"
   ]
  },
  {
   "cell_type": "code",
   "execution_count": null,
   "metadata": {},
   "outputs": [],
   "source": [
    "hi.shape"
   ]
  },
  {
   "cell_type": "code",
   "execution_count": null,
   "metadata": {},
   "outputs": [],
   "source": [
    "3638180026.5/500"
   ]
  },
  {
   "cell_type": "code",
   "execution_count": null,
   "metadata": {},
   "outputs": [],
   "source": [
    "writer = tf.summary.FileWriter('cnn_cifar')  \n",
    "writer.add_graph(tf.get_default_graph())\n"
   ]
  },
  {
   "cell_type": "code",
   "execution_count": null,
   "metadata": {},
   "outputs": [],
   "source": [
    "(464-131)/6"
   ]
  }
 ],
 "metadata": {
  "kernelspec": {
   "display_name": "Python 2",
   "language": "python",
   "name": "python2"
  },
  "language_info": {
   "codemirror_mode": {
    "name": "ipython",
    "version": 2
   },
   "file_extension": ".py",
   "mimetype": "text/x-python",
   "name": "python",
   "nbconvert_exporter": "python",
   "pygments_lexer": "ipython2",
   "version": "2.7.12"
  }
 },
 "nbformat": 4,
 "nbformat_minor": 2
}
