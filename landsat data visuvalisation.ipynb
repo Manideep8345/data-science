{
 "cells": [
  {
   "cell_type": "code",
   "execution_count": 1,
   "metadata": {},
   "outputs": [
    {
     "name": "stdout",
     "output_type": "stream",
     "text": [
      "Using matplotlib backend: TkAgg\n"
     ]
    }
   ],
   "source": [
    "from PIL import Image \n",
    "import matplotlib.pyplot as plt\n",
    "import requests\n",
    "from osgeo import gdal_array\n",
    "import numpy as np\n",
    "import time as T\n",
    "import cv2\n",
    "import sys\n",
    "%matplotlib "
   ]
  },
  {
   "cell_type": "code",
   "execution_count": 2,
   "metadata": {},
   "outputs": [],
   "source": [
    "#file path; point to raster data with prefix \n",
    "\n",
    "file_='/home/mandy8345/Map_3D/landsat data/LC08_L1TP_141048_20171215_20171223_01_T1/LC08_L1TP_141048_20171215_20171223_01_T1_'"
   ]
  },
  {
   "cell_type": "code",
   "execution_count": 4,
   "metadata": {},
   "outputs": [],
   "source": [
    "# B G R bands\n",
    "\n",
    "img_2=Image.open(file_+'B2.TIF')\n",
    "img_3=Image.open(file_+'B3.TIF')\n",
    "img_4=Image.open(file_+'B4.TIF')"
   ]
  },
  {
   "cell_type": "code",
   "execution_count": null,
   "metadata": {},
   "outputs": [],
   "source": [
    "# NIR band\n",
    "# run it for calculating NDVI\n",
    "\n",
    "img_5=Image.open(file_+'B5.TIF')\n",
    "img_np_d5=np.asarray(img_5)\n",
    "img_np_d52=img_np_d5[::10,::10]"
   ]
  },
  {
   "cell_type": "code",
   "execution_count": 5,
   "metadata": {},
   "outputs": [],
   "source": [
    "# converting image data to numpy array\n",
    "\n",
    "img_np_d2=np.asarray(img_2)\n",
    "img_np_d3=np.asarray(img_3)\n",
    "img_np_d4=np.asarray(img_4)"
   ]
  },
  {
   "cell_type": "code",
   "execution_count": 6,
   "metadata": {},
   "outputs": [],
   "source": [
    "# array slicing \n",
    "\n",
    "img_np_d22=img_np_d2[::10,::10]\n",
    "img_np_d32=img_np_d3[::10,::10]\n",
    "img_np_d42=img_np_d4[::10,::10]"
   ]
  },
  {
   "cell_type": "code",
   "execution_count": null,
   "metadata": {},
   "outputs": [],
   "source": [
    "# obtaining true color image\n",
    "\n",
    "t=T.clock()\n",
    "rgb_arr=[]\n",
    "temp=[]\n",
    "col=[]\n",
    "for i in range(len(img_np_d2)):\n",
    "    temp=[]\n",
    "    for j in range(len(img_np_d22[0])):\n",
    "        col.append(img_np_d22[i][j]);col.append(img_np_d32[i][j]);col.append(img_np_d42[i][j])\n",
    "        temp.append(col)\n",
    "        col=[]\n",
    "    rgb_arr.append(temp)\n",
    "f2=np.array(rgb_arr,dtype='uint8')\n",
    "print \"time : \",T.clock()-t"
   ]
  },
  {
   "cell_type": "code",
   "execution_count": null,
   "metadata": {},
   "outputs": [],
   "source": [
    "# true color image save\n",
    "\n",
    "koiuy=19\n",
    "cv2.imwrite('landsat_true_'+str(koiuy)+'.png',f2)\n",
    "koiuy+=1"
   ]
  },
  {
   "cell_type": "code",
   "execution_count": null,
   "metadata": {},
   "outputs": [],
   "source": [
    "# converting dtype16 to 8 \n",
    "cvuint82 = cv2.convertScaleAbs(img_np_d22, alpha=(255.0/65535.0))\n",
    "cvuint83 = cv2.convertScaleAbs(img_np_d32, alpha=(255.0/65535.0))\n",
    "cvuint84 = cv2.convertScaleAbs(img_np_d42, alpha=(255.0/65535.0))\n",
    "cvuint84.dtype"
   ]
  },
  {
   "cell_type": "code",
   "execution_count": null,
   "metadata": {},
   "outputs": [],
   "source": [
    "# histogram eqalisation with openCV2\n",
    "img_eq_2 = cv2.equalizeHist(cvuint82)\n",
    "img_eq_3 = cv2.equalizeHist(cvuint83)\n",
    "img_eq_4 = cv2.equalizeHist(cvuint84)"
   ]
  },
  {
   "cell_type": "code",
   "execution_count": null,
   "metadata": {},
   "outputs": [],
   "source": [
    "# obtaining true color hist eqalised image\n",
    "\n",
    "t=T.clock()\n",
    "rgb_arr=[]\n",
    "temp=[]\n",
    "col=[]\n",
    "for i in range(len(img_eq_2)):\n",
    "    temp=[]\n",
    "    for j in range(len(img_np_d22[0])):\n",
    "        col.append(img_eq_2[i][j]);col.append(img_eq_3[i][j]);col.append(img_eq_3[i][j])\n",
    "        temp.append(col)\n",
    "        col=[]\n",
    "    rgb_arr.append(temp)\n",
    "f=np.array(rgb_arr,dtype='uint8')\n",
    "print \"time : \",T.clock()-t"
   ]
  },
  {
   "cell_type": "code",
   "execution_count": null,
   "metadata": {},
   "outputs": [],
   "source": [
    "kouy=3\n",
    "cv2.imwrite('landsat_true_hist_eq_'+str(kouy)+'.png',f)\n",
    "kouy+=1"
   ]
  },
  {
   "cell_type": "code",
   "execution_count": null,
   "metadata": {},
   "outputs": [],
   "source": [
    "or1=cv2.imread('landsat_true_17.png')\n",
    "hst1=cv2.imread('landsat_true_hist_eq_1.png')\n",
    "res = np.hstack((or1,hst1)) \n",
    "cv2.imwrite('differ.png',res)"
   ]
  },
  {
   "cell_type": "code",
   "execution_count": null,
   "metadata": {},
   "outputs": [],
   "source": [
    "2+2"
   ]
  },
  {
   "cell_type": "code",
   "execution_count": null,
   "metadata": {},
   "outputs": [],
   "source": [
    "ndvi = np.zeros(shape=(len(img_np_d52),len(img_np_d52[1])))"
   ]
  },
  {
   "cell_type": "code",
   "execution_count": null,
   "metadata": {},
   "outputs": [],
   "source": [
    "ndvi.astype(float)"
   ]
  },
  {
   "cell_type": "code",
   "execution_count": null,
   "metadata": {},
   "outputs": [],
   "source": [
    "#clculating NDVI =( NIR - RED ) / ( NIR + RED )\n",
    "\n",
    "t=T.clock()\n",
    "for i in range(len(img_np_d52)):\n",
    "    for j in range(len(img_np_d52[0])):\n",
    "        if img_np_d52[i][j]==0 and img_np_d52[i][j]==0:\n",
    "            ndvi[i][j]=0\n",
    "        else:\n",
    "            try:\n",
    "                nir_=int(img_np_d52[i][j]);red_=int(img_np_d42[i][j])\n",
    "                sder=float(nir_-red_)/(nir_+red_)\n",
    "                ndvi[i][j]=sder\n",
    "            except:\n",
    "                print img_np_d52[i][j],img_np_d42[i][j]\n",
    "\n",
    "ndvi_res=ndvi\n",
    "print \"time : \",T.clock()-t"
   ]
  },
  {
   "cell_type": "code",
   "execution_count": null,
   "metadata": {},
   "outputs": [],
   "source": [
    "ndvi_res=ndvi"
   ]
  },
  {
   "cell_type": "code",
   "execution_count": null,
   "metadata": {},
   "outputs": [],
   "source": [
    "ndvi_res=ndvi_res*256"
   ]
  },
  {
   "cell_type": "code",
   "execution_count": null,
   "metadata": {},
   "outputs": [],
   "source": [
    "ndvi_res=ndvi_res.astype(int)"
   ]
  },
  {
   "cell_type": "code",
   "execution_count": null,
   "metadata": {},
   "outputs": [],
   "source": [
    "koiuy=2\n",
    "cv2.imwrite('landsat_ndvi_'+str(koiuy)+'.png',ndvi_res)\n",
    "koiuy+=1"
   ]
  },
  {
   "cell_type": "code",
   "execution_count": null,
   "metadata": {},
   "outputs": [],
   "source": [
    "koiuy=2\n",
    "img = cv2.imread('landsat_ndvi_'+str(koiuy)+'.png',0)\n",
    "plt.hist(img.ravel(),256,[2,256])\n",
    "plt.show()"
   ]
  },
  {
   "cell_type": "code",
   "execution_count": null,
   "metadata": {},
   "outputs": [],
   "source": [
    "img_eq = cv2.equalizeHist(cvuint8)\n",
    "plt.hist(img_eq.ravel(),256,[-3,256])\n",
    "plt.show()"
   ]
  },
  {
   "cell_type": "code",
   "execution_count": null,
   "metadata": {},
   "outputs": [],
   "source": [
    "cv2.imwrite('hist_eq_ndvi_'+str(1)+'.png',img_eq)"
   ]
  },
  {
   "cell_type": "code",
   "execution_count": null,
   "metadata": {},
   "outputs": [],
   "source": [
    "f_re=cv2.imread('landsat_true_18.png',0)\n",
    "equ = cv2.equalizeHist(f_re)\n",
    "#res = np.hstack((img,equ)) #stacking images side-by-side\n",
    "cv2.imwrite('true_hist_1.png',equ)"
   ]
  },
  {
   "cell_type": "code",
   "execution_count": null,
   "metadata": {},
   "outputs": [],
   "source": [
    "f_r=cv2.imread('landsat_true_17.png')"
   ]
  },
  {
   "cell_type": "code",
   "execution_count": null,
   "metadata": {},
   "outputs": [],
   "source": [
    "type(f_re)"
   ]
  },
  {
   "cell_type": "code",
   "execution_count": null,
   "metadata": {},
   "outputs": [],
   "source": [
    "f_re = f_r\n",
    "f_re = f_re * 6\n",
    "f_re = f_re.astype(int)"
   ]
  },
  {
   "cell_type": "code",
   "execution_count": null,
   "metadata": {},
   "outputs": [],
   "source": [
    "cv2.imshow(\"im\",f_re)\n",
    "cv2.imshow(\"im2\",f_re)\n",
    "cv2.waitKey(0)\n",
    "cv2.destroyAllWindows()"
   ]
  },
  {
   "cell_type": "code",
   "execution_count": null,
   "metadata": {},
   "outputs": [],
   "source": [
    "#ftyr=4\n",
    "cv2.imwrite('color_correct_true_'+str(ftyr)+'.png',f_re)\n",
    "ftyr+=1"
   ]
  },
  {
   "cell_type": "code",
   "execution_count": null,
   "metadata": {},
   "outputs": [],
   "source": [
    "f_re"
   ]
  },
  {
   "cell_type": "code",
   "execution_count": null,
   "metadata": {},
   "outputs": [],
   "source": [
    "plt.hist(f_re.ravel(),256,[2,256])\n",
    "plt.show()\n",
    "plt.hist(equ.ravel(),256,[2,256])\n",
    "plt.show()"
   ]
  },
  {
   "cell_type": "code",
   "execution_count": 9,
   "metadata": {},
   "outputs": [
    {
     "name": "stdout",
     "output_type": "stream",
     "text": [
      "6984.24362098\n"
     ]
    }
   ],
   "source": [
    "# finding mean\n",
    "fmnb=[]\n",
    "for i in img_np_d22:\n",
    "    fmnb.append(np.mean(i))\n",
    "fmnb=np.array(fmnb)\n",
    "print np.mean(fmnb)\n",
    "#np.mean(fmnb)/256"
   ]
  },
  {
   "cell_type": "code",
   "execution_count": null,
   "metadata": {},
   "outputs": [],
   "source": [
    "result = Image.fromarray(ndvi)\n",
    "result.save('NDVI.TIF')"
   ]
  },
  {
   "cell_type": "code",
   "execution_count": null,
   "metadata": {},
   "outputs": [],
   "source": [
    "result.show()"
   ]
  },
  {
   "cell_type": "code",
   "execution_count": null,
   "metadata": {},
   "outputs": [],
   "source": [
    "len(img_np_d52),len(img_np_d52[1])"
   ]
  },
  {
   "cell_type": "code",
   "execution_count": null,
   "metadata": {},
   "outputs": [],
   "source": [
    "img_np_d2[1][1]"
   ]
  },
  {
   "cell_type": "code",
   "execution_count": null,
   "metadata": {},
   "outputs": [],
   "source": [
    "#dont run this\n",
    "img_1=Image.open(file_+'B1.TIF')\n",
    "img_5=Image.open(file_+'B5.TIF')\n",
    "img_7=Image.open(file_+'B7.TIF')\n",
    "\n",
    "img_np_d1=np.asarray(img_1)\n",
    "img_np_d5=np.asarray(img_5)\n",
    "img_np_d7=np.asarray(img_7)\n",
    "\n",
    "img_np_d12=img_np_d1[4000:5000:2,4000:5000:2]\n",
    "img_np_d52=img_np_d5[4000:5000:2,4000:5000:2]\n",
    "img_np_d72=img_np_d7[4000:5000:2,4000:5000:2]"
   ]
  },
  {
   "cell_type": "code",
   "execution_count": null,
   "metadata": {},
   "outputs": [],
   "source": [
    "2**16"
   ]
  },
  {
   "cell_type": "code",
   "execution_count": null,
   "metadata": {},
   "outputs": [],
   "source": [
    "cvuint8 = cv2.convertScaleAbs(f)"
   ]
  },
  {
   "cell_type": "code",
   "execution_count": null,
   "metadata": {},
   "outputs": [],
   "source": [
    "f.dtype"
   ]
  },
  {
   "cell_type": "code",
   "execution_count": null,
   "metadata": {},
   "outputs": [],
   "source": [
    "f_re.max()"
   ]
  },
  {
   "cell_type": "code",
   "execution_count": null,
   "metadata": {},
   "outputs": [],
   "source": [
    "img_np_b2"
   ]
  },
  {
   "cell_type": "code",
   "execution_count": null,
   "metadata": {},
   "outputs": [],
   "source": [
    "rgb_arr=np.stack((img_np_b2,img_np_g2,img_np_b2))"
   ]
  },
  {
   "cell_type": "code",
   "execution_count": null,
   "metadata": {},
   "outputs": [],
   "source": [
    "plt.imshow(ndvi_res)\n",
    "plt.savefig('ndvi_1.jpg')"
   ]
  },
  {
   "cell_type": "code",
   "execution_count": null,
   "metadata": {},
   "outputs": [],
   "source": [
    "imr=Image.fromarray(img_np_r2,mode=None) # mode I\n",
    "img=Image.fromarray(img_np_g2,mode=None)\n",
    "imb=Image.fromarray(img_np_b2,mode=None)\n",
    "\n",
    "#merge\n",
    "merged=Image.merge(\"RGB\",(imr,img,imb))\n",
    "merged.show()"
   ]
  },
  {
   "cell_type": "code",
   "execution_count": null,
   "metadata": {},
   "outputs": [],
   "source": [
    "f"
   ]
  },
  {
   "cell_type": "code",
   "execution_count": null,
   "metadata": {},
   "outputs": [],
   "source": [
    "len(img_np_r2),len(img_np_r2[1])"
   ]
  },
  {
   "cell_type": "code",
   "execution_count": null,
   "metadata": {},
   "outputs": [],
   "source": [
    "for i in ndvi_res:\n",
    "    print i.min()\n"
   ]
  },
  {
   "cell_type": "code",
   "execution_count": null,
   "metadata": {},
   "outputs": [],
   "source": [
    "img_np_d42.max(),img_np_d42.min(),img_np_d52.max(),img_np_d52.min(),ndvi.max(),ndvi.min()"
   ]
  },
  {
   "cell_type": "code",
   "execution_count": null,
   "metadata": {},
   "outputs": [],
   "source": [
    "import os"
   ]
  },
  {
   "cell_type": "code",
   "execution_count": null,
   "metadata": {},
   "outputs": [],
   "source": [
    "import os\n",
    "path = '/home/mandy8345/Map_3D/landsat data/L5231006_00620060801'\n",
    "files = os.listdir(path)\n",
    "print files"
   ]
  },
  {
   "cell_type": "code",
   "execution_count": null,
   "metadata": {},
   "outputs": [],
   "source": [
    "a=[1,2,3,4]\n",
    "b=['a','b','c','d'],['a','b','c','d']\n",
    "c=['!','@','#','$'],['!','@','#','$']"
   ]
  },
  {
   "cell_type": "code",
   "execution_count": null,
   "metadata": {},
   "outputs": [],
   "source": []
  },
  {
   "cell_type": "code",
   "execution_count": null,
   "metadata": {},
   "outputs": [],
   "source": [
    "d=[];e=[]\n",
    "for i in range(len(a)):\n",
    "    e=[]\n",
    "    e.append(a[i]);e.append(b[i]);e.append(c[i])\n",
    "    d.append(e)\n",
    "print d"
   ]
  },
  {
   "cell_type": "code",
   "execution_count": null,
   "metadata": {},
   "outputs": [],
   "source": [
    "e=[]\n",
    "e.append(1);e.append(2);e.append(3)\n",
    "print e"
   ]
  },
  {
   "cell_type": "code",
   "execution_count": null,
   "metadata": {},
   "outputs": [],
   "source": [
    "nmji = [1,2,3,4]#[1.1,2.1,3.2,4.3],[6.1,7.1,8.1,9.1]]\n",
    "nmji = np.array(nmji)\n",
    "nmji = nmji * 1.5\n",
    "print nmji.astype(int),type(nmji)"
   ]
  },
  {
   "cell_type": "code",
   "execution_count": null,
   "metadata": {},
   "outputs": [],
   "source": [
    "nmji=nmji.astype(float)\n",
    "nmji=nmji*1.5\n",
    "nmji=nmji.astype(int)\n",
    "nmji"
   ]
  },
  {
   "cell_type": "code",
   "execution_count": null,
   "metadata": {},
   "outputs": [],
   "source": [
    "nmji.astype(float)"
   ]
  },
  {
   "cell_type": "code",
   "execution_count": null,
   "metadata": {},
   "outputs": [],
   "source": [
    "type(nmji)"
   ]
  },
  {
   "cell_type": "code",
   "execution_count": 1,
   "metadata": {},
   "outputs": [],
   "source": [
    "import cv2"
   ]
  },
  {
   "cell_type": "code",
   "execution_count": 4,
   "metadata": {},
   "outputs": [],
   "source": [
    "import numpy as np"
   ]
  },
  {
   "cell_type": "code",
   "execution_count": 2,
   "metadata": {},
   "outputs": [],
   "source": [
    "img = cv2.imread('/home/mandy8345/Downloads/img4_lar.jpg')"
   ]
  },
  {
   "cell_type": "code",
   "execution_count": 3,
   "metadata": {},
   "outputs": [
    {
     "data": {
      "text/plain": [
       "(2160, 3840, 3)"
      ]
     },
     "execution_count": 3,
     "metadata": {},
     "output_type": "execute_result"
    }
   ],
   "source": [
    "img.shape"
   ]
  },
  {
   "cell_type": "code",
   "execution_count": 5,
   "metadata": {},
   "outputs": [],
   "source": [
    "img = np.array(img)"
   ]
  },
  {
   "cell_type": "code",
   "execution_count": 30,
   "metadata": {},
   "outputs": [],
   "source": [
    "img_h = img[480:1480,650:1920]"
   ]
  },
  {
   "cell_type": "code",
   "execution_count": 31,
   "metadata": {},
   "outputs": [
    {
     "data": {
      "text/plain": [
       "(1000, 1270, 3)"
      ]
     },
     "execution_count": 31,
     "metadata": {},
     "output_type": "execute_result"
    }
   ],
   "source": [
    "img_h.shape"
   ]
  },
  {
   "cell_type": "code",
   "execution_count": 32,
   "metadata": {},
   "outputs": [
    {
     "data": {
      "text/plain": [
       "True"
      ]
     },
     "execution_count": 32,
     "metadata": {},
     "output_type": "execute_result"
    }
   ],
   "source": [
    "cv2.imwrite(\"img6_sl.jpg\",img_h)"
   ]
  },
  {
   "cell_type": "code",
   "execution_count": 15,
   "metadata": {},
   "outputs": [
    {
     "data": {
      "text/plain": [
       "1080"
      ]
     },
     "execution_count": 15,
     "metadata": {},
     "output_type": "execute_result"
    }
   ],
   "source": [
    "2160/2 "
   ]
  },
  {
   "cell_type": "code",
   "execution_count": null,
   "metadata": {},
   "outputs": [],
   "source": []
  }
 ],
 "metadata": {
  "kernelspec": {
   "display_name": "Python 2",
   "language": "python",
   "name": "python2"
  },
  "language_info": {
   "codemirror_mode": {
    "name": "ipython",
    "version": 2
   },
   "file_extension": ".py",
   "mimetype": "text/x-python",
   "name": "python",
   "nbconvert_exporter": "python",
   "pygments_lexer": "ipython2",
   "version": "2.7.12"
  }
 },
 "nbformat": 4,
 "nbformat_minor": 2
}
