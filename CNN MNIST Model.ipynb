{
 "cells": [
  {
   "cell_type": "code",
   "execution_count": 1,
   "metadata": {},
   "outputs": [],
   "source": [
    "%matplotlib inline\n",
    "import matplotlib.pyplot as plt\n",
    "import tensorflow as tf\n",
    "import numpy as np\n",
    "import time"
   ]
  },
  {
   "cell_type": "code",
   "execution_count": 2,
   "metadata": {},
   "outputs": [],
   "source": [
    "# Convolutional Layer 1.\n",
    "filter_size1 = 5          # Convolution filters are 5 x 5 pixels.\n",
    "num_filters1 = 16         # There are 16 of these filters.\n",
    "\n",
    "# Convolutional Layer 2.\n",
    "filter_size2 = 5          # Convolution filters are 5 x 5 pixels.\n",
    "num_filters2 = 36         # There are 36 of these filters.\n",
    "\n",
    "#convolutional Layer 3\n",
    "filter_size3 = 5\n",
    "num_filter3 = 36\n",
    "\n",
    "# Fully-connected layer.\n",
    "fc_size1 = 300             # Number of neurons in fully-connected layer1.\n",
    "fc_size2 = 300\n",
    "\n",
    "# seed to make debugging easy\n",
    "seed =165"
   ]
  },
  {
   "cell_type": "code",
   "execution_count": 3,
   "metadata": {},
   "outputs": [
    {
     "name": "stdout",
     "output_type": "stream",
     "text": [
      "Extracting data/MNIST/train-images-idx3-ubyte.gz\n",
      "Extracting data/MNIST/train-labels-idx1-ubyte.gz\n",
      "Extracting data/MNIST/t10k-images-idx3-ubyte.gz\n",
      "Extracting data/MNIST/t10k-labels-idx1-ubyte.gz\n"
     ]
    }
   ],
   "source": [
    "from tensorflow.examples.tutorials.mnist import input_data\n",
    "data = input_data.read_data_sets('data/MNIST/', one_hot=True)"
   ]
  },
  {
   "cell_type": "code",
   "execution_count": 4,
   "metadata": {},
   "outputs": [],
   "source": [
    "#x_batch=data.train.images\n",
    "#y_true_batch=data.train.labels"
   ]
  },
  {
   "cell_type": "code",
   "execution_count": 5,
   "metadata": {},
   "outputs": [],
   "source": [
    "x_batch, y_true_batch = data.train.next_batch(1060000)"
   ]
  },
  {
   "cell_type": "code",
   "execution_count": 6,
   "metadata": {},
   "outputs": [],
   "source": [
    "x_test,y_test_tru=data.test.next_batch(100000)"
   ]
  },
  {
   "cell_type": "code",
   "execution_count": 7,
   "metadata": {},
   "outputs": [],
   "source": [
    "# We know that MNIST images are 28 pixels in each dimension.\n",
    "img_size = 28\n",
    "\n",
    "# Images are stored in one-dimensional arrays of this length.\n",
    "img_size_flat = img_size * img_size\n",
    "\n",
    "# Tuple with height and width of images used to reshape arrays.\n",
    "img_shape = (img_size, img_size)\n",
    "\n",
    "# Number of colour channels for the images: 1 channel for gray-scale.\n",
    "num_channels = 1\n",
    "\n",
    "# Number of classes, one class for each of 10 digits.\n",
    "num_classes = 10"
   ]
  },
  {
   "cell_type": "code",
   "execution_count": 8,
   "metadata": {},
   "outputs": [],
   "source": [
    "def new_weights(shape):\n",
    "    return tf.Variable(tf.random_normal(shape,seed=seed))"
   ]
  },
  {
   "cell_type": "code",
   "execution_count": 9,
   "metadata": {},
   "outputs": [],
   "source": [
    "def new_biases(length):\n",
    "    return tf.Variable(tf.random_normal([length],seed=seed))"
   ]
  },
  {
   "cell_type": "code",
   "execution_count": 10,
   "metadata": {},
   "outputs": [],
   "source": [
    "def new_conv_layer(input,              # The previous layer.\n",
    "                   num_input_channels, # Num. channels in prev. layer.\n",
    "                   filter_size,        # Width and height of each filter.\n",
    "                   num_filters,        # Number of filters.\n",
    "                   use_pooling=True):  # Use 2x2 max-pooling.\n",
    "\n",
    "    # Shape of the filter-weights for the convolution.\n",
    "    # This format is determined by the TensorFlow API.\n",
    "    shape = [filter_size, filter_size, num_input_channels, num_filters]\n",
    "\n",
    "    # Create new weights aka. filters with the given shape.\n",
    "    weights = new_weights(shape=shape)\n",
    "\n",
    "    # Create new biases, one for each filter.\n",
    "    biases = new_biases(length=num_filters)\n",
    "\n",
    "    # Create the TensorFlow operation for convolution.\n",
    "    # Note the strides are set to 1 in all dimensions.\n",
    "    # The first and last stride must always be 1,\n",
    "    # because the first is for the image-number and\n",
    "    # the last is for the input-channel.\n",
    "    # But e.g. strides=[1, 2, 2, 1] would mean that the filter\n",
    "    # is moved 2 pixels across the x- and y-axis of the image.\n",
    "    # The padding is set to 'SAME' which means the input image\n",
    "    # is padded with zeroes so the size of the output is the same.\n",
    "    layer = tf.nn.conv2d(input=input,\n",
    "                         filter=weights,\n",
    "                         strides=[1, 1, 1, 1],\n",
    "                         padding='SAME')\n",
    "\n",
    "    # Add the biases to the results of the convolution.\n",
    "    # A bias-value is added to each filter-channel.\n",
    "    layer += biases\n",
    "\n",
    "    # Use pooling to down-sample the image resolution?\n",
    "    if use_pooling:\n",
    "        # This is 2x2 max-pooling, which means that we\n",
    "        # consider 2x2 windows and select the largest value\n",
    "        # in each window. Then we move 2 pixels to the next window.\n",
    "        layer = tf.nn.max_pool(value=layer,\n",
    "                               ksize=[1, 2, 2, 1],\n",
    "                               strides=[1, 2, 2, 1],\n",
    "                               padding='SAME')\n",
    "\n",
    "    # Rectified Linear Unit (ReLU).\n",
    "    # It calculates max(x, 0) for each input pixel x.\n",
    "    # This adds some non-linearity to the formula and allows us\n",
    "    # to learn more complicated functions.\n",
    "    layer = tf.nn.relu(layer)\n",
    "\n",
    "    # Note that ReLU is normally executed before the pooling,\n",
    "    # but since relu(max_pool(x)) == max_pool(relu(x)) we can\n",
    "    # save 75% of the relu-operations by max-pooling first.\n",
    "\n",
    "    # We return both the resulting layer and the filter-weights\n",
    "    # because we will plot the weights later.\n",
    "    return layer, weights "
   ]
  },
  {
   "cell_type": "code",
   "execution_count": 11,
   "metadata": {},
   "outputs": [],
   "source": [
    "def flatten_layer(layer):\n",
    "    # Get the shape of the input layer.\n",
    "    layer_shape = layer.get_shape()\n",
    "\n",
    "    # The shape of the input layer is assumed to be:\n",
    "    # layer_shape == [num_images, img_height, img_width, num_channels]\n",
    "\n",
    "    # The number of features is: img_height * img_width * num_channels\n",
    "    # We can use a function from TensorFlow to calculate this.\n",
    "    num_features = layer_shape[1:4].num_elements()\n",
    "    \n",
    "    # Reshape the layer to [num_images, num_features].\n",
    "    # Note that we just set the size of the second dimension\n",
    "    # to num_features and the size of the first dimension to -1\n",
    "    # which means the size in that dimension is calculated\n",
    "    # so the total size of the tensor is unchanged from the reshaping.\n",
    "    layer_flat = tf.reshape(layer, [-1, num_features])\n",
    "\n",
    "    # The shape of the flattened layer is now:\n",
    "    # [num_images, img_height * img_width * num_channels]\n",
    "\n",
    "    # Return both the flattened layer and the number of features.\n",
    "    return layer_flat,num_features"
   ]
  },
  {
   "cell_type": "code",
   "execution_count": 13,
   "metadata": {},
   "outputs": [],
   "source": [
    "def new_fc_layer(input,          # The previous layer.\n",
    "                 num_inputs,     # Num. inputs from prev. layer.\n",
    "                 num_outputs,    # Num. outputs.\n",
    "                 use_relu=True,\n",
    "                dropout=False,\n",
    "                kep_prob=1): # Use Rectified Linear Unit (ReLU)?\n",
    "\n",
    "    # Create new weights and biases.\n",
    "    weights = new_weights(shape=[num_inputs, num_outputs])\n",
    "    biases = new_biases(length=num_outputs)\n",
    "\n",
    "    # Calculate the layer as the matrix multiplication of\n",
    "    # the input and weights, and then add the bias-values.\n",
    "    layer = tf.matmul(input, weights) + biases\n",
    "\n",
    "    # Use ReLU?\n",
    "    if use_relu:\n",
    "        layer = tf.nn.relu(layer)\n",
    "    if dropout:\n",
    "        layer = tf.nn.dropout(layer,kep_prob)\n",
    "\n",
    "    return layer"
   ]
  },
  {
   "cell_type": "code",
   "execution_count": 14,
   "metadata": {},
   "outputs": [],
   "source": [
    "x = tf.placeholder(tf.float32, shape=[None, img_size_flat], name='x')"
   ]
  },
  {
   "cell_type": "code",
   "execution_count": 15,
   "metadata": {},
   "outputs": [],
   "source": [
    "x_image = tf.reshape(x, [-1, img_size, img_size, num_channels])"
   ]
  },
  {
   "cell_type": "code",
   "execution_count": 16,
   "metadata": {},
   "outputs": [],
   "source": [
    "y_true = tf.placeholder(tf.float32, shape=[None, num_classes], name='y_true')"
   ]
  },
  {
   "cell_type": "code",
   "execution_count": 17,
   "metadata": {},
   "outputs": [],
   "source": [
    "kee_prob = tf.placeholder(tf.float32)"
   ]
  },
  {
   "cell_type": "code",
   "execution_count": 18,
   "metadata": {},
   "outputs": [],
   "source": [
    "y_true_cls = tf.argmax(y_true, axis=1)"
   ]
  },
  {
   "cell_type": "code",
   "execution_count": 19,
   "metadata": {},
   "outputs": [],
   "source": [
    "layer_conv1, weights_conv1 = new_conv_layer(input=x_image,num_input_channels=num_channels,filter_size=filter_size1,num_filters=num_filters1,use_pooling=True)"
   ]
  },
  {
   "cell_type": "code",
   "execution_count": 20,
   "metadata": {},
   "outputs": [],
   "source": [
    "layer_conv2, weights_conv2 = new_conv_layer(input=layer_conv1,num_input_channels=num_filters1,filter_size=filter_size2,num_filters=num_filters2,use_pooling=True)"
   ]
  },
  {
   "cell_type": "code",
   "execution_count": 21,
   "metadata": {},
   "outputs": [],
   "source": [
    "layer_flat, num_features = flatten_layer(layer_conv2)"
   ]
  },
  {
   "cell_type": "code",
   "execution_count": 22,
   "metadata": {},
   "outputs": [],
   "source": [
    "layer_fc1 = new_fc_layer(input=layer_flat,\n",
    "                         num_inputs=num_features,\n",
    "                         num_outputs=fc_size1,\n",
    "                         use_relu=True,\n",
    "                         kep_prob=kee_prob,\n",
    "                         dropout=True)\n",
    "                    "
   ]
  },
  {
   "cell_type": "code",
   "execution_count": 23,
   "metadata": {},
   "outputs": [],
   "source": [
    "layer_fc2 = new_fc_layer(input=layer_fc1,\n",
    "                         num_inputs=fc_size1,\n",
    "                         num_outputs=fc_size2,\n",
    "                         use_relu=True,\n",
    "                         kep_prob=kee_prob,\n",
    "                         dropout=True)\n",
    "                         \n",
    "                       "
   ]
  },
  {
   "cell_type": "code",
   "execution_count": 24,
   "metadata": {},
   "outputs": [],
   "source": [
    "layer_fc3 = new_fc_layer(input=layer_fc2,\n",
    "                         num_inputs=fc_size2,\n",
    "                         num_outputs=num_classes,\n",
    "                         use_relu=False)"
   ]
  },
  {
   "cell_type": "code",
   "execution_count": 25,
   "metadata": {},
   "outputs": [],
   "source": [
    "y_pred = tf.nn.softmax(layer_fc3)"
   ]
  },
  {
   "cell_type": "code",
   "execution_count": 26,
   "metadata": {},
   "outputs": [],
   "source": [
    "y_pred_cls = tf.argmax(y_pred, axis=1)"
   ]
  },
  {
   "cell_type": "code",
   "execution_count": 27,
   "metadata": {},
   "outputs": [],
   "source": [
    "cost = tf.reduce_mean(tf.nn.softmax_cross_entropy_with_logits_v2(logits=layer_fc3,\n",
    "                                                        labels=y_true))"
   ]
  },
  {
   "cell_type": "code",
   "execution_count": 28,
   "metadata": {},
   "outputs": [],
   "source": [
    "learning_rate=0.001"
   ]
  },
  {
   "cell_type": "code",
   "execution_count": 29,
   "metadata": {},
   "outputs": [],
   "source": [
    "optimizer = tf.train.AdamOptimizer(learning_rate=learning_rate).minimize(cost)"
   ]
  },
  {
   "cell_type": "code",
   "execution_count": 30,
   "metadata": {},
   "outputs": [],
   "source": [
    "correct_prediction = tf.equal(y_pred_cls, y_true_cls)"
   ]
  },
  {
   "cell_type": "code",
   "execution_count": 31,
   "metadata": {},
   "outputs": [],
   "source": [
    "accuracy = tf.reduce_mean(tf.cast(correct_prediction, tf.float32))"
   ]
  },
  {
   "cell_type": "code",
   "execution_count": 32,
   "metadata": {},
   "outputs": [],
   "source": [
    "init = tf.global_variables_initializer()"
   ]
  },
  {
   "cell_type": "markdown",
   "metadata": {},
   "source": [
    "save the model"
   ]
  },
  {
   "cell_type": "code",
   "execution_count": 33,
   "metadata": {},
   "outputs": [],
   "source": [
    "saver = tf.train.Saver()"
   ]
  },
  {
   "cell_type": "code",
   "execution_count": 34,
   "metadata": {},
   "outputs": [],
   "source": [
    "save_pat='temp/CNN/mnist_cnn.ckpt'"
   ]
  },
  {
   "cell_type": "markdown",
   "metadata": {},
   "source": [
    "k"
   ]
  },
  {
   "cell_type": "code",
   "execution_count": 35,
   "metadata": {},
   "outputs": [],
   "source": [
    "session = tf.Session()"
   ]
  },
  {
   "cell_type": "code",
   "execution_count": 36,
   "metadata": {},
   "outputs": [],
   "source": [
    "session.run(init)"
   ]
  },
  {
   "cell_type": "code",
   "execution_count": 87,
   "metadata": {},
   "outputs": [
    {
     "name": "stdout",
     "output_type": "stream",
     "text": [
      "Round: 1 Batch: 1000 Cost: 13.1813143978\n",
      "Round: 1 Batch: 2000 Cost: 22.6306515198\n",
      "Round: 1 Batch: 3000 Cost: 20.4824664726\n",
      "Round: 1 Batch: 4000 Cost: 16.1547400627\n",
      "Round: 1 Batch: 5000 Cost: 18.4467620544\n",
      "Round: 1 Batch: 6000 Cost: 15.6925638542\n",
      "Round: 1 Batch: 7000 Cost: 18.6268839396\n",
      "Round: 1 Batch: 8000 Cost: 22.3060575909\n",
      "Round: 1 Batch: 9000 Cost: 17.1608014699\n",
      "Round: 1 Batch: 10000 Cost: 19.1481070175\n",
      "Round: 1 Batch: 11000 Cost: 17.2374863567\n",
      "Round: 2 Batch: 1000 Cost: 16.2271739988\n",
      "Round: 2 Batch: 2000 Cost: 16.825999427\n",
      "Round: 2 Batch: 3000 Cost: 17.2356368732\n",
      "Round: 2 Batch: 4000 Cost: 18.1712877998\n",
      "Round: 2 Batch: 5000 Cost: 23.8690185223\n",
      "Round: 2 Batch: 6000 Cost: 14.0931378925\n",
      "Round: 2 Batch: 7000 Cost: 21.4331400897\n",
      "Round: 2 Batch: 8000 Cost: 18.0033720546\n",
      "Round: 2 Batch: 9000 Cost: 16.9109003363\n",
      "Round: 2 Batch: 10000 Cost: 8.49187057588\n",
      "Round: 2 Batch: 11000 Cost: 20.0719099445\n",
      "Round: 3 Batch: 1000 Cost: 17.3217916958\n",
      "Round: 3 Batch: 2000 Cost: 19.622526675\n",
      "Round: 3 Batch: 3000 Cost: 15.3247084312\n",
      "Round: 3 Batch: 4000 Cost: 17.4770394162\n",
      "Round: 3 Batch: 5000 Cost: 17.2384642334\n",
      "Round: 3 Batch: 6000 Cost: 15.2540340762\n",
      "Round: 3 Batch: 7000 Cost: 11.6688389075\n",
      "Round: 3 Batch: 8000 Cost: 14.3614068184\n",
      "Round: 3 Batch: 9000 Cost: 14.9024682045\n",
      "Round: 3 Batch: 10000 Cost: 15.1295102262\n",
      "Round: 3 Batch: 11000 Cost: 8.58100428446\n",
      "\n",
      "Time took 2616.937791\n"
     ]
    }
   ],
   "source": [
    "t=time.clock()\n",
    "c_sum=0\n",
    "for ju in xrange(3):\n",
    "    for i in xrange(11000):\n",
    "        huyt=x_batch[i*10:(i+1)*10-1]#sedwe[:,0:1],sedwe[:,1:]\n",
    "        sdws=y_true_batch[i*10:(i+1)*10-1]\n",
    "        _, c = session.run([optimizer,cost],feed_dict={x:huyt,y_true:sdws,kee_prob:0.8})\n",
    "        c_sum+=c\n",
    "        if (i+1)%1000==0:\n",
    "            print \"Round:\",ju+1,\"Batch:\", i+1,\"Cost:\",c_sum/1000.0\n",
    "            c_sum=0\n",
    "print \"\\nTime took\",time.clock()-t"
   ]
  },
  {
   "cell_type": "code",
   "execution_count": 88,
   "metadata": {},
   "outputs": [
    {
     "name": "stdout",
     "output_type": "stream",
     "text": [
      "67\n",
      "Time took 88.687533 \n",
      "Accuracy: 98.34 %\n"
     ]
    }
   ],
   "source": [
    "t=time.clock()\n",
    "j=0\n",
    "print 67\n",
    "kd_no=[]\n",
    "#predict = (, 1)\n",
    "#test_x=np.array(test.loc[:])\n",
    "for i in xrange(20000):\n",
    "    pred = session.run(y_pred_cls,{x:x_test[i:i+1],kee_prob:1.0})\n",
    "    if pred == np.argmax(y_test_tru[i]):\n",
    "        j+=1\n",
    "    else:\n",
    "        kd_no.append(i)\n",
    "        \n",
    "\n",
    "print \"Time took\",time.clock()-t,'\\nAccuracy:',j*100.0/20000,\"%\""
   ]
  },
  {
   "cell_type": "code",
   "execution_count": 37,
   "metadata": {},
   "outputs": [
    {
     "name": "stdout",
     "output_type": "stream",
     "text": [
      "67\n",
      "Time took 106.705189 \n",
      "Accuracy: 98.26 %\n"
     ]
    }
   ],
   "source": [
    "t=time.clock()\n",
    "j=0\n",
    "print 67\n",
    "kd_no=[]\n",
    "#predict = (, 1)\n",
    "#test_x=np.array(test.loc[:])\n",
    "for i in xrange(20000):\n",
    "    pred = session.run(y_pred_cls,{x:x_test[i:i+1],kee_prob:1.0})\n",
    "    if pred == np.argmax(y_test_tru[i]):\n",
    "        j+=1\n",
    "    else:\n",
    "        kd_no.append(i)\n",
    "        \n",
    "\n",
    "print \"Time took\",time.clock()-t,'\\nAccuracy:',j*100.0/20000,\"%\""
   ]
  },
  {
   "cell_type": "code",
   "execution_count": 38,
   "metadata": {},
   "outputs": [
    {
     "data": {
      "text/plain": [
       "(19652, 348)"
      ]
     },
     "execution_count": 38,
     "metadata": {},
     "output_type": "execute_result"
    }
   ],
   "source": [
    "j,20000-j"
   ]
  },
  {
   "cell_type": "code",
   "execution_count": 40,
   "metadata": {
    "scrolled": true
   },
   "outputs": [
    {
     "name": "stdout",
     "output_type": "stream",
     "text": [
      "pred: [0] \n",
      "true: 0\n",
      "0.007801\n"
     ]
    },
    {
     "data": {
      "text/plain": [
       "<matplotlib.image.AxesImage at 0x7f2a1a741ad0>"
      ]
     },
     "execution_count": 40,
     "metadata": {},
     "output_type": "execute_result"
    },
    {
     "data": {
      "image/png": "[encoded data removed]",
      "text/plain": [
       "<matplotlib.figure.Figure at 0x7f2a218b6cd0>"
      ]
     },
     "metadata": {},
     "output_type": "display_data"
    }
   ],
   "source": [
    "t=time.clock()\n",
    "shap=[28,28]\n",
    "#i=kd_no[280]\n",
    "i=25\n",
    "print 'pred:',session.run(y_pred_cls,{x:x_test[i:i+1],kee_prob:1.0}),'\\ntrue:',np.argmax(y_test_tru[i])\n",
    "print time.clock()-t\n",
    "plt.imshow(x_test[i].reshape(shap),cmap='binary')\n",
    "#print time.clock()-t"
   ]
  },
  {
   "cell_type": "markdown",
   "metadata": {},
   "source": [
    "## save the best model"
   ]
  },
  {
   "cell_type": "markdown",
   "metadata": {},
   "source": [
    "d"
   ]
  },
  {
   "cell_type": "code",
   "execution_count": 75,
   "metadata": {},
   "outputs": [
    {
     "data": {
      "text/plain": [
       "'temp/CNN/mnist_cnn.ckpt'"
      ]
     },
     "execution_count": 75,
     "metadata": {},
     "output_type": "execute_result"
    }
   ],
   "source": [
    "saver.save(sess=session,save_path=save_pat)"
   ]
  },
  {
   "cell_type": "markdown",
   "metadata": {},
   "source": [
    "## restore the model"
   ]
  },
  {
   "cell_type": "code",
   "execution_count": 37,
   "metadata": {},
   "outputs": [
    {
     "name": "stdout",
     "output_type": "stream",
     "text": [
      "INFO:tensorflow:Restoring parameters from temp/CNN/mnist_cnn.ckpt\n"
     ]
    }
   ],
   "source": [
    "saver.restore(sess=session,save_path=save_pat)"
   ]
  },
  {
   "cell_type": "code",
   "execution_count": 46,
   "metadata": {},
   "outputs": [],
   "source": [
    "vars_in_checkpoint = tf.train.list_variables(save_pat)"
   ]
  },
  {
   "cell_type": "code",
   "execution_count": 47,
   "metadata": {},
   "outputs": [
    {
     "data": {
      "text/plain": [
       "[('Variable', [5, 5, 1, 16]),\n",
       " ('Variable/Adam', [5, 5, 1, 16]),\n",
       " ('Variable/Adam_1', [5, 5, 1, 16]),\n",
       " ('Variable_1', [16]),\n",
       " ('Variable_1/Adam', [16]),\n",
       " ('Variable_1/Adam_1', [16]),\n",
       " ('Variable_2', [5, 5, 16, 36]),\n",
       " ('Variable_2/Adam', [5, 5, 16, 36]),\n",
       " ('Variable_2/Adam_1', [5, 5, 16, 36]),\n",
       " ('Variable_3', [36]),\n",
       " ('Variable_3/Adam', [36]),\n",
       " ('Variable_3/Adam_1', [36]),\n",
       " ('Variable_4', [1764, 300]),\n",
       " ('Variable_4/Adam', [1764, 300]),\n",
       " ('Variable_4/Adam_1', [1764, 300]),\n",
       " ('Variable_5', [300]),\n",
       " ('Variable_5/Adam', [300]),\n",
       " ('Variable_5/Adam_1', [300]),\n",
       " ('Variable_6', [300, 300]),\n",
       " ('Variable_6/Adam', [300, 300]),\n",
       " ('Variable_6/Adam_1', [300, 300]),\n",
       " ('Variable_7', [300]),\n",
       " ('Variable_7/Adam', [300]),\n",
       " ('Variable_7/Adam_1', [300]),\n",
       " ('Variable_8', [300, 10]),\n",
       " ('Variable_8/Adam', [300, 10]),\n",
       " ('Variable_8/Adam_1', [300, 10]),\n",
       " ('Variable_9', [10]),\n",
       " ('Variable_9/Adam', [10]),\n",
       " ('Variable_9/Adam_1', [10]),\n",
       " ('beta1_power', []),\n",
       " ('beta2_power', [])]"
      ]
     },
     "execution_count": 47,
     "metadata": {},
     "output_type": "execute_result"
    }
   ],
   "source": [
    "vars_in_checkpoint"
   ]
  },
  {
   "cell_type": "code",
   "execution_count": null,
   "metadata": {},
   "outputs": [],
   "source": []
  }
 ],
 "metadata": {
  "kernelspec": {
   "display_name": "Python 2",
   "language": "python",
   "name": "python2"
  },
  "language_info": {
   "codemirror_mode": {
    "name": "ipython",
    "version": 2
   },
   "file_extension": ".py",
   "mimetype": "text/x-python",
   "name": "python",
   "nbconvert_exporter": "python",
   "pygments_lexer": "ipython2",
   "version": "2.7.12"
  }
 },
 "nbformat": 4,
 "nbformat_minor": 2
}
