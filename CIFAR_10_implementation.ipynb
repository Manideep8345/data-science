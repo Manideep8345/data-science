{
 "cells": [
  {
   "cell_type": "code",
   "execution_count": 1,
   "metadata": {},
   "outputs": [],
   "source": [
    "import cPickle\n",
    "import matplotlib.pyplot as plt\n",
    "import tensorflow as tf\n",
    "import numpy as np\n",
    "import pandas as pd\n",
    "import time as T\n",
    "%matplotlib inline"
   ]
  },
  {
   "cell_type": "code",
   "execution_count": 2,
   "metadata": {},
   "outputs": [],
   "source": [
    "file_1=open('cifar_10_py/data_batch_1')\n",
    "file_2=open('cifar_10_py/data_batch_2')\n",
    "file_3=open('cifar_10_py/data_batch_3')\n",
    "file_4=open('cifar_10_py/data_batch_4')\n",
    "file_5=open('cifar_10_py/data_batch_5')"
   ]
  },
  {
   "cell_type": "code",
   "execution_count": 3,
   "metadata": {},
   "outputs": [],
   "source": [
    "train_1=cPickle.load(file_1)\n",
    "train_2=cPickle.load(file_2)\n",
    "train_3=cPickle.load(file_3)\n",
    "train_4=cPickle.load(file_4)\n",
    "train_5=cPickle.load(file_5)"
   ]
  },
  {
   "cell_type": "code",
   "execution_count": null,
   "metadata": {},
   "outputs": [],
   "source": [
    "train_1.keys()"
   ]
  },
  {
   "cell_type": "code",
   "execution_count": 4,
   "metadata": {},
   "outputs": [],
   "source": [
    "y_lab = {0 : 'airplane',1 : 'automobile' ,2 : 'bird',3 : 'cat',4 : 'deer',5 : 'dog',\n",
    "         6 : 'frog', 7 : 'horse' ,8 : 'ship' ,9 : 'truck'}"
   ]
  },
  {
   "cell_type": "code",
   "execution_count": 5,
   "metadata": {},
   "outputs": [],
   "source": [
    "train_w=np.array(train_1['data'])\n",
    "train_e=np.array(train_2['data'])\n",
    "train_r=np.array(train_3['data'])\n",
    "train_t=np.array(train_4['data'])\n",
    "train_y=np.array(train_5['data'])"
   ]
  },
  {
   "cell_type": "code",
   "execution_count": 6,
   "metadata": {},
   "outputs": [],
   "source": [
    "train=np.concatenate((train_w,train_e,train_r,train_t,train_y),0)"
   ]
  },
  {
   "cell_type": "code",
   "execution_count": 7,
   "metadata": {},
   "outputs": [],
   "source": [
    "train_lab_1=train_1['labels']\n",
    "train_lab_2=train_2['labels']\n",
    "train_lab_3=train_3['labels']\n",
    "train_lab_4=train_4['labels']\n",
    "train_lab_5=train_5['labels']\n",
    "\n",
    "train_lab=np.concatenate((train_lab_1,train_lab_2,train_lab_3,train_lab_4,train_lab_5),0)"
   ]
  },
  {
   "cell_type": "code",
   "execution_count": null,
   "metadata": {},
   "outputs": [],
   "source": [
    "train.shape"
   ]
  },
  {
   "cell_type": "code",
   "execution_count": 8,
   "metadata": {},
   "outputs": [],
   "source": [
    "seed=128"
   ]
  },
  {
   "cell_type": "code",
   "execution_count": 40,
   "metadata": {},
   "outputs": [],
   "source": [
    "learning_rate=0.0001"
   ]
  },
  {
   "cell_type": "code",
   "execution_count": 10,
   "metadata": {},
   "outputs": [],
   "source": [
    "input_no = 32*32*3\n",
    "output_no = 10\n",
    "hidden_no = 1000"
   ]
  },
  {
   "cell_type": "code",
   "execution_count": 11,
   "metadata": {},
   "outputs": [],
   "source": [
    "x = tf.placeholder(tf.float32,[None,input_no])\n",
    "y = tf.placeholder(tf.float32,[None,output_no])"
   ]
  },
  {
   "cell_type": "code",
   "execution_count": 12,
   "metadata": {},
   "outputs": [],
   "source": [
    "weights={\n",
    "    'hidden_1' : tf.Variable(tf.random_normal([input_no,hidden_no],seed=seed )),\n",
    "    'hidden_2' : tf.Variable(tf.random_normal([hidden_no,hidden_no],seed=seed )),\n",
    "    'hidden_3' : tf.Variable(tf.random_normal([hidden_no,hidden_no],seed=seed )),\n",
    "    'output'   : tf.Variable(tf.random_normal([hidden_no,output_no],seed=seed ))\n",
    "}\n",
    "bias={\n",
    "    'hidden_1' : tf.Variable(tf.random_normal([hidden_no],seed=seed)),\n",
    "    'hidden_2' : tf.Variable(tf.random_normal([hidden_no],seed=seed)),\n",
    "    'hidden_3' : tf.Variable(tf.random_normal([hidden_no],seed=seed)),\n",
    "    'output'   : tf.Variable(tf.random_normal([output_no],seed=seed))\n",
    "    \n",
    "}"
   ]
  },
  {
   "cell_type": "code",
   "execution_count": 13,
   "metadata": {},
   "outputs": [],
   "source": [
    "hidden_layer = tf.add(tf.matmul(x,weights['hidden_1']), bias['hidden_1'])\n",
    "hidden_layer = tf.nn.relu(hidden_layer)\n",
    "\n",
    "hidden_layer2 = tf.add(tf.matmul(hidden_layer,weights['hidden_2']), bias['hidden_2'])\n",
    "hidden_layer2 = tf.nn.relu(hidden_layer2)\n",
    "\n",
    "hidden_layer3 = tf.add(tf.matmul(hidden_layer,weights['hidden_3']), bias['hidden_3'])\n",
    "hidden_layer3 = tf.nn.relu(hidden_layer3)\n",
    "\n",
    "output_layer = tf.add(tf.matmul(hidden_layer3,weights['output']), bias['output'])\n"
   ]
  },
  {
   "cell_type": "code",
   "execution_count": 14,
   "metadata": {},
   "outputs": [],
   "source": [
    "cost = tf.reduce_mean(tf.nn.softmax_cross_entropy_with_logits_v2(logits = output_layer,labels = y))"
   ]
  },
  {
   "cell_type": "code",
   "execution_count": 41,
   "metadata": {},
   "outputs": [],
   "source": [
    "optimizer=tf.train.AdamOptimizer(learning_rate = learning_rate).minimize(cost)"
   ]
  },
  {
   "cell_type": "code",
   "execution_count": 42,
   "metadata": {},
   "outputs": [],
   "source": [
    "init= tf.global_variables_initializer()"
   ]
  },
  {
   "cell_type": "code",
   "execution_count": 17,
   "metadata": {},
   "outputs": [],
   "source": [
    "sess=tf.Session()"
   ]
  },
  {
   "cell_type": "code",
   "execution_count": 43,
   "metadata": {},
   "outputs": [],
   "source": [
    "sess.run(init)"
   ]
  },
  {
   "cell_type": "code",
   "execution_count": 50,
   "metadata": {},
   "outputs": [
    {
     "name": "stdout",
     "output_type": "stream",
     "text": [
      "1 500 82150.1234131\n",
      "1 1000 83123.639856\n",
      "1 1500 83717.7589316\n",
      "1 2000 82833.9360417\n",
      "1 2500 78427.1034766\n",
      "1 3000 82102.9422227\n",
      "1 3500 82884.000564\n",
      "1 4000 77780.9543978\n",
      "1 4500 85871.2717136\n",
      "1 5000 80128.0590508\n",
      "2 500 78581.9219524\n",
      "2 1000 78996.8596348\n",
      "2 1500 79332.4998936\n",
      "2 2000 78348.1151658\n",
      "2 2500 74375.2056035\n",
      "2 3000 78046.1427357\n",
      "2 3500 78712.2498394\n",
      "2 4000 73679.8428406\n",
      "2 4500 81330.6495005\n",
      "2 5000 75703.7891147\n",
      "3 500 74544.5763774\n",
      "3 1000 73947.6654802\n",
      "3 1500 75042.4510067\n",
      "3 2000 74230.8527651\n",
      "3 2500 71201.1567695\n",
      "3 3000 75190.4295117\n",
      "3 3500 75127.7260784\n",
      "3 4000 70104.7011729\n",
      "3 4500 77851.191978\n",
      "3 5000 73229.9889844\n",
      "4 500 70981.5243623\n",
      "4 1000 70845.1853994\n",
      "4 1500 71911.3065\n",
      "4 2000 70948.4424087\n",
      "4 2500 66558.2279287\n",
      "4 3000 70385.4900354\n",
      "4 3500 71719.6574762\n",
      "4 4000 67209.5696072\n",
      "4 4500 72694.5563525\n",
      "4 5000 69269.2534727\n",
      "5 500 67499.5329707\n",
      "5 1000 67324.7911328\n",
      "5 1500 68565.9267605\n",
      "5 2000 66539.1384328\n",
      "5 2500 64501.769889\n",
      "5 3000 67754.2982439\n",
      "5 3500 67064.1415481\n",
      "5 4000 64410.3748455\n",
      "5 4500 70466.0214863\n",
      "5 5000 66083.1501123\n",
      "6 500 63919.2153806\n",
      "6 1000 64516.2239106\n",
      "6 1500 64822.6739116\n",
      "6 2000 64104.6412634\n",
      "6 2500 61011.3905143\n",
      "6 3000 64109.4323313\n",
      "6 3500 64786.5660714\n",
      "6 4000 60187.6791389\n",
      "6 4500 67178.2144771\n",
      "6 5000 62612.2065557\n",
      "7 500 61559.5157188\n",
      "7 1000 61919.299375\n",
      "7 1500 61649.1093937\n",
      "7 2000 61972.6193301\n",
      "7 2500 58134.5877178\n",
      "7 3000 61809.1851946\n",
      "7 3500 61382.6955785\n",
      "7 4000 57506.2221613\n",
      "7 4500 64513.7743925\n",
      "7 5000 60344.6631182\n",
      "8 500 58499.2471594\n",
      "8 1000 58264.6980778\n",
      "8 1500 59893.9350081\n",
      "8 2000 59640.8219873\n",
      "8 2500 54965.7956526\n",
      "8 3000 59530.9336704\n",
      "8 3500 58722.1951523\n",
      "8 4000 55304.992999\n",
      "8 4500 61941.3078863\n",
      "8 5000 57739.9628035\n",
      "9 500 55639.1863303\n",
      "9 1000 56584.0451942\n",
      "9 1500 57234.6851738\n",
      "9 2000 56325.0490959\n",
      "9 2500 53267.2426787\n",
      "9 3000 57203.516642\n",
      "9 3500 55365.0673765\n",
      "9 4000 53886.8577753\n",
      "9 4500 58437.4453765\n",
      "9 5000 54543.0270398\n",
      "10 500 53004.0558298\n",
      "10 1000 53883.8938109\n",
      "10 1500 54355.7027316\n",
      "10 2000 54690.4111174\n",
      "10 2500 50964.7088887\n",
      "10 3000 55886.1817367\n",
      "10 3500 53450.5806475\n",
      "10 4000 50552.5540947\n",
      "10 4500 56450.9580955\n",
      "10 5000 52039.3136793\n",
      "11 500 50497.0874684\n",
      "11 1000 51677.6568959\n",
      "11 1500 52917.035301\n",
      "11 2000 51231.0010937\n",
      "11 2500 49032.7534354\n",
      "11 3000 52502.1978549\n",
      "11 3500 52311.795797\n",
      "11 4000 48886.4539827\n",
      "11 4500 53742.0415005\n",
      "11 5000 49927.9268378\n",
      "12 500 49003.7727739\n",
      "12 1000 50109.1008921\n",
      "12 1500 50159.7334879\n",
      "12 2000 49092.9077324\n",
      "12 2500 47792.0791082\n",
      "12 3000 51338.6197961\n",
      "12 3500 49583.0109028\n",
      "12 4000 46149.3338776\n",
      "12 4500 51897.3828215\n",
      "12 5000 48369.3766717\n",
      "13 500 46947.3582228\n",
      "13 1000 47802.4881765\n",
      "13 1500 47561.2074404\n",
      "13 2000 47161.1046753\n",
      "13 2500 44658.186526\n",
      "13 3000 48505.8073162\n",
      "13 3500 47619.0870251\n",
      "13 4000 44979.72899\n",
      "13 4500 49666.7955558\n",
      "13 5000 45813.6391577\n",
      "14 500 44642.1445946\n",
      "14 1000 46511.423855\n",
      "14 1500 45951.3458893\n",
      "14 2000 45491.9856169\n",
      "14 2500 43039.8090186\n",
      "14 3000 47522.5969847\n",
      "14 3500 45394.8716483\n",
      "14 4000 42811.5009385\n",
      "14 4500 47456.0685922\n",
      "14 5000 44014.4984035\n",
      "15 500 43755.1794772\n",
      "15 1000 44096.3385426\n",
      "15 1500 44329.9093982\n",
      "15 2000 43133.6070151\n",
      "15 2500 40627.7331034\n",
      "15 3000 43805.9011118\n",
      "15 3500 43019.2235076\n",
      "15 4000 41156.2267963\n",
      "15 4500 45591.6128828\n",
      "15 5000 42494.586356\n",
      "time took 9694.259351\n"
     ]
    }
   ],
   "source": [
    "t=T.clock()\n",
    "hy=10\n",
    "cunt=50000/hy\n",
    "rt=5\n",
    "c_su=0\n",
    "for jr in xrange(15):\n",
    "    for i in xrange(cunt):\n",
    "        x_in=train[i*hy:(i+1)*hy]\n",
    "        y_sese=np.zeros([hy,10])\n",
    "        ke=train_lab[i*hy:(i+1)*hy]\n",
    "        #huy=labels[ke]\n",
    "        for j in range(hy):\n",
    "            y_sese[j,ke[j]]=1\n",
    "        #y_sese\n",
    "        _,c=sess.run([optimizer,cost],feed_dict={x:x_in,y:y_sese})\n",
    "        c_su+= (c/500)\n",
    "        if (i+1)%500==0:\n",
    "            print jr+1,i+1,c_su\n",
    "            c_su=0\n",
    "print \"time took\",T.clock()-t"
   ]
  },
  {
   "cell_type": "code",
   "execution_count": null,
   "metadata": {},
   "outputs": [],
   "source": [
    "y_sese=np.zeros([100,10])\n",
    "y_sese"
   ]
  },
  {
   "cell_type": "code",
   "execution_count": 20,
   "metadata": {},
   "outputs": [],
   "source": [
    "file_=open('cifar_10_py/test_batch')\n",
    "test_x=cPickle.load(file_)"
   ]
  },
  {
   "cell_type": "code",
   "execution_count": 51,
   "metadata": {},
   "outputs": [
    {
     "name": "stdout",
     "output_type": "stream",
     "text": [
      "3883\n",
      "time took 13.749016\n"
     ]
    }
   ],
   "source": [
    "t=T.clock()\n",
    "predict = tf.argmax(output_layer,1)\n",
    "pred = sess.run(predict,feed_dict={x:test_x['data']})\n",
    "j=0\n",
    "for i in xrange(10000):\n",
    "    if pred[i]==test_x['labels'][i]:\n",
    "        j+=1\n",
    "print j\n",
    "print \"time took\",T.clock()-t"
   ]
  },
  {
   "cell_type": "code",
   "execution_count": 52,
   "metadata": {},
   "outputs": [
    {
     "data": {
      "text/plain": [
       "38.83"
      ]
     },
     "execution_count": 52,
     "metadata": {},
     "output_type": "execute_result"
    }
   ],
   "source": [
    "j*100.0/10000"
   ]
  },
  {
   "cell_type": "code",
   "execution_count": null,
   "metadata": {},
   "outputs": [],
   "source": [
    "pred1,outy = sess.run([predict,output_layer],feed_dict={x:test_x['data'][0:1]})\n",
    "pred1,outy"
   ]
  },
  {
   "cell_type": "code",
   "execution_count": null,
   "metadata": {},
   "outputs": [],
   "source": [
    "h=20\n",
    "print \"predict:\", y_lab[pred[h]]\n",
    "print \"truth: \",y_lab[test_x['labels'][h]]\n",
    "plt.imshow(np.transpose(test_x['data'][h].reshape(3,32,32), (1, 2, 0)))"
   ]
  },
  {
   "cell_type": "code",
   "execution_count": null,
   "metadata": {},
   "outputs": [],
   "source": [
    "y_labels[3]"
   ]
  },
  {
   "cell_type": "code",
   "execution_count": null,
   "metadata": {},
   "outputs": [],
   "source": [
    "#np.reshape(features[\"x\"], [-1, 28, 28, 1])\n",
    "h=60\n",
    "plt.imshow(np.transpose(test_x['data'][h].reshape(3,32,32), (1, 2, 0)))"
   ]
  },
  {
   "cell_type": "code",
   "execution_count": null,
   "metadata": {},
   "outputs": [],
   "source": [
    "ft45=np.transpose(test_x['data'].reshape(10000,3,32,32), (0,2,3,1)).reshape([10000,32,32,3])"
   ]
  },
  {
   "cell_type": "code",
   "execution_count": null,
   "metadata": {},
   "outputs": [],
   "source": [
    "plt.imshow(ft45[60])"
   ]
  },
  {
   "cell_type": "code",
   "execution_count": null,
   "metadata": {},
   "outputs": [],
   "source": [
    "X=test_x['data'].reshape(10000,3,32,32)\n",
    "X=X.transpose(0,2,3,1).astype(\"uint8\")\n",
    "plt.show()\n",
    "#from scipy.misc import imsave\n",
    "#imsave('test_ai_1.jpg', img)"
   ]
  },
  {
   "cell_type": "code",
   "execution_count": null,
   "metadata": {},
   "outputs": [],
   "source": [
    "plt.imshow(X[1])"
   ]
  },
  {
   "cell_type": "code",
   "execution_count": null,
   "metadata": {},
   "outputs": [],
   "source": [
    "y_label[pred[0]],test_x['labels'][0]"
   ]
  },
  {
   "cell_type": "code",
   "execution_count": null,
   "metadata": {},
   "outputs": [],
   "source": [
    "y_sese=np.zeros([10,10])\n",
    "dr=train_lab[0:10]\n",
    "for j in range(10):\n",
    "    \n",
    "    y_sese[j,dr[j]]=1\n",
    "dr,y_sese"
   ]
  },
  {
   "cell_type": "code",
   "execution_count": null,
   "metadata": {},
   "outputs": [],
   "source": []
  },
  {
   "cell_type": "code",
   "execution_count": null,
   "metadata": {},
   "outputs": [],
   "source": [
    "i=10\n",
    "train[i*10:(i+1)*10].shape"
   ]
  }
 ],
 "metadata": {
  "kernelspec": {
   "display_name": "Python 2",
   "language": "python",
   "name": "python2"
  },
  "language_info": {
   "codemirror_mode": {
    "name": "ipython",
    "version": 2
   },
   "file_extension": ".py",
   "mimetype": "text/x-python",
   "name": "python",
   "nbconvert_exporter": "python",
   "pygments_lexer": "ipython2",
   "version": "2.7.12"
  }
 },
 "nbformat": 4,
 "nbformat_minor": 2
}
