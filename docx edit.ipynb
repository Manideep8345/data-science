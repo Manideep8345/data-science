{
 "cells": [
  {
   "cell_type": "code",
   "execution_count": 1,
   "metadata": {},
   "outputs": [],
   "source": [
    "import cv2\n",
    "import numpy as np"
   ]
  },
  {
   "cell_type": "code",
   "execution_count": 2,
   "metadata": {},
   "outputs": [],
   "source": [
    "image='/home/mandy8345/IMG.jpg' \n",
    "img=cv2.imread(image,65)\n",
    "#img2=cv2.imwrite('mandy1.jpeg',img)\n"
   ]
  },
  {
   "cell_type": "code",
   "execution_count": 3,
   "metadata": {},
   "outputs": [
    {
     "name": "stdout",
     "output_type": "stream",
     "text": [
      "2\n",
      "215\n"
     ]
    }
   ],
   "source": [
    "#print 1440%7\n",
    "print len(img[1])/685\n",
    "#print len(x)\n",
    "print img[1][1][1]"
   ]
  },
  {
   "cell_type": "code",
   "execution_count": null,
   "metadata": {},
   "outputs": [],
   "source": [
    "len(img)"
   ]
  },
  {
   "cell_type": "code",
   "execution_count": 39,
   "metadata": {},
   "outputs": [],
   "source": [
    "m=\"manideep\";s=\"\"\n",
    "for i in range(1440/len(m)):\n",
    "    s+=m\n",
    "    "
   ]
  },
  {
   "cell_type": "code",
   "execution_count": 4,
   "metadata": {},
   "outputs": [],
   "source": [
    "x='nideepmanideepmanideepmanideepmanideepmanideepmanideepmanideepmanideepmanideepmanideepmanideepmanideepmanideepmanideepmanideepmanideepmanideepmanideepmanideepmanideepmanideepmanideepmanideepmanideepmanideepmanideepmanideepmanideepmanideepmanideepmanideepmanideepmanideepmanideepmanideepmanideepmanideepmanideepmanideepmanideepmanideepmanideepmanideepmanideepmanideepmanideepmanideepmanideepmanideepmanideepmanideepmanideepmanideepmanideepmanideepmanideepmanideepmanideepmanideepmanideepmanideepmanideepmanideepmanideepmanideepmanideepmanideepmanideepmanideepmanideepmanideepmanideepmanideepmanideepmanideepmanideepmanideepmanideepmanideepmanideepmanideepmanideepmanideepmanideepmanideepmanid'"
   ]
  },
  {
   "cell_type": "code",
   "execution_count": 28,
   "metadata": {},
   "outputs": [],
   "source": [
    "from docx import Document\n",
    "from docx.shared import Inches,Pt\n",
    "\n",
    "document = Document()\n",
    "\n",
    "document.add_heading('Document Title', 0)\n",
    "run = document.add_paragraph(s).add_run()\n",
    "font = run.font\n",
    "font.size =Pt(1)\n",
    "p = document.add_paragraph()\n",
    "\n",
    "#p = document.add_paragraph('A plain paragraph having someThis chapter introduces the concept of representation, or the construction ofa digital model of some aspect of the Earth’s surface. Representations havemany uses, because they allow us to learn, think, and reason about placesand times that are outside our immediate experience. This is the basis ofscientific research, planning, and many forms of day-to-day problem solving.')\n",
    "p.add_run('bold').bold = True\n",
    "p.add_run(' and some ')\n",
    "p.add_run('italic.').italic = True\n",
    "\n",
    "document.add_heading('Heading, level 1', level=1)\n",
    "document.add_paragraph('Intense quote', style='IntenseQuote')\n",
    "\n",
    "document.add_paragraph(\n",
    "    'first item in unordered list', style='ListBullet'\n",
    ")\n",
    "document.add_paragraph(\n",
    "    'first item in ordered list', style='ListNumber'\n",
    ")\n",
    "document.add_page_break()\n",
    "\n",
    "document.save('demo3.docx')\n",
    "#document.add_picture('monty-truth.png', width=Inches(1.25))\n",
    "\n",
    "#"
   ]
  },
  {
   "cell_type": "code",
   "execution_count": 7,
   "metadata": {},
   "outputs": [],
   "source": [
    "from docx import Document\n",
    "from docx.shared import RGBColor,Pt\n",
    "document = Document()\n",
    "run2 = document.add_paragraph()\n",
    "for j in range(100):\n",
    "    f=img[j*2][::2]\n",
    "    \n",
    "    for i in range(685):\n",
    "        run=run2.add_run(x[i])\n",
    "        font = run.font\n",
    "        font.size =Pt(1)\n",
    "        font.color.rgb = RGBColor(int(f[i][0]),int(f[i][1]),int(f[i][2]))\n",
    "document.save('demo10.docx')"
   ]
  },
  {
   "cell_type": "code",
   "execution_count": 86,
   "metadata": {},
   "outputs": [
    {
     "data": {
      "text/plain": [
       "685"
      ]
     },
     "execution_count": 86,
     "metadata": {},
     "output_type": "execute_result"
    }
   ],
   "source": [
    "z='pmanid'\n",
    "691-len(z)"
   ]
  },
  {
   "cell_type": "code",
   "execution_count": 80,
   "metadata": {},
   "outputs": [
    {
     "data": {
      "text/plain": [
       "58"
      ]
     },
     "execution_count": 80,
     "metadata": {},
     "output_type": "execute_result"
    }
   ],
   "source": [
    "a=[1,2,3,4,5,6,7,8,9]\n",
    "len(img[1][::25])"
   ]
  }
 ],
 "metadata": {
  "kernelspec": {
   "display_name": "Python 2",
   "language": "python",
   "name": "python2"
  },
  "language_info": {
   "codemirror_mode": {
    "name": "ipython",
    "version": 2
   },
   "file_extension": ".py",
   "mimetype": "text/x-python",
   "name": "python",
   "nbconvert_exporter": "python",
   "pygments_lexer": "ipython2",
   "version": "2.7.12"
  }
 },
 "nbformat": 4,
 "nbformat_minor": 2
}
