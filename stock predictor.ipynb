{
 "cells": [
  {
   "cell_type": "code",
   "execution_count": 1,
   "metadata": {},
   "outputs": [],
   "source": [
    "import csv\n",
    "import numpy as np,matplotlib.pyplot as plt\n",
    "from sklearn.svm import SVR as svr"
   ]
  },
  {
   "cell_type": "code",
   "execution_count": 44,
   "metadata": {},
   "outputs": [],
   "source": [
    "\n",
    "f=open('msft.csv', 'rb')\n",
    "r = csv.reader(f)\n",
    "ffg=open('msft.csv', 'rb')\n",
    "drt=csv.reader(ffg)\n",
    "d=list(drt)\n",
    "nex=len(d)\n",
    "i=nex-1\n",
    "next(r)\n",
    "#i=1;\n",
    "dates=[]\n",
    "ope=[]\n",
    "high=[]\n",
    "low=[]\n",
    "close=[]\n",
    "for row in r:\n",
    "    dates.append(i)#int(row[0].split('-')[0]))\n",
    "    ope.append(float(row[1]));i-=1\n",
    "    high.append(float(row[2]))\n",
    "    low.append(float(row[3]))\n",
    "    close.append(float(row[4]))\n"
   ]
  },
  {
   "cell_type": "code",
   "execution_count": 45,
   "metadata": {
    "collapsed": true
   },
   "outputs": [],
   "source": [
    "dates = np.reshape(dates,(len(dates),1))"
   ]
  },
  {
   "cell_type": "code",
   "execution_count": 46,
   "metadata": {
    "collapsed": true
   },
   "outputs": [
    {
     "data": {
      "text/plain": [
       "'svr_len = svr(kernel=\\'linear\\',C=1e3)\\nsvr_poly=svr(kernel=\\'poly\\',C=1e3,degree=2)\\nsvr_rbf =svr(kernel=\\'rbf\\',C=1e3,gamma=0.1)\\nsvr_len.fit(dates,prices)\\nsvr_poly.fit(dates,prices)\\nsvr_rbf.fit(dates,prices)\\n\\nplt.scatter(dates,prices,color=\"black\",label=\\'Date\\')\\nplt.plot(dates,svr_rbf.predict(dates),color=\\'red\\',label=\\'RBF model\\')\\nplt.plot(dates,svr_len.predict(dates),color=\\'green\\',label=\\'Linear model\\')\\nplt.plot(dates,svr_poly.predict(dates),color=\\'blue\\',label=\\'Polynomial model\\')\\nplt.xlabel(\\'date\\')\\nplt.ylabel(\\'Price\\')\\nplt.title(\\'Support Vector Regression\\')\\nplt.legend()\\nplt.show()'"
      ]
     },
     "execution_count": 46,
     "metadata": {},
     "output_type": "execute_result"
    }
   ],
   "source": [
    "'''svr_len = svr(kernel='linear',C=1e3)\n",
    "svr_poly=svr(kernel='poly',C=1e3,degree=2)\n",
    "svr_rbf =svr(kernel='rbf',C=1e3,gamma=0.1)\n",
    "svr_len.fit(dates,prices)\n",
    "svr_poly.fit(dates,prices)\n",
    "svr_rbf.fit(dates,prices)\n",
    "\n",
    "plt.scatter(dates,prices,color=\"black\",label='Date')\n",
    "plt.plot(dates,svr_rbf.predict(dates),color='red',label='RBF model')\n",
    "plt.plot(dates,svr_len.predict(dates),color='green',label='Linear model')\n",
    "plt.plot(dates,svr_poly.predict(dates),color='blue',label='Polynomial model')\n",
    "plt.xlabel('date')\n",
    "plt.ylabel('Price')\n",
    "plt.title('Support Vector Regression')\n",
    "plt.legend()\n",
    "plt.show()'''"
   ]
  },
  {
   "cell_type": "code",
   "execution_count": 47,
   "metadata": {},
   "outputs": [],
   "source": [
    "svr_rbf =svr(kernel='rbf',C=1e3,gamma=0.1)"
   ]
  },
  {
   "cell_type": "code",
   "execution_count": 49,
   "metadata": {},
   "outputs": [
    {
     "name": "stdout",
     "output_type": "stream",
     "text": [
      "[ 72.08153867]\n"
     ]
    }
   ],
   "source": [
    "svr_rbf.fit(dates,ope)\n",
    "print svr_rbf.predict(nex)[0]"
   ]
  },
  {
   "cell_type": "code",
   "execution_count": 50,
   "metadata": {},
   "outputs": [
    {
     "name": "stdout",
     "output_type": "stream",
     "text": [
      "72.8286360592\n"
     ]
    }
   ],
   "source": [
    "svr_rbf.fit(dates,high)\n",
    "print svr_rbf.predict(nex)[0]"
   ]
  },
  {
   "cell_type": "code",
   "execution_count": 51,
   "metadata": {},
   "outputs": [
    {
     "name": "stdout",
     "output_type": "stream",
     "text": [
      "71.3828259032\n"
     ]
    }
   ],
   "source": [
    "svr_rbf.fit(dates,low)\n",
    "print svr_rbf.predict(nex)[0]"
   ]
  },
  {
   "cell_type": "code",
   "execution_count": 52,
   "metadata": {},
   "outputs": [
    {
     "name": "stdout",
     "output_type": "stream",
     "text": [
      "71.6303542672\n"
     ]
    }
   ],
   "source": [
    "svr_rbf.fit(dates,close)\n",
    "print svr_rbf.predict(nex)[0]"
   ]
  },
  {
   "cell_type": "code",
   "execution_count": 43,
   "metadata": {},
   "outputs": [],
   "source": [
    "hye=close\n",
    "svr_rbf.fit(dates,hye)\n",
    "f,ax=plt.subplots(figsize=[25,15])\n",
    "ax.scatter(dates,hye,color=\"black\",label='Date')\n",
    "ax.plot(dates,svr_rbf.predict(dates),color='red',label='RBF model')\n",
    "ax.set_xlabel('date')\n",
    "ax.set_ylabel('Price')\n",
    "ax.set_title('Support Vector Regression,close')\n",
    "ax.legend()\n",
    "plt.savefig('apple_stock_'+str(er));er+=1"
   ]
  }
 ],
 "metadata": {
  "kernelspec": {
   "display_name": "Python 2",
   "language": "python",
   "name": "python2"
  },
  "language_info": {
   "codemirror_mode": {
    "name": "ipython",
    "version": 2
   },
   "file_extension": ".py",
   "mimetype": "text/x-python",
   "name": "python",
   "nbconvert_exporter": "python",
   "pygments_lexer": "ipython2",
   "version": "2.7.12"
  }
 },
 "nbformat": 4,
 "nbformat_minor": 2
}
