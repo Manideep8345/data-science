{
 "cells": [
  {
   "cell_type": "code",
   "execution_count": null,
   "metadata": {},
   "outputs": [],
   "source": [
    "import socket as s\n",
    "host=s.gethostname()\n",
    "sersot = s.socket(s.AF_INET, s.SOCK_STREAM)\n",
    "sersot.setsockopt(s.SOL_SOCKET,s.SO_REUSEADDR,1)\n",
    "sersot.bind((host,8845))\n",
    "sersot.listen(5)\n",
    "i=0\n",
    "while True:\n",
    "    #print \"i=\"+str(i)\n",
    "    client,addr=sersot.accept()\n",
    "    #print client,addr\n",
    "    print client.recv(1024)\n",
    "    i+=1"
   ]
  },
  {
   "cell_type": "code",
   "execution_count": 1,
   "metadata": {
    "scrolled": false
   },
   "outputs": [
    {
     "name": "stdout",
     "output_type": "stream",
     "text": [
      "Got connection from ('192.168.43.1', 58848)\n",
      "Receiving...\n",
      "time 0.041014\n",
      "Done Receiving\n",
      "Got connection from ('192.168.43.1', 58848)\n",
      "Receiving...\n"
     ]
    },
    {
     "ename": "error",
     "evalue": "[Errno 9] Bad file descriptor",
     "output_type": "error",
     "traceback": [
      "\u001b[0;31m---------------------------------------------------------------------------\u001b[0m",
      "\u001b[0;31merror\u001b[0m                                     Traceback (most recent call last)",
      "\u001b[0;32m<ipython-input-1-9260273a58d1>\u001b[0m in \u001b[0;36m<module>\u001b[0;34m()\u001b[0m\n\u001b[1;32m     18\u001b[0m     \u001b[0;32mprint\u001b[0m \u001b[0;34m'Got connection from'\u001b[0m\u001b[0;34m,\u001b[0m \u001b[0maddr\u001b[0m\u001b[0;34m\u001b[0m\u001b[0m\n\u001b[1;32m     19\u001b[0m     \u001b[0;32mprint\u001b[0m \u001b[0;34m\"Receiving...\"\u001b[0m\u001b[0;34m\u001b[0m\u001b[0m\n\u001b[0;32m---> 20\u001b[0;31m     \u001b[0ml\u001b[0m \u001b[0;34m=\u001b[0m \u001b[0mc\u001b[0m\u001b[0;34m.\u001b[0m\u001b[0mrecv\u001b[0m\u001b[0;34m(\u001b[0m\u001b[0;36m1024\u001b[0m\u001b[0;34m)\u001b[0m\u001b[0;34m\u001b[0m\u001b[0m\n\u001b[0m\u001b[1;32m     21\u001b[0m     \u001b[0;32mwhile\u001b[0m \u001b[0;34m(\u001b[0m\u001b[0ml\u001b[0m\u001b[0;34m)\u001b[0m\u001b[0;34m:\u001b[0m\u001b[0;34m\u001b[0m\u001b[0m\n\u001b[1;32m     22\u001b[0m         \u001b[0;31m#print \"Receiving...\"\u001b[0m\u001b[0;34m\u001b[0m\u001b[0;34m\u001b[0m\u001b[0m\n",
      "\u001b[0;32m/usr/lib/python2.7/socket.pyc\u001b[0m in \u001b[0;36m_dummy\u001b[0;34m(*args)\u001b[0m\n\u001b[1;32m    172\u001b[0m     \u001b[0m__slots__\u001b[0m \u001b[0;34m=\u001b[0m \u001b[0;34m[\u001b[0m\u001b[0;34m]\u001b[0m\u001b[0;34m\u001b[0m\u001b[0m\n\u001b[1;32m    173\u001b[0m     \u001b[0;32mdef\u001b[0m \u001b[0m_dummy\u001b[0m\u001b[0;34m(\u001b[0m\u001b[0;34m*\u001b[0m\u001b[0margs\u001b[0m\u001b[0;34m)\u001b[0m\u001b[0;34m:\u001b[0m\u001b[0;34m\u001b[0m\u001b[0m\n\u001b[0;32m--> 174\u001b[0;31m         \u001b[0;32mraise\u001b[0m \u001b[0merror\u001b[0m\u001b[0;34m(\u001b[0m\u001b[0mEBADF\u001b[0m\u001b[0;34m,\u001b[0m \u001b[0;34m'Bad file descriptor'\u001b[0m\u001b[0;34m)\u001b[0m\u001b[0;34m\u001b[0m\u001b[0m\n\u001b[0m\u001b[1;32m    175\u001b[0m     \u001b[0;31m# All _delegate_methods must also be initialized here.\u001b[0m\u001b[0;34m\u001b[0m\u001b[0;34m\u001b[0m\u001b[0m\n\u001b[1;32m    176\u001b[0m     \u001b[0msend\u001b[0m \u001b[0;34m=\u001b[0m \u001b[0mrecv\u001b[0m \u001b[0;34m=\u001b[0m \u001b[0mrecv_into\u001b[0m \u001b[0;34m=\u001b[0m \u001b[0msendto\u001b[0m \u001b[0;34m=\u001b[0m \u001b[0mrecvfrom\u001b[0m \u001b[0;34m=\u001b[0m \u001b[0mrecvfrom_into\u001b[0m \u001b[0;34m=\u001b[0m \u001b[0m_dummy\u001b[0m\u001b[0;34m\u001b[0m\u001b[0m\n",
      "\u001b[0;31merror\u001b[0m: [Errno 9] Bad file descriptor"
     ]
    }
   ],
   "source": [
    "import socket               # Import socket module\n",
    "import time as T\n",
    "\n",
    "s = socket.socket()         # Create a socket object\n",
    "host = socket.gethostname() # Get local machine name\n",
    "port = 12345                 # Reserve a port for your service.\n",
    "s.bind((\"\", port))        # Bind to the port\n",
    "\n",
    "s.listen(5)                 # Now wait for client connection.\n",
    "# Establish connection with client.\n",
    "aw=1\n",
    "c, addr = s.accept()\n",
    "f = open('pics.zip','wb')\n",
    "while True :\n",
    "    t = T.clock()\n",
    "    #f = open('torecv_'+str(aw)+'.png','wb')\n",
    "    \n",
    "    print 'Got connection from', addr\n",
    "    print \"Receiving...\"\n",
    "    l = c.recv(1024)\n",
    "    while (l):\n",
    "        #print \"Receiving...\"\n",
    "        f.write(l)\n",
    "        l = c.recv(1024)\n",
    "    f.close()\n",
    "    #aw+=1\n",
    "    print 'time',T.clock()-t\n",
    "    print \"Done Receiving\"\n",
    "    c.send('Thank you for connecting')\n",
    "    c.close()                # Close the connection"
   ]
  },
  {
   "cell_type": "code",
   "execution_count": null,
   "metadata": {},
   "outputs": [],
   "source": [
    "import socket\n",
    "import thread\n",
    "import hashlib\n",
    "\n",
    "serversock = socket.socket()\n",
    "host = socket.gethostname();\n",
    "port = 9000;\n",
    "serversock.bind((host,port));\n",
    "filename = \"\"\n",
    "serversock.listen(10);\n",
    "print \"Waiting for a connection.....\"\n",
    "\n",
    "clientsocket,addr = serversock.accept()\n",
    "print(\"Got a connection from %s\" % str(addr))\n",
    "while True:\n",
    "    size = clientsocket.recv(16) # Note that you limit your filename length to 255 bytes.\n",
    "    if not size:\n",
    "        break\n",
    "    size = int(size, 2)\n",
    "    filename = clientsocket.recv(size)\n",
    "    filesize = clientsocket.recv(32)\n",
    "    filesize = int(filesize, 2)\n",
    "    file_to_write = open(filename, 'wb')\n",
    "    chunksize = 4096\n",
    "    while filesize > 0:\n",
    "        if filesize < chunksize:\n",
    "            chunksize = filesize\n",
    "        data = clientsocket.recv(chunksize)\n",
    "        file_to_write.write(data)\n",
    "        filesize -= chunksize\n",
    "\n",
    "    file_to_write.close()\n",
    "    print 'File received successfully'\n",
    "serversock.close()"
   ]
  }
 ],
 "metadata": {
  "kernelspec": {
   "display_name": "Python 2",
   "language": "python",
   "name": "python2"
  },
  "language_info": {
   "codemirror_mode": {
    "name": "ipython",
    "version": 2
   },
   "file_extension": ".py",
   "mimetype": "text/x-python",
   "name": "python",
   "nbconvert_exporter": "python",
   "pygments_lexer": "ipython2",
   "version": "2.7.12"
  }
 },
 "nbformat": 4,
 "nbformat_minor": 2
}
