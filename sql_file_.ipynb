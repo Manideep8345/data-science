{
 "cells": [
  {
   "cell_type": "code",
   "execution_count": 1,
   "metadata": {},
   "outputs": [],
   "source": [
    "import mysql.connector as sql,pandas as pd,os"
   ]
  },
  {
   "cell_type": "code",
   "execution_count": 8,
   "metadata": {},
   "outputs": [
    {
     "name": "stdout",
     "output_type": "stream",
     "text": [
      "['kingsman-the-secret-service.720p.BluRay.x264.YIFY.srt', '13.R', 'img5.jpg', 'Hero.m4a', 'songs', 'hotfuzz.mp4', 'arjun_reddy.mp4', 'index.html', 'Silver_Linings_Playbook.mp4', 'spectacular_now.mp4', 'The Lazy Song.mp3', 'The Founder.mp4', 'deepwater.mp4', 'dance.html', 'Chef.mp4', 'Django Unchained.mp4', 'Kingsman.mp4', 'index1.html', 'Manchester by the Sea.mp4', 'ML', 'Yari.m4a', 'video.php', 'friction', 'motivation', 'Dirty Grandpa.mp4', 'table.js', 'okja.mkv', 'iit_girl_dance.mp4', 'Troy.mp4', 'Premam [2015].mkv']\n"
     ]
    }
   ],
   "source": [
    "path = '/home/mandy8345/www/video'\n",
    "files = os.listdir(path)\n",
    "print files\n"
   ]
  },
  {
   "cell_type": "code",
   "execution_count": 17,
   "metadata": {},
   "outputs": [
    {
     "name": "stdout",
     "output_type": "stream",
     "text": [
      "'/home/mandy8345/www/video','kingsman-the-secret-service.720p.BluRay.x264.YIFY.srt'\n"
     ]
    }
   ],
   "source": [
    "s=\"'\"+path+\"','\"+files[0]+\"'\"\n",
    "print s"
   ]
  },
  {
   "cell_type": "code",
   "execution_count": 28,
   "metadata": {},
   "outputs": [],
   "source": [
    "db_connection = sql.connect(database='test_db', user='root', password='mysql')\n",
    "db_cursor = db_connection.cursor()"
   ]
  },
  {
   "cell_type": "code",
   "execution_count": 22,
   "metadata": {},
   "outputs": [],
   "source": [
    "db_cursor.execute('desc files_;')"
   ]
  },
  {
   "cell_type": "code",
   "execution_count": 31,
   "metadata": {},
   "outputs": [],
   "source": [
    "db_cursor.execute(\"insert into files_(path,name) values (\"+s+\");\")\n",
    "db_connection.commit()"
   ]
  },
  {
   "cell_type": "code",
   "execution_count": 29,
   "metadata": {},
   "outputs": [],
   "source": [
    "db_cursor.execute('select * from files_;')"
   ]
  },
  {
   "cell_type": "code",
   "execution_count": 30,
   "metadata": {},
   "outputs": [
    {
     "name": "stdout",
     "output_type": "stream",
     "text": [
      "Empty DataFrame\n",
      "Columns: []\n",
      "Index: []\n"
     ]
    }
   ],
   "source": [
    "table_rows = db_cursor.fetchall()\n",
    "df = pd.DataFrame(table_rows)\n",
    "print df\n",
    "ma = df.as_matrix()\n",
    "#print ma"
   ]
  },
  {
   "cell_type": "code",
   "execution_count": 27,
   "metadata": {},
   "outputs": [],
   "source": [
    "db_connection.close()"
   ]
  }
 ],
 "metadata": {
  "kernelspec": {
   "display_name": "Python 2",
   "language": "python",
   "name": "python2"
  },
  "language_info": {
   "codemirror_mode": {
    "name": "ipython",
    "version": 2
   },
   "file_extension": ".py",
   "mimetype": "text/x-python",
   "name": "python",
   "nbconvert_exporter": "python",
   "pygments_lexer": "ipython2",
   "version": "2.7.12"
  }
 },
 "nbformat": 4,
 "nbformat_minor": 2
}
