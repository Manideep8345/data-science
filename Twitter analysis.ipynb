{
 "cells": [
  {
   "cell_type": "code",
   "execution_count": 1,
   "metadata": {},
   "outputs": [],
   "source": [
    "import tweepy\n",
    "from textblob import TextBlob\n",
    "\n",
    "consumer_key ='3x3L1TolVs81Evcsw5LyNWVy6'\n",
    "consumer_secret='nEd1ympst8z06kSOU7o9T3wXeDPRCHbTAEVNRiL1YwFMsYhAJK'\n",
    "\n",
    "access_token='791243854057832449-wUDssGgHkdfYZtKBrzZeTn0sctyf7I0'\n",
    "access_secret='PYZM9yn6XltxptfPinoOQeIAQANlBDwOBJZPzf4PArlRo'\n",
    "auth = tweepy.OAuthHandler(consumer_key,consumer_secret)\n",
    "auth.set_access_token(access_token,access_secret)\n",
    "\n",
    "api =tweepy.API(auth)\n"
   ]
  },
  {
   "cell_type": "code",
   "execution_count": 2,
   "metadata": {},
   "outputs": [
    {
     "name": "stdout",
     "output_type": "stream",
     "text": [
      "RT @GouseJilaniAA: It's just a First Impact...🙏👌\n",
      "Picture abhi baaki hai meri dost😎\n",
      "\n",
      "Terrific Response for @alluarjun 's #NSNIFirstImpact in…\n",
      "0.125 0.666666666667\n",
      "RT @AishAArjun: DJ Appudu \n",
      "#DislikeJagannadam \n",
      "#DisasterJagannadam Ani -ve Trends Chesaru Pk Fans But #Agnyaathavaasi Trailer ki kani movie…\n",
      "0.0 0.0\n",
      "RT @swaroop_19: PK full length gay role in #Agnyaathavaasi \n",
      "Nata Vishwaroopam 👍\n",
      "0.383333333333 0.566666666667\n",
      "RT @memahima: #Agnyaathavaasi\n",
      "Waste!\n",
      "Even though the trailer wasn't that impressive I didn't expect this from Trivikram &amp; PSPK\n",
      "0.375 0.5\n",
      "RT @RaaviNtr: #Agnyaathavaasi Gudivada 3 shows gross 11.7 lakhs (inc 3 night shows) #JaiLavaKusa Still Non Bb day 1 with out night shows 😎\n",
      "0.0 0.0\n",
      "RT @CHANDUPSPKFAN: #Agnyaathavaasi  #KodakaaKoteswarRao song Racha Att crazy packes 🙏😍 #AgnyaathavaasiStorm https://t.co/XihdrhCtRZ\n",
      "-0.6 0.9\n",
      "Most of us thought, a premier fig around 1.2 M USD would be astoundingly great due to the bad weather conditions or… https://t.co/sq73Z7Bs8l\n",
      "0.11875 0.572916666667\n",
      "RT @PowerTollywood: Idhi valla brathuku \n",
      "#Agnyaathavaasi https://t.co/WB69nMi5RZ\n",
      "0.0 0.0\n",
      "RT @taran_adarsh: Telugu film #Agnyaathavaasi takes a FANTABULOUS START in USA... Tue previews $ 1,513,540 [₹ 9.65 cr]... Yes, you read it…\n",
      "0.0 0.0\n",
      "RT @MaheshhKathi: Since many of you asked for a brief review.......\n",
      "#Agnyaathavaasi https://t.co/MXuSldirhU\n",
      "0.25 0.416666666667\n",
      "RT @santoshyadav593: #PowerfulBlockbusterAGNYAATHAVAASI\n",
      "#AgnyaathavaasiStorm \n",
      "#Agnyaathavaasi https://t.co/2zxzXulBbm\n",
      "0.0 0.0\n",
      "RT @The_Juvenile: Fans and cults after watching \n",
      "#Agnyaathavaasi https://t.co/elpswBE7Dd\n",
      "0.0 0.0\n",
      "RT @taran_adarsh: Call it a STORM... Or call it a TSUNAMI or a TYPHOON... Fact is, a Telugu stands TALL at USA Boxoffice along with Hollywo…\n",
      "0.0 0.0\n",
      "RT @Anupsiwach98: #CBSE\n",
      "#Agnyaathavaasi\n",
      "#Quetta\n",
      "@cmohry\n",
      "@SatlokAshram\n",
      "#HrithikRoshan\n",
      "#अंधश्रद्धाभक्ति_खतरा_ए_जान\n",
      "#जिंदगी_बदल_गई\n",
      "#BeSpiritua…\n",
      "0.0 0.0\n",
      "Anirudh padda kashtam motham mannulo kalipesadu ga Guruji.. #Agnyaathavaasi 🎵\n",
      "0.0 0.0\n",
      "RT @ntr4ever: Naatakalu dengamaku nijam cheppu anta venaka voice ROFL #Agnyaathavaasi 😂 https://t.co/k2bmrR4p8h\n",
      "0.8 0.9\n",
      "RT @THEPANIPURI: #Agnyaathavaasi  #USA🇺🇸 Wednesday (01/10) Gross till 10:45 AM EST!\n",
      "\n",
      "$73,353 from 226 Locations.\n",
      "\n",
      "Premiers  Gross-$1,516,78…\n",
      "0.0 0.0\n",
      "RT @taran_adarsh: Telugu film #Agnyaathavaasi takes a FANTABULOUS START in USA... Tue previews $ 1,513,540 [₹ 9.65 cr]... Yes, you read it…\n",
      "0.0 0.0\n",
      "RT @SidduOfficial: Thank you Sharma... \n",
      "Welcome Varma...  😂\n",
      "\n",
      "  #Agnyaathavaasi\n",
      "0.8 0.9\n",
      "RT @MaheshSoldiers: Ah public talk video lu chusthunte navvu aagatledhu 😂😂😂\n",
      "Trivikram ni Pk ni analeka Anirudh ni antunnaru 🙏🙏🙏\n",
      "\n",
      "#Agnyaatha…\n",
      "0.0 0.0666666666667\n",
      "RT @actorsrikanth: My Best Wishes to @PawanKalyan and entire team of #Agnyaathavaasi...👍👍👍 https://t.co/wCn1Xc4BMf\n",
      "0.5 0.4625\n",
      "RT @HaldkarKrishna: #BeSpiritual \n",
      "Without faith on the Almighty God, it's impossible to get closer to him. \n",
      "\n",
      "#AbkiBarDharmikBhrashtachar\n",
      "#W…\n",
      "-0.666666666667 1.0\n",
      "RT @idlebrainjeevi: #Agnyaathavaasi early morning total for Wednesday (10 Jan) in USA at 7:30 am PST is $73,353 in 226 centres. Superb! 🇺🇸👍…\n",
      "0.366666666667 0.683333333333\n",
      "RT @Jerome_Salle: Screening at #LeBrady tonight. Great atmosphere thanks to the audience. I could‘ve loved the movie but unfortunately the…\n",
      "0.3 0.6875\n",
      "RT @PakkaTollywood: Done with #USA premiers it's time for ap/tg collections \n",
      "#Agnyaathavaasi https://t.co/k85JA9BDXO\n",
      "0.0 0.0\n",
      "RT @Sumanth__: pk  road cross chesthunte road meeda velthunna evadi bike no lepesi ( bike meeda person unda ga,while driving ) padeyadam en…\n",
      "0.0 0.0\n",
      "RT @sunilPoluri: I have watched #Agnyaathavaasi at 8am in the morning felt little low because of hyped expectations so decided watch it aga…\n",
      "-0.09375 0.4\n",
      "RT @taran_adarsh: Call it a STORM... Or call it a TSUNAMI or a TYPHOON... Fact is, a Telugu stands TALL at USA Boxoffice along with Hollywo…\n",
      "0.0 0.0\n",
      "RT @RaaviNtr: #Agnyaathavaasi Gudivada 3 shows gross 11.7 lakhs (inc 3 night shows) #JaiLavaKusa Still Non Bb day 1 with out night shows 😎\n",
      "0.0 0.0\n",
      "RT @surendra_Bza: Vij city 1st &amp; 2nd shows \n",
      "\n",
      "9/9 fulls #Agnyaathavaasi 🙏\n",
      "0.0 0.0\n"
     ]
    }
   ],
   "source": [
    "pb_tweet = api.search(q='Agnyaathavaasi',count=30)  #max count 100\n",
    "for tweet in pb_tweet:\n",
    "    print tweet.text\n",
    "    #print TextBlob(tweet.text)\n",
    "    print TextBlob(tweet.text).sentiment.polarity,TextBlob(tweet.text).sentiment.subjectivity"
   ]
  },
  {
   "cell_type": "code",
   "execution_count": 11,
   "metadata": {
    "collapsed": true
   },
   "outputs": [
    {
     "name": "stdout",
     "output_type": "stream",
     "text": [
      "0.0\n",
      "-0.6\n",
      "0.25\n",
      "0.0\n",
      "0.118181818182\n",
      "0.0\n",
      "0.0\n",
      "0.0\n",
      "0.0\n",
      "1.0\n",
      "0.0\n",
      "0.0\n",
      "0.22\n",
      "0.0\n",
      "0.3\n"
     ]
    }
   ],
   "source": [
    "pb_tweet = api.search('deep learning')\n",
    "for tweet in pb_tweet:\n",
    "    #print tweet.text\n",
    "    analysis = TextBlob(tweet.text)\n",
    "    print analysis.sentiment.polarity"
   ]
  },
  {
   "cell_type": "code",
   "execution_count": 4,
   "metadata": {},
   "outputs": [
    {
     "name": "stdout",
     "output_type": "stream",
     "text": [
      "['m']\n"
     ]
    }
   ],
   "source": [
    "from sklearn import tree\n",
    "#[height,weight,shoe size]\n",
    "x= [[181,80,44],[177,70,43],[160,60,38],[154,54,37],[166,65,40],\n",
    "    [190,90,47],[175,64,39],[177,70,40],[159,55,37],[171,75,42],[181,85,43]]\n",
    "y=['m','f','f','f','m','m','m','f','m','f','m']\n",
    "clf=tree.DecisionTreeClassifier()\n",
    "clf = clf.fit(x,y)\n",
    "pre = clf.predict([[190,70,43]])\n",
    "print pre"
   ]
  },
  {
   "cell_type": "code",
   "execution_count": 4,
   "metadata": {},
   "outputs": [
    {
     "name": "stdout",
     "output_type": "stream",
     "text": [
      "[{u'name': u'India', u'countryCode': u'IN', u'url': u'http://where.yahooapis.com/v1/place/23424848', u'country': u'India', u'parentid': 1, u'placeType': {u'code': 12, u'name': u'Country'}, u'woeid': 23424848}]\n"
     ]
    }
   ],
   "source": [
    "st = api.trends_closest(17.68,83.21)\n",
    "print st"
   ]
  },
  {
   "cell_type": "code",
   "execution_count": 5,
   "metadata": {},
   "outputs": [
    {
     "name": "stderr",
     "output_type": "stream",
     "text": [
      "[INFO   ] [Logger      ] Record log in /home/manideep8345/.kivy/logs/kivy_17-08-27_0.txt\n",
      "[INFO   ] [Kivy        ] v1.10.0\n",
      "[INFO   ] [Python      ] v2.7.12 (default, Nov 19 2016, 06:48:10) \n",
      "[GCC 5.4.0 20160609]\n"
     ]
    }
   ],
   "source": [
    "import kivy"
   ]
  }
 ],
 "metadata": {
  "kernelspec": {
   "display_name": "Python 2",
   "language": "python",
   "name": "python2"
  },
  "language_info": {
   "codemirror_mode": {
    "name": "ipython",
    "version": 2
   },
   "file_extension": ".py",
   "mimetype": "text/x-python",
   "name": "python",
   "nbconvert_exporter": "python",
   "pygments_lexer": "ipython2",
   "version": "2.7.12"
  }
 },
 "nbformat": 4,
 "nbformat_minor": 2
}
