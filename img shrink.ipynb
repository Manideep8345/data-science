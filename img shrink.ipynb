{
 "cells": [
  {
   "cell_type": "code",
   "execution_count": 1,
   "metadata": {},
   "outputs": [],
   "source": [
    "import cv2\n",
    "import numpy as np\n",
    "import time as T"
   ]
  },
  {
   "cell_type": "code",
   "execution_count": 2,
   "metadata": {},
   "outputs": [],
   "source": [
    "name=\"icon_test2.png\"\n",
    "g=cv2.imread(name)"
   ]
  },
  {
   "cell_type": "code",
   "execution_count": 17,
   "metadata": {},
   "outputs": [
    {
     "data": {
      "text/plain": [
       "(20, 20)"
      ]
     },
     "execution_count": 17,
     "metadata": {},
     "output_type": "execute_result"
    }
   ],
   "source": [
    "len(qtr),len(qtr[0])"
   ]
  },
  {
   "cell_type": "code",
   "execution_count": 16,
   "metadata": {},
   "outputs": [],
   "source": [
    "qtr=g[0:40:2,0:40:2]"
   ]
  },
  {
   "cell_type": "code",
   "execution_count": 56,
   "metadata": {},
   "outputs": [
    {
     "data": {
      "text/plain": [
       "163"
      ]
     },
     "execution_count": 56,
     "metadata": {},
     "output_type": "execute_result"
    }
   ],
   "source": [
    "#len(f),len(f[1])/3\n",
    "int(np.mean(c0))"
   ]
  },
  {
   "cell_type": "code",
   "execution_count": 44,
   "metadata": {},
   "outputs": [],
   "source": [
    "c0=f[:,:,0]\n",
    "c1=f[:,:,1]\n",
    "c2=f[:,:,2]"
   ]
  },
  {
   "cell_type": "code",
   "execution_count": 46,
   "metadata": {
    "collapsed": true
   },
   "outputs": [
    {
     "data": {
      "text/plain": [
       "array([[[ 80,  10, 139],\n",
       "        [ 80,  10, 139],\n",
       "        [ 80,  10, 139],\n",
       "        ..., \n",
       "        [150,  56, 104],\n",
       "        [150,  56, 102],\n",
       "        [151,  57, 103]],\n",
       "\n",
       "       [[ 80,  10, 139],\n",
       "        [ 80,  10, 139],\n",
       "        [ 80,  10, 139],\n",
       "        ..., \n",
       "        [151,  56, 103],\n",
       "        [151,  57, 103],\n",
       "        [151,  56, 103]],\n",
       "\n",
       "       [[ 80,  10, 139],\n",
       "        [ 80,  10, 139],\n",
       "        [ 80,  10, 139],\n",
       "        ..., \n",
       "        [151,  57, 103],\n",
       "        [150,  56, 102],\n",
       "        [151,  57, 103]],\n",
       "\n",
       "       ..., \n",
       "       [[143,  52, 107],\n",
       "        [144,  52, 106],\n",
       "        [144,  52, 107],\n",
       "        ..., \n",
       "        [139, 226, 255],\n",
       "        [139, 226, 255],\n",
       "        [139, 226, 255]],\n",
       "\n",
       "       [[142,  51, 107],\n",
       "        [144,  52, 106],\n",
       "        [144,  52, 106],\n",
       "        ..., \n",
       "        [139, 226, 255],\n",
       "        [139, 226, 255],\n",
       "        [139, 226, 255]],\n",
       "\n",
       "       [[143,  52, 107],\n",
       "        [144,  52, 106],\n",
       "        [144,  52, 107],\n",
       "        ..., \n",
       "        [139, 226, 255],\n",
       "        [139, 226, 255],\n",
       "        [139, 226, 255]]], dtype=uint8)"
      ]
     },
     "execution_count": 46,
     "metadata": {},
     "output_type": "execute_result"
    }
   ],
   "source": [
    "d=f[0:300,0:300]\n",
    "d"
   ]
  },
  {
   "cell_type": "code",
   "execution_count": 105,
   "metadata": {},
   "outputs": [
    {
     "data": {
      "text/plain": [
       "(76.333333333333329, array([[[ 80,  10, 139],\n",
       "         [ 80,  10, 139]]], dtype=uint8))"
      ]
     },
     "execution_count": 105,
     "metadata": {},
     "output_type": "execute_result"
    }
   ],
   "source": [
    "np.mean(f[1:2,2:4]),f[1:2,2:4]"
   ]
  },
  {
   "cell_type": "code",
   "execution_count": 127,
   "metadata": {},
   "outputs": [
    {
     "name": "stdout",
     "output_type": "stream",
     "text": [
      " 0 360 120 time :  7.325696\n"
     ]
    }
   ],
   "source": [
    "t=T.clock()\n",
    "f=g\n",
    "yu=3\n",
    "for k in range(0,3):\n",
    "    print len(rty),\n",
    "    rty=[]\n",
    "    for i in range(0,len(f),yu):\n",
    "        lop=[]\n",
    "        for j in range(0,len(f[1]),yu):\n",
    "            col=[]\n",
    "            for kji in range(0,3):\n",
    "                fty=f[i:i+yu,j:j+yu,kji]\n",
    "                col.append(int(np.mean(fty)))\n",
    "            lop.append(col)\n",
    "        rty.append(lop)\n",
    "    f=np.array(rty,dtype='uint8')\n",
    "print \"time : \",T.clock()-t"
   ]
  },
  {
   "cell_type": "code",
   "execution_count": 11,
   "metadata": {},
   "outputs": [
    {
     "data": {
      "text/plain": [
       "45"
      ]
     },
     "execution_count": 11,
     "metadata": {},
     "output_type": "execute_result"
    }
   ],
   "source": [
    "1080/24#108024*24,1080/4"
   ]
  },
  {
   "cell_type": "code",
   "execution_count": 88,
   "metadata": {},
   "outputs": [
    {
     "data": {
      "text/plain": [
       "numpy.ndarray"
      ]
     },
     "execution_count": 88,
     "metadata": {},
     "output_type": "execute_result"
    }
   ],
   "source": [
    "rty=np.array(rty,dtype='uint8')\n",
    "type(rty)"
   ]
  },
  {
   "cell_type": "code",
   "execution_count": 129,
   "metadata": {},
   "outputs": [
    {
     "data": {
      "text/plain": [
       "40"
      ]
     },
     "execution_count": 129,
     "metadata": {},
     "output_type": "execute_result"
    }
   ],
   "source": [
    "len(f)"
   ]
  },
  {
   "cell_type": "code",
   "execution_count": 18,
   "metadata": {},
   "outputs": [
    {
     "data": {
      "text/plain": [
       "True"
      ]
     },
     "execution_count": 18,
     "metadata": {},
     "output_type": "execute_result"
    }
   ],
   "source": [
    "cv2.imwrite('icon_test3.png',qtr)"
   ]
  },
  {
   "cell_type": "code",
   "execution_count": 132,
   "metadata": {},
   "outputs": [
    {
     "name": "stdout",
     "output_type": "stream",
     "text": [
      "0 4 8 12 16 20 24 28 32 36 40 44 48 52 56 60 64 68 72 76 80 84 88 92 96 100 104 108 112 116 120 124 128 132 136 140 144 148 152 156 160 164 168 172 176 180 184 188 192 196 200 204 208 212 216 220 224 228 232 236 240 244 248 252 256 260 264 268 272 276 280 284 288 292 296 300 304 308 312 316 320 324 328 332 336 340 344 348 352 356 360 364 368 372 376 380 384 388 392 396 400 404 408 412 416 420 424 428 432 436 440 444 448 452 456 460 464 468 472 476 480 484 488 492 496 500 504 508 512 516 520 524 528 532 536 540 544 548 552 556 560 564 568 572 576 580 584 588 592 596 600 604 608 612 616 620 624 628 632 636 640 644 648 652 656 660 664 668 672 676 680 684 688 692 696 700 704 708 712 716 720 724 728 732 736 740 744 748 752 756 760 764 768 772 776 780 784 788 792 796 800 804 808 812 816 820 824 828 832 836 840 844 848 852 856 860 864 868 872 876 880 884 888 892 896 900 904 908 912 916 920 924 928 932 936 940 944 948 952 956 960 964 968 972 976 980 984 988 992 996 1000 1004 1008 1012 1016 1020 1024 1028 1032 1036 1040 1044 1048 1052 1056 1060 1064 1068 1072 1076\n"
     ]
    }
   ],
   "source": [
    "for i in range(0,1080,4):\n",
    "    print i,"
   ]
  },
  {
   "cell_type": "code",
   "execution_count": null,
   "metadata": {},
   "outputs": [],
   "source": []
  }
 ],
 "metadata": {
  "kernelspec": {
   "display_name": "Python 2",
   "language": "python",
   "name": "python2"
  },
  "language_info": {
   "codemirror_mode": {
    "name": "ipython",
    "version": 2
   },
   "file_extension": ".py",
   "mimetype": "text/x-python",
   "name": "python",
   "nbconvert_exporter": "python",
   "pygments_lexer": "ipython2",
   "version": "2.7.12"
  }
 },
 "nbformat": 4,
 "nbformat_minor": 2
}
