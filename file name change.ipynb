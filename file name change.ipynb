{
 "cells": [
  {
   "cell_type": "code",
   "execution_count": 5,
   "metadata": {},
   "outputs": [],
   "source": [
    "import os\n",
    "path ='/home/mandy8345/www/video/ai/sfml' #''/home/mandy8345/www/video/friction/new'\n",
    "files = os.listdir(path)\n",
    "i = 1\n",
    "l=i\n",
    "for file in files:\n",
    "    os.rename(os.path.join(path, file), os.path.join(path, str(i)+'.mp4'))\n",
    "    i = i+1"
   ]
  },
  {
   "cell_type": "code",
   "execution_count": 2,
   "metadata": {},
   "outputs": [
    {
     "data": {
      "text/plain": [
       "10"
      ]
     },
     "execution_count": 2,
     "metadata": {},
     "output_type": "execute_result"
    }
   ],
   "source": [
    "len(files)"
   ]
  },
  {
   "cell_type": "code",
   "execution_count": 4,
   "metadata": {},
   "outputs": [
    {
     "ename": "SyntaxError",
     "evalue": "invalid syntax (<ipython-input-4-14d656fb505d>, line 1)",
     "output_type": "error",
     "traceback": [
      "\u001b[0;36m  File \u001b[0;32m\"<ipython-input-4-14d656fb505d>\"\u001b[0;36m, line \u001b[0;32m1\u001b[0m\n\u001b[0;31m    files[]\u001b[0m\n\u001b[0m          ^\u001b[0m\n\u001b[0;31mSyntaxError\u001b[0m\u001b[0;31m:\u001b[0m invalid syntax\n"
     ]
    }
   ],
   "source": [
    "files[]"
   ]
  },
  {
   "cell_type": "code",
   "execution_count": 3,
   "metadata": {},
   "outputs": [
    {
     "name": "stdout",
     "output_type": "stream",
     "text": [
      "<input type=\"button\" value=\"play 487\" onclick=\"e18('newfolder/487.mp4')\"/>\n",
      "<input type=\"button\" value=\"play 488\" onclick=\"e18('newfolder/488.mp4')\"/>\n",
      "<input type=\"button\" value=\"play 489\" onclick=\"e18('newfolder/489.mp4')\"/>\n",
      "<input type=\"button\" value=\"play 490\" onclick=\"e18('newfolder/490.mp4')\"/>\n",
      "<input type=\"button\" value=\"play 491\" onclick=\"e18('newfolder/491.mp4')\"/>\n",
      "<input type=\"button\" value=\"play 492\" onclick=\"e18('newfolder/492.mp4')\"/>\n",
      "<input type=\"button\" value=\"play 493\" onclick=\"e18('newfolder/493.mp4')\"/>\n",
      "<input type=\"button\" value=\"play 494\" onclick=\"e18('newfolder/494.mp4')\"/>\n",
      "<input type=\"button\" value=\"play 495\" onclick=\"e18('newfolder/495.mp4')\"/>\n",
      "<input type=\"button\" value=\"play 496\" onclick=\"e18('newfolder/496.mp4')\"/>\n",
      "<input type=\"button\" value=\"play 497\" onclick=\"e18('newfolder/497.mp4')\"/>\n",
      "<input type=\"button\" value=\"play 498\" onclick=\"e18('newfolder/498.mp4')\"/>\n",
      "<input type=\"button\" value=\"play 499\" onclick=\"e18('newfolder/499.mp4')\"/>\n",
      "<input type=\"button\" value=\"play 500\" onclick=\"e18('newfolder/500.mp4')\"/>\n",
      "<input type=\"button\" value=\"play 501\" onclick=\"e18('newfolder/501.mp4')\"/>\n",
      "<input type=\"button\" value=\"play 502\" onclick=\"e18('newfolder/502.mp4')\"/>\n",
      "<input type=\"button\" value=\"play 503\" onclick=\"e18('newfolder/503.mp4')\"/>\n",
      "<input type=\"button\" value=\"play 504\" onclick=\"e18('newfolder/504.mp4')\"/>\n",
      "<input type=\"button\" value=\"play 505\" onclick=\"e18('newfolder/505.mp4')\"/>\n",
      "\n"
     ]
    }
   ],
   "source": [
    "g=\"\"\n",
    "for i in range(0,len(files)):\n",
    "    g+='<input type=\"button\" value=\"play '+str(i+l)+'\" onclick=\"e18('+\"'newfolder/\"+str(i+l)+'.mp4'+\"'\"+')\"/>'+'\\n'\n",
    "print g"
   ]
  },
  {
   "cell_type": "code",
   "execution_count": null,
   "metadata": {},
   "outputs": [],
   "source": [
    "for i in range(1,1):\n",
    "    print i"
   ]
  },
  {
   "cell_type": "markdown",
   "metadata": {},
   "source": [
    "profiles/love4inzest#_tabPhotos\n",
    "deepu_xxx#_tabPhotos"
   ]
  },
  {
   "cell_type": "code",
   "execution_count": null,
   "metadata": {},
   "outputs": [],
   "source": []
  }
 ],
 "metadata": {
  "kernelspec": {
   "display_name": "Python 2",
   "language": "python",
   "name": "python2"
  },
  "language_info": {
   "codemirror_mode": {
    "name": "ipython",
    "version": 2
   },
   "file_extension": ".py",
   "mimetype": "text/x-python",
   "name": "python",
   "nbconvert_exporter": "python",
   "pygments_lexer": "ipython2",
   "version": "2.7.12"
  }
 },
 "nbformat": 4,
 "nbformat_minor": 2
}
