{
 "cells": [
  {
   "cell_type": "code",
   "execution_count": 1,
   "metadata": {
    "collapsed": true
   },
   "outputs": [],
   "source": [
    "import csv,numpy as np"
   ]
  },
  {
   "cell_type": "code",
   "execution_count": 2,
   "metadata": {
    "collapsed": false
   },
   "outputs": [],
   "source": [
    "name='.csv'\n",
    "f=open(name, 'rb')\n",
    "r = csv.reader(f)\n",
    "ffg=open(name, 'rb')\n",
    "drt=csv.reader(ffg)\n",
    "d=list(drt)\n",
    "nex=len(d)\n",
    "i=1\n",
    "next(r)\n",
    "#i=1;\n",
    "dates=[]\n",
    "ope=[]\n",
    "high=[]\n",
    "low=[]\n",
    "close=[]\n",
    "for row in r:\n",
    "    if d[i][1]==\"null\":# or type(d[i][2])==\"string\" or type(d[i][3])==\"string\" or type(d[i][4])==\"string\"):\n",
    "        continue;print \"hello\"\n",
    "    else:\n",
    "        dates.append(i)#int(row[0].split('-')[0]))\n",
    "        #print type(float(d[i][2]))\n",
    "        ope.append(float(d[i][1]))\n",
    "        high.append(float(d[i][2]))\n",
    "        low.append(float(d[i][3]))\n",
    "        close.append(float(d[i][4]));i+=1\n"
   ]
  },
  {
   "cell_type": "code",
   "execution_count": 17,
   "metadata": {
    "collapsed": false
   },
   "outputs": [
    {
     "name": "stdout",
     "output_type": "stream",
     "text": [
      " 505\n"
     ]
    }
   ],
   "source": [
    "print nex\n",
    "#total lines"
   ]
  },
  {
   "cell_type": "code",
   "execution_count": 14,
   "metadata": {
    "collapsed": false
   },
   "outputs": [
    {
     "name": "stdout",
     "output_type": "stream",
     "text": [
      "29.7099683159\n",
      "31.5907633098\n"
     ]
    }
   ],
   "source": [
    "# opening price profit\n",
    "a,v=0,240 #nex-2 #annual profit %\n",
    "for i in range(0,nex/v):\n",
    "    print ((ope[a]-ope[a+v])/ope[a+v])*100\n",
    "    a=(i+1)*v#; print a"
   ]
  },
  {
   "cell_type": "code",
   "execution_count": 16,
   "metadata": {
    "collapsed": false
   },
   "outputs": [
    {
     "name": "stdout",
     "output_type": "stream",
     "text": [
      "1-months \n",
      "avg = 7.50012574807 max = 9.95970449966 min = 5.45045640958\n",
      "avg = -0.206243593162 max = 0.645762599028 min = -2.41824497018\n",
      "avg = 6.37860135521 max = 8.01302470447 min = 5.71468787388\n",
      "avg = 3.40744216439 max = 4.24798239178 min = 2.75676462031\n",
      "avg = 4.6708392814 max = 5.94128072744 min = 3.46136329133\n",
      "avg = 9.66631432158 max = 11.1636148848 min = 7.81821203057\n",
      "avg = 2.61137832766 max = 5.99735799207 min = -0.52043985562\n",
      "avg = -9.97955057597 max = -7.09662325509 min = -13.0817513778\n",
      "avg = -1.05520139901 max = 0.530973451327 min = -2.84133959691\n",
      "avg = 6.52933137554 max = 7.90614013572 min = 4.86604260813\n",
      "avg = 7.73409606526 max = 9.62491153574 min = 7.05470459519\n",
      "avg = -3.45246396308 max = -2.66655307548 min = -4.73622113602\n",
      "avg = 4.26778455253 max = 5.65399341109 min = 2.92879691336\n",
      "avg = 1.57208001065 max = 2.98925313826 min = -0.337208270477\n",
      "avg = 10.1596406231 max = 13.9664239482 min = 5.34677956427\n",
      "avg = 2.41799580529 max = 8.02672147996 min = -2.5140490979\n",
      "avg = -7.14732556265 max = -4.12137253048 min = -9.84062268347\n",
      "avg = 2.19096318437 max = 4.8581422464 min = 1.25382848392\n",
      "avg = 10.7959091145 max = 13.2697311362 min = 8.6112283664\n",
      "avg = 2.6631669073 max = 4.75348220208 min = -2.66962118814\n",
      "avg ="
     ]
    },
    {
     "ename": "IndexError",
     "evalue": "list index out of range",
     "output_type": "error",
     "traceback": [
      "\u001b[1;31m---------------------------------------------------------------------------\u001b[0m",
      "\u001b[1;31mIndexError\u001b[0m                                Traceback (most recent call last)",
      "\u001b[1;32m<ipython-input-16-43c7af0648b0>\u001b[0m in \u001b[0;36m<module>\u001b[1;34m()\u001b[0m\n\u001b[0;32m      3\u001b[0m \u001b[1;32mprint\u001b[0m \u001b[0mstr\u001b[0m\u001b[1;33m(\u001b[0m\u001b[0mv\u001b[0m\u001b[1;33m/\u001b[0m\u001b[1;36m20\u001b[0m\u001b[1;33m)\u001b[0m\u001b[1;33m+\u001b[0m\u001b[1;34m\"-months \"\u001b[0m\u001b[1;31m#+str(v/240)+\" -year\"\u001b[0m\u001b[1;33m\u001b[0m\u001b[0m\n\u001b[0;32m      4\u001b[0m \u001b[1;32mfor\u001b[0m \u001b[0mi\u001b[0m \u001b[1;32min\u001b[0m \u001b[0mrange\u001b[0m\u001b[1;33m(\u001b[0m\u001b[1;36m0\u001b[0m\u001b[1;33m,\u001b[0m\u001b[0mnex\u001b[0m\u001b[1;33m/\u001b[0m\u001b[0mv\u001b[0m\u001b[1;33m)\u001b[0m\u001b[1;33m:\u001b[0m\u001b[1;33m\u001b[0m\u001b[0m\n\u001b[1;32m----> 5\u001b[1;33m     \u001b[1;32mprint\u001b[0m \u001b[1;34m\"avg =\"\u001b[0m\u001b[1;33m,\u001b[0m\u001b[1;33m(\u001b[0m\u001b[1;33m(\u001b[0m\u001b[1;33m(\u001b[0m\u001b[0mope\u001b[0m\u001b[1;33m[\u001b[0m\u001b[0ma\u001b[0m\u001b[1;33m]\u001b[0m\u001b[1;33m-\u001b[0m\u001b[0mope\u001b[0m\u001b[1;33m[\u001b[0m\u001b[0ma\u001b[0m\u001b[1;33m+\u001b[0m\u001b[0mv\u001b[0m\u001b[1;33m]\u001b[0m\u001b[1;33m)\u001b[0m\u001b[1;33m/\u001b[0m\u001b[0mope\u001b[0m\u001b[1;33m[\u001b[0m\u001b[0ma\u001b[0m\u001b[1;33m+\u001b[0m\u001b[0mv\u001b[0m\u001b[1;33m]\u001b[0m\u001b[1;33m)\u001b[0m\u001b[1;33m*\u001b[0m\u001b[1;36m100\u001b[0m\u001b[1;33m+\u001b[0m\u001b[1;36m2\u001b[0m\u001b[1;33m*\u001b[0m\u001b[1;33m(\u001b[0m\u001b[1;33m(\u001b[0m\u001b[0mclose\u001b[0m\u001b[1;33m[\u001b[0m\u001b[0ma\u001b[0m\u001b[1;33m]\u001b[0m\u001b[1;33m-\u001b[0m\u001b[0mclose\u001b[0m\u001b[1;33m[\u001b[0m\u001b[0ma\u001b[0m\u001b[1;33m+\u001b[0m\u001b[0mv\u001b[0m\u001b[1;33m]\u001b[0m\u001b[1;33m)\u001b[0m\u001b[1;33m/\u001b[0m\u001b[0mclose\u001b[0m\u001b[1;33m[\u001b[0m\u001b[0ma\u001b[0m\u001b[1;33m+\u001b[0m\u001b[0mv\u001b[0m\u001b[1;33m]\u001b[0m\u001b[1;33m)\u001b[0m\u001b[1;33m*\u001b[0m\u001b[1;36m100\u001b[0m\u001b[1;33m)\u001b[0m\u001b[1;33m/\u001b[0m\u001b[1;36m3\u001b[0m\u001b[1;33m,\u001b[0m\u001b[1;34m'max ='\u001b[0m\u001b[1;33m,\u001b[0m\u001b[1;33m(\u001b[0m\u001b[1;33m(\u001b[0m\u001b[0mhigh\u001b[0m\u001b[1;33m[\u001b[0m\u001b[0ma\u001b[0m\u001b[1;33m]\u001b[0m\u001b[1;33m-\u001b[0m\u001b[0mlow\u001b[0m\u001b[1;33m[\u001b[0m\u001b[0ma\u001b[0m\u001b[1;33m+\u001b[0m\u001b[0mv\u001b[0m\u001b[1;33m]\u001b[0m\u001b[1;33m)\u001b[0m\u001b[1;33m/\u001b[0m\u001b[0mlow\u001b[0m\u001b[1;33m[\u001b[0m\u001b[0ma\u001b[0m\u001b[1;33m+\u001b[0m\u001b[0mv\u001b[0m\u001b[1;33m]\u001b[0m\u001b[1;33m)\u001b[0m\u001b[1;33m*\u001b[0m\u001b[1;36m100\u001b[0m\u001b[1;33m,\u001b[0m\u001b[1;34m'min ='\u001b[0m\u001b[1;33m,\u001b[0m\u001b[1;33m(\u001b[0m\u001b[1;33m(\u001b[0m\u001b[0mlow\u001b[0m\u001b[1;33m[\u001b[0m\u001b[0ma\u001b[0m\u001b[1;33m]\u001b[0m\u001b[1;33m-\u001b[0m\u001b[0mhigh\u001b[0m\u001b[1;33m[\u001b[0m\u001b[0ma\u001b[0m\u001b[1;33m+\u001b[0m\u001b[0mv\u001b[0m\u001b[1;33m]\u001b[0m\u001b[1;33m)\u001b[0m\u001b[1;33m/\u001b[0m\u001b[0mhigh\u001b[0m\u001b[1;33m[\u001b[0m\u001b[0ma\u001b[0m\u001b[1;33m+\u001b[0m\u001b[0mv\u001b[0m\u001b[1;33m]\u001b[0m\u001b[1;33m)\u001b[0m\u001b[1;33m*\u001b[0m\u001b[1;36m100\u001b[0m\u001b[1;33m\u001b[0m\u001b[0m\n\u001b[0m\u001b[0;32m      6\u001b[0m     \u001b[0ma\u001b[0m\u001b[1;33m=\u001b[0m\u001b[1;33m(\u001b[0m\u001b[0mi\u001b[0m\u001b[1;33m+\u001b[0m\u001b[1;36m1\u001b[0m\u001b[1;33m)\u001b[0m\u001b[1;33m*\u001b[0m\u001b[0mv\u001b[0m\u001b[1;33m\u001b[0m\u001b[0m\n",
      "\u001b[1;31mIndexError\u001b[0m: list index out of range"
     ]
    }
   ],
   "source": [
    "# avg vs max vs min profit \n",
    "a,v=0,24 #nex-2 #annual profit %\n",
    "print str(v/20)+\"-months \"#+str(v/240)+\" -year\"\n",
    "for i in range(0,nex/v):\n",
    "    print \"avg =\",(((ope[a]-ope[a+v])/ope[a+v])*100+2*((close[a]-close[a+v])/close[a+v])*100)/3,'max =',((high[a]-low[a+v])/low[a+v])*100,'min =',((low[a]-high[a+v])/high[a+v])*100\n",
    "    a=(i+1)*v"
   ]
  }
 ],
 "metadata": {
  "kernelspec": {
   "display_name": "Python 2",
   "language": "python",
   "name": "python2"
  },
  "language_info": {
   "codemirror_mode": {
    "name": "ipython",
    "version": 2
   },
   "file_extension": ".py",
   "mimetype": "text/x-python",
   "name": "python",
   "nbconvert_exporter": "python",
   "pygments_lexer": "ipython2",
   "version": "2.7.13"
  }
 },
 "nbformat": 4,
 "nbformat_minor": 2
}
