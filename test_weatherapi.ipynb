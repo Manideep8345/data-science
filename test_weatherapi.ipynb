{
 "cells": [
  {
   "cell_type": "code",
   "execution_count": 2,
   "metadata": {},
   "outputs": [
    {
     "name": "stdout",
     "output_type": "stream",
     "text": [
      "Current temperature in Waltair is: 30 C \n",
      "relative humidity 75% \n",
      "(Latitude,Longitude)=(17.70000076,83.30000305)\n",
      "Last Updated on August 27, 8:30 AM IST\n",
      "current time Sun, 27 Aug 2017 09:17:17 +0530\n",
      "time took =  0.01151\n"
     ]
    }
   ],
   "source": [
    "import urllib2\n",
    "import json\n",
    "import time as t\n",
    "t1 = t.clock()\n",
    "f = urllib2.urlopen('http://api.wunderground.com/api/8ace25576d42a9d5/geolookup/conditions/forecast/q/Vishakhapatnam%20/%20Waltair.json')\n",
    "json_string = f.read()\n",
    "parsed_json = json.loads(json_string)\n",
    "location = parsed_json['location']['city']\n",
    "temp_f = parsed_json['current_observation']['temp_c']\n",
    "rel = parsed_json['current_observation']['relative_humidity']\n",
    "lat=parsed_json['current_observation']['observation_location']['latitude']\n",
    "longi=parsed_json['current_observation']['observation_location']['longitude']\n",
    "time = parsed_json['current_observation']['observation_time']\n",
    "time3 = parsed_json['current_observation']['local_time_rfc822']\n",
    "\n",
    "print \"Current temperature in %s is: %s C \\nrelative humidity %s \\n(Latitude,Longitude)=(%s,%s)\" % (location, temp_f,rel,lat,longi)\n",
    "print \"%s\"%(time)\n",
    "print \"current time %s\"%(time3)\n",
    "print \"time took = \" ,t.clock()-t1\n",
    "f.close()"
   ]
  },
  {
   "cell_type": "code",
   "execution_count": 4,
   "metadata": {},
   "outputs": [
    {
     "name": "stdout",
     "output_type": "stream",
     "text": [
      "{u'current_observation': {u'heat_index_c': u'NA', u'local_tz_long': u'Asia/Kolkata', u'observation_location': {u'city': u'Cwc Vishakhapatnam / Waltair', u'full': u'Cwc Vishakhapatnam / Waltair, ', u'elevation': u'148 ft', u'country': u'India', u'longitude': u'83.30000305', u'state': u'', u'country_iso3166': u'IN', u'latitude': u'17.70000076'}, u'weather': u'Mostly Cloudy', u'local_time_rfc822': u'Sun, 27 Aug 2017 09:23:05 +0530', u'forecast_url': u'http://www.wunderground.com/global/stations/43150.html', u'windchill_c': u'NA', u'estimated': {}, u'windchill_f': u'NA', u'pressure_in': u'29.52', u'dewpoint_string': u'79 F (26 C)', u'solarradiation': u'--', u'ob_url': u'http://www.wunderground.com/cgi-bin/findweather/getForecast?query=17.70000076,83.30000305', u'local_epoch': u'1503805985', u'icon_url': u'http://icons.wxug.com/i/c/k/mostlycloudy.gif', u'display_location': {u'city': u'Waltair', u'full': u'Waltair, India', u'magic': u'24', u'state_name': u'India', u'zip': u'00000', u'country': u'IN', u'longitude': u'83.33000183', u'state': u'AP', u'wmo': u'43150', u'country_iso3166': u'IN', u'latitude': u'17.71999931', u'elevation': u'31.1'}, u'precip_today_string': u'0.00 in (0 mm)', u'dewpoint_f': 79, u'dewpoint_c': 26, u'precip_today_metric': u'0', u'feelslike_c': u'30', u'image': {u'url': u'http://icons.wxug.com/graphics/wu2/logo_130x80.png', u'link': u'http://www.wunderground.com', u'title': u'Weather Underground'}, u'wind_mph': 0, u'wind_gust_kph': 0, u'feelslike_f': u'86', u'local_tz_short': u'IST', u'precip_today_in': u'0.00', u'heat_index_f': u'NA', u'nowcast': u'', u'temp_f': 86, u'station_id': u'43150', u'windchill_string': u'NA', u'temp_c': 30, u'visibility_km': u'4.0', u'pressure_trend': u'', u'visibility_mi': u'2.0', u'wind_string': u'Calm', u'pressure_mb': u'1000', u'temperature_string': u'86 F (30 C)', u'wind_dir': u'', u'icon': u'mostlycloudy', u'wind_degrees': 0, u'precip_1hr_in': u'0.00', u'local_tz_offset': u'+0530', u'wind_kph': 0, u'wind_gust_mph': 0, u'observation_time': u'Last Updated on August 27, 8:30 AM IST', u'UV': u'-1', u'heat_index_string': u'NA', u'observation_epoch': u'1503802800', u'precip_1hr_metric': u'0', u'relative_humidity': u'75%', u'observation_time_rfc822': u'Sun, 27 Aug 2017 08:30:00 +0530', u'precip_1hr_string': u'0.00 in (0 mm)', u'feelslike_string': u'86 F (30 C)', u'history_url': u'http://www.wunderground.com/history/airport/43150/2017/8/27/DailyHistory.html'}, u'response': {u'termsofService': u'http://www.wunderground.com/weather/api/d/terms.html', u'version': u'0.1', u'features': {u'geolookup': 1, u'conditions': 1, u'forecast': 1}}, u'forecast': {u'txt_forecast': {u'date': u'8:47 AM IST', u'forecastday': [{u'title': u'Sunday', u'icon_url': u'http://icons.wxug.com/i/c/k/chancetstorms.gif', u'fcttext_metric': u'Cloudy early with scattered thunderstorms developing this afternoon. High 31C. Winds S at 10 to 15 km/h. Chance of rain 60%.', u'period': 0, u'pop': u'80', u'fcttext': u'Cloudy early, then thunderstorms developing this afternoon. High 87F. Winds S at 5 to 10 mph. Chance of rain 80%.', u'icon': u'chancetstorms'}, {u'title': u'Sunday Night', u'icon_url': u'http://icons.wxug.com/i/c/k/nt_tstorms.gif', u'fcttext_metric': u'Scattered thunderstorms early, then mainly cloudy overnight with thunderstorms likely. Low 27C. Winds light and variable. Chance of rain 90%.', u'period': 1, u'pop': u'80', u'fcttext': u'Scattered thunderstorms early, then mainly cloudy overnight with thunderstorms likely. Low 79F. Winds light and variable. Chance of rain 80%.', u'icon': u'nt_tstorms'}, {u'title': u'Monday', u'icon_url': u'http://icons.wxug.com/i/c/k/tstorms.gif', u'fcttext_metric': u'Showers and thunderstorms likely. High 29C. Winds SW at 15 to 25 km/h. Chance of rain 100%.', u'period': 2, u'pop': u'100', u'fcttext': u'Thunderstorms likely. High 84F. Winds SW at 5 to 10 mph. Chance of rain 100%.', u'icon': u'tstorms'}, {u'title': u'Monday Night', u'icon_url': u'http://icons.wxug.com/i/c/k/nt_chancerain.gif', u'fcttext_metric': u'Rain showers in the evening will evolve into a more steady rain overnight. Low 26C. Winds SW at 15 to 30 km/h. Chance of rain 60%. Rainfall around 12mm.', u'period': 3, u'pop': u'50', u'fcttext': u'Cloudy with showers. Low 79F. Winds SW at 10 to 15 mph. Chance of rain 50%.', u'icon': u'nt_chancerain'}, {u'title': u'Tuesday', u'icon_url': u'http://icons.wxug.com/i/c/k/chancerain.gif', u'fcttext_metric': u'Rain showers early with mostly cloudy conditions later in the day. High near 30C. Winds SW at 15 to 30 km/h. Chance of rain 60%.', u'period': 4, u'pop': u'50', u'fcttext': u'Rain showers early with mostly cloudy conditions later in the day. High 87F. Winds SW at 10 to 20 mph. Chance of rain 50%.', u'icon': u'chancerain'}, {u'title': u'Tuesday Night', u'icon_url': u'http://icons.wxug.com/i/c/k/nt_mostlycloudy.gif', u'fcttext_metric': u'Partly cloudy in the evening with more clouds for later at night. Low 27C. Winds SW at 15 to 25 km/h.', u'period': 5, u'pop': u'20', u'fcttext': u'Mostly cloudy skies. Low 79F. Winds SW at 10 to 15 mph.', u'icon': u'nt_mostlycloudy'}, {u'title': u'Wednesday', u'icon_url': u'http://icons.wxug.com/i/c/k/partlycloudy.gif', u'fcttext_metric': u'Mostly cloudy skies early will become partly cloudy later in the day. High 31C. Winds SW at 15 to 30 km/h.', u'period': 6, u'pop': u'20', u'fcttext': u'Mostly cloudy skies early, then partly cloudy in the afternoon. High 89F. Winds SW at 10 to 15 mph.', u'icon': u'partlycloudy'}, {u'title': u'Wednesday Night', u'icon_url': u'http://icons.wxug.com/i/c/k/nt_partlycloudy.gif', u'fcttext_metric': u'Variable clouds with a slight chance of thunderstorms overnight. Low 27C. Winds SW at 15 to 25 km/h. Chance of rain 30%.', u'period': 7, u'pop': u'20', u'fcttext': u'Partly cloudy skies during the evening will give way to cloudy skies overnight. Low around 80F. Winds SW at 5 to 10 mph.', u'icon': u'nt_partlycloudy'}]}, u'simpleforecast': {u'forecastday': [{u'avehumidity': 82, u'maxhumidity': 0, u'avewind': {u'kph': 10, u'degrees': 182, u'dir': u'S', u'mph': 6}, u'icon_url': u'http://icons.wxug.com/i/c/k/chancetstorms.gif', u'snow_allday': {u'cm': 0.0, u'in': 0.0}, u'maxwind': {u'kph': 16, u'degrees': 182, u'dir': u'S', u'mph': 10}, u'minhumidity': 0, u'period': 1, u'pop': 80, u'skyicon': u'', u'high': {u'fahrenheit': u'87', u'celsius': u'31'}, u'qpf_night': {u'mm': 8, u'in': 0.33}, u'qpf_allday': {u'mm': 12, u'in': 0.49}, u'low': {u'fahrenheit': u'79', u'celsius': u'26'}, u'snow_night': {u'cm': 0.0, u'in': 0.0}, u'date': {u'tz_short': u'IST', u'weekday_short': u'Sun', u'isdst': u'0', u'monthname': u'August', u'hour': 19, u'min': u'00', u'ampm': u'PM', u'tz_long': u'Asia/Kolkata', u'month': 8, u'epoch': u'1503840600', u'sec': 0, u'weekday': u'Sunday', u'pretty': u'7:00 PM IST on August 27, 2017', u'year': 2017, u'yday': 238, u'day': 27, u'monthname_short': u'Aug'}, u'snow_day': {u'cm': 0.0, u'in': 0.0}, u'qpf_day': {u'mm': 3, u'in': 0.13}, u'conditions': u'Chance of a Thunderstorm', u'icon': u'chancetstorms'}, {u'avehumidity': 90, u'maxhumidity': 0, u'avewind': {u'kph': 14, u'degrees': 233, u'dir': u'SW', u'mph': 9}, u'icon_url': u'http://icons.wxug.com/i/c/k/tstorms.gif', u'snow_allday': {u'cm': 0.0, u'in': 0.0}, u'maxwind': {u'kph': 16, u'degrees': 233, u'dir': u'SW', u'mph': 10}, u'minhumidity': 0, u'period': 2, u'pop': 100, u'skyicon': u'', u'high': {u'fahrenheit': u'84', u'celsius': u'29'}, u'qpf_night': {u'mm': 13, u'in': 0.52}, u'qpf_allday': {u'mm': 22, u'in': 0.88}, u'low': {u'fahrenheit': u'79', u'celsius': u'26'}, u'snow_night': {u'cm': 0.0, u'in': 0.0}, u'date': {u'tz_short': u'IST', u'weekday_short': u'Mon', u'isdst': u'0', u'monthname': u'August', u'hour': 19, u'min': u'00', u'ampm': u'PM', u'tz_long': u'Asia/Kolkata', u'month': 8, u'epoch': u'1503927000', u'sec': 0, u'weekday': u'Monday', u'pretty': u'7:00 PM IST on August 28, 2017', u'year': 2017, u'yday': 239, u'day': 28, u'monthname_short': u'Aug'}, u'snow_day': {u'cm': 0.0, u'in': 0.0}, u'qpf_day': {u'mm': 10, u'in': 0.41}, u'conditions': u'Thunderstorm', u'icon': u'tstorms'}, {u'avehumidity': 83, u'maxhumidity': 0, u'avewind': {u'kph': 24, u'degrees': 222, u'dir': u'SW', u'mph': 15}, u'icon_url': u'http://icons.wxug.com/i/c/k/chancerain.gif', u'snow_allday': {u'cm': 0.0, u'in': 0.0}, u'maxwind': {u'kph': 32, u'degrees': 222, u'dir': u'SW', u'mph': 20}, u'minhumidity': 0, u'period': 3, u'pop': 50, u'skyicon': u'', u'high': {u'fahrenheit': u'87', u'celsius': u'31'}, u'qpf_night': {u'mm': 0, u'in': 0.0}, u'qpf_allday': {u'mm': 1, u'in': 0.02}, u'low': {u'fahrenheit': u'79', u'celsius': u'26'}, u'snow_night': {u'cm': 0.0, u'in': 0.0}, u'date': {u'tz_short': u'IST', u'weekday_short': u'Tue', u'isdst': u'0', u'monthname': u'August', u'hour': 19, u'min': u'00', u'ampm': u'PM', u'tz_long': u'Asia/Kolkata', u'month': 8, u'epoch': u'1504013400', u'sec': 0, u'weekday': u'Tuesday', u'pretty': u'7:00 PM IST on August 29, 2017', u'year': 2017, u'yday': 240, u'day': 29, u'monthname_short': u'Aug'}, u'snow_day': {u'cm': 0.0, u'in': 0.0}, u'qpf_day': {u'mm': 1, u'in': 0.05}, u'conditions': u'Chance of Rain', u'icon': u'chancerain'}, {u'avehumidity': 79, u'maxhumidity': 0, u'avewind': {u'kph': 19, u'degrees': 220, u'dir': u'SW', u'mph': 12}, u'icon_url': u'http://icons.wxug.com/i/c/k/partlycloudy.gif', u'snow_allday': {u'cm': 0.0, u'in': 0.0}, u'maxwind': {u'kph': 24, u'degrees': 220, u'dir': u'SW', u'mph': 15}, u'minhumidity': 0, u'period': 4, u'pop': 20, u'skyicon': u'', u'high': {u'fahrenheit': u'89', u'celsius': u'32'}, u'qpf_night': {u'mm': 0, u'in': 0.0}, u'qpf_allday': {u'mm': 0, u'in': 0.0}, u'low': {u'fahrenheit': u'80', u'celsius': u'27'}, u'snow_night': {u'cm': 0.0, u'in': 0.0}, u'date': {u'tz_short': u'IST', u'weekday_short': u'Wed', u'isdst': u'0', u'monthname': u'August', u'hour': 19, u'min': u'00', u'ampm': u'PM', u'tz_long': u'Asia/Kolkata', u'month': 8, u'epoch': u'1504099800', u'sec': 0, u'weekday': u'Wednesday', u'pretty': u'7:00 PM IST on August 30, 2017', u'year': 2017, u'yday': 241, u'day': 30, u'monthname_short': u'Aug'}, u'snow_day': {u'cm': 0.0, u'in': 0.0}, u'qpf_day': {u'mm': 0, u'in': 0.0}, u'conditions': u'Partly Cloudy', u'icon': u'partlycloudy'}]}}, u'location': {u'city': u'Waltair', u'magic': u'24', u'requesturl': u'global/stations/43150.html', u'zip': u'00000', u'lon': u'83.33000183', u'country': u'IN', u'tz_long': u'Asia/Kolkata', u'l': u'/q/zmw:00000.24.43150', u'lat': u'17.71999931', u'state': u'AP', u'wmo': u'43150', u'wuiurl': u'https://www.wunderground.com/global/stations/43150.html', u'country_iso3166': u'IN', u'country_name': u'India', u'type': u'INTLCITY', u'tz_short': u'IST', u'nearby_weather_stations': {u'airport': {u'station': [{u'city': u'Cwc Vishakhapatnam / Waltair', u'country': u'India', u'lon': u'83.30000305', u'icao': u'----', u'state': u'', u'lat': u'17.70000076'}]}, u'pws': {u'station': []}}}}\n",
      "0.007402\n"
     ]
    }
   ],
   "source": [
    "import urllib2\n",
    "import json\n",
    "import time as t\n",
    "t1=t.clock()\n",
    "f = urllib2.urlopen('http://api.wunderground.com/api/8ace25576d42a9d5/geolookup/conditions/forecast/q/Vishakhapatnam%20/%20Waltair.json')\n",
    "js = f.read()\n",
    "\n",
    "ju= js.format\n",
    "pj = json.loads(js)\n",
    "print pj\n",
    "print t.clock()-t1"
   ]
  },
  {
   "cell_type": "code",
   "execution_count": 7,
   "metadata": {
    "scrolled": false
   },
   "outputs": [
    {
     "name": "stdout",
     "output_type": "stream",
     "text": [
      "current_observation <type 'dict'> -- heat_index_c <type 'unicode'> NA\n",
      "current_observation <type 'dict'> -- local_tz_long <type 'unicode'> Asia/Kolkata\n",
      "current_observation <type 'dict'> -- observation_location <type 'dict'> {u'city': u'Cwc Vishakhapatnam / Waltair', u'full': u'Cwc Vishakhapatnam / Waltair, ', u'elevation': u'148 ft', u'country': u'India', u'longitude': u'83.30000305', u'state': u'', u'country_iso3166': u'IN', u'latitude': u'17.70000076'}\n",
      "current_observation <type 'dict'> -- weather <type 'unicode'> Mostly Cloudy\n",
      "current_observation <type 'dict'> -- local_time_rfc822 <type 'unicode'> Sat, 12 Aug 2017 00:40:59 +0530\n",
      "current_observation <type 'dict'> -- forecast_url <type 'unicode'> http://www.wunderground.com/global/stations/43150.html\n",
      "current_observation <type 'dict'> -- windchill_c <type 'unicode'> NA\n",
      "current_observation <type 'dict'> -- estimated <type 'dict'> {}\n",
      "current_observation <type 'dict'> -- windchill_f <type 'unicode'> NA\n",
      "current_observation <type 'dict'> -- pressure_in <type 'unicode'> 29.75\n",
      "current_observation <type 'dict'> -- dewpoint_string <type 'unicode'> 78 F (25 C)\n",
      "current_observation <type 'dict'> -- solarradiation <type 'unicode'> --\n",
      "current_observation <type 'dict'> -- ob_url <type 'unicode'> http://www.wunderground.com/cgi-bin/findweather/getForecast?query=17.70000076,83.30000305\n",
      "current_observation <type 'dict'> -- local_epoch <type 'unicode'> 1502478659\n",
      "current_observation <type 'dict'> -- icon_url <type 'unicode'> http://icons.wxug.com/i/c/k/nt_mostlycloudy.gif\n",
      "current_observation <type 'dict'> -- display_location <type 'dict'> {u'city': u'Waltair', u'full': u'Waltair, India', u'magic': u'24', u'state_name': u'India', u'zip': u'00000', u'country': u'IN', u'longitude': u'83.33000183', u'state': u'AP', u'wmo': u'43150', u'country_iso3166': u'IN', u'latitude': u'17.71999931', u'elevation': u'31.1'}\n",
      "current_observation <type 'dict'> -- precip_today_string <type 'unicode'> 0.00 in (0 mm)\n",
      "current_observation <type 'dict'> -- dewpoint_f <type 'int'> 78\n",
      "current_observation <type 'dict'> -- dewpoint_c <type 'int'> 25\n",
      "current_observation <type 'dict'> -- precip_today_metric <type 'unicode'> 0\n",
      "current_observation <type 'dict'> -- feelslike_c <type 'unicode'> 29\n",
      "current_observation <type 'dict'> -- image <type 'dict'> {u'url': u'http://icons.wxug.com/graphics/wu2/logo_130x80.png', u'link': u'http://www.wunderground.com', u'title': u'Weather Underground'}\n",
      "current_observation <type 'dict'> -- wind_mph <type 'int'> 7\n",
      "current_observation <type 'dict'> -- wind_gust_kph <type 'int'> 0\n",
      "current_observation <type 'dict'> -- feelslike_f <type 'unicode'> 85\n",
      "current_observation <type 'dict'> -- local_tz_short <type 'unicode'> IST\n",
      "current_observation <type 'dict'> -- precip_today_in <type 'unicode'> 0.00\n",
      "current_observation <type 'dict'> -- heat_index_f <type 'unicode'> NA\n",
      "current_observation <type 'dict'> -- nowcast <type 'unicode'> \n",
      "current_observation <type 'dict'> -- temp_f <type 'int'> 85\n",
      "current_observation <type 'dict'> -- station_id <type 'unicode'> 43150\n",
      "current_observation <type 'dict'> -- windchill_string <type 'unicode'> NA\n",
      "current_observation <type 'dict'> -- temp_c <type 'int'> 29\n",
      "current_observation <type 'dict'> -- visibility_km <type 'unicode'> 4.0\n",
      "current_observation <type 'dict'> -- pressure_trend <type 'unicode'> \n",
      "current_observation <type 'dict'> -- visibility_mi <type 'unicode'> 2.0\n",
      "current_observation <type 'dict'> -- wind_string <type 'unicode'> From the SW at 7 MPH\n",
      "current_observation <type 'dict'> -- pressure_mb <type 'unicode'> 1007\n",
      "current_observation <type 'dict'> -- temperature_string <type 'unicode'> 85 F (29 C)\n",
      "current_observation <type 'dict'> -- wind_dir <type 'unicode'> SW\n",
      "current_observation <type 'dict'> -- icon <type 'unicode'> mostlycloudy\n",
      "current_observation <type 'dict'> -- wind_degrees <type 'int'> 230\n",
      "current_observation <type 'dict'> -- precip_1hr_in <type 'unicode'> 0.00\n",
      "current_observation <type 'dict'> -- local_tz_offset <type 'unicode'> +0530\n",
      "current_observation <type 'dict'> -- wind_kph <type 'int'> 11\n",
      "current_observation <type 'dict'> -- wind_gust_mph <type 'int'> 0\n",
      "current_observation <type 'dict'> -- observation_time <type 'unicode'> Last Updated on August 11, 11:30 PM IST\n",
      "current_observation <type 'dict'> -- UV <type 'unicode'> -1\n",
      "current_observation <type 'dict'> -- heat_index_string <type 'unicode'> NA\n",
      "current_observation <type 'dict'> -- observation_epoch <type 'unicode'> 1502474400\n",
      "current_observation <type 'dict'> -- precip_1hr_metric <type 'unicode'> 0\n",
      "current_observation <type 'dict'> -- relative_humidity <type 'unicode'> 73%\n",
      "current_observation <type 'dict'> -- observation_time_rfc822 <type 'unicode'> Fri, 11 Aug 2017 23:30:00 +0530\n",
      "current_observation <type 'dict'> -- precip_1hr_string <type 'unicode'> 0.00 in (0 mm)\n",
      "current_observation <type 'dict'> -- feelslike_string <type 'unicode'> 85 F (29 C)\n",
      "current_observation <type 'dict'> -- history_url <type 'unicode'> http://www.wunderground.com/history/airport/43150/2017/8/11/DailyHistory.html\n",
      "response <type 'dict'> -- termsofService <type 'unicode'> http://www.wunderground.com/weather/api/d/terms.html\n",
      "response <type 'dict'> -- version <type 'unicode'> 0.1\n",
      "response <type 'dict'> -- features <type 'dict'> {u'geolookup': 1, u'conditions': 1, u'forecast': 1}\n",
      "forecast <type 'dict'> -- txt_forecast <type 'dict'> {u'date': u'11:52 PM IST', u'forecastday': [{u'title': u'Saturday', u'icon_url': u'http://icons.wxug.com/i/c/k/chancetstorms.gif', u'fcttext_metric': u'Partly to mostly cloudy with a chance of thunderstorms. High 32C. Winds SW at 10 to 15 km/h. Chance of rain 50%.', u'period': 0, u'pop': u'50', u'fcttext': u'Variable clouds with thunderstorms, especially in the afternoon. High around 90F. Winds SW at 10 to 15 mph. Chance of rain 50%.', u'icon': u'chancetstorms'}, {u'title': u'Saturday Night', u'icon_url': u'http://icons.wxug.com/i/c/k/nt_mostlycloudy.gif', u'fcttext_metric': u'Mostly cloudy skies. Low 27C. Winds WSW at 10 to 15 km/h.', u'period': 1, u'pop': u'20', u'fcttext': u'Considerable cloudiness. Low 81F. Winds WSW at 5 to 10 mph.', u'icon': u'nt_mostlycloudy'}, {u'title': u'Sunday', u'icon_url': u'http://icons.wxug.com/i/c/k/chancetstorms.gif', u'fcttext_metric': u'Variable clouds with thunderstorms, especially in the morning. High 32C. Winds SW at 10 to 15 km/h. Chance of rain 40%.', u'period': 2, u'pop': u'40', u'fcttext': u'Variable clouds with thunderstorms, especially in the morning. High 89F. Winds SW at 5 to 10 mph. Chance of rain 40%.', u'icon': u'chancetstorms'}, {u'title': u'Sunday Night', u'icon_url': u'http://icons.wxug.com/i/c/k/nt_chancetstorms.gif', u'fcttext_metric': u'Scattered thunderstorms in the evening. Cloudy skies overnight. Low 27C. Winds WSW at 10 to 15 km/h. Chance of rain 40%.', u'period': 3, u'pop': u'40', u'fcttext': u'Scattered thunderstorms during the evening, then cloudy skies overnight. Low near 80F. Winds WSW at 5 to 10 mph. Chance of rain 40%.', u'icon': u'nt_chancetstorms'}, {u'title': u'Monday', u'icon_url': u'http://icons.wxug.com/i/c/k/chancetstorms.gif', u'fcttext_metric': u'Partly cloudy skies during the morning hours. Thunderstorms likely in the afternoon. High 32C. Winds SSW at 10 to 15 km/h. Chance of rain 80%.', u'period': 4, u'pop': u'80', u'fcttext': u'Partly cloudy skies during the morning hours. Thunderstorms likely in the afternoon. High 89F. Winds SSW at 5 to 10 mph. Chance of rain 80%.', u'icon': u'chancetstorms'}, {u'title': u'Monday Night', u'icon_url': u'http://icons.wxug.com/i/c/k/nt_partlycloudy.gif', u'fcttext_metric': u'A few clouds from time to time. Low 27C. Winds light and variable.', u'period': 5, u'pop': u'20', u'fcttext': u'A few clouds. Low around 80F. Winds light and variable.', u'icon': u'nt_partlycloudy'}, {u'title': u'Tuesday', u'icon_url': u'http://icons.wxug.com/i/c/k/chancetstorms.gif', u'fcttext_metric': u'Partly cloudy in the morning. Thunderstorms developing later in the day. High 32C. Winds SSW at 10 to 15 km/h. Chance of rain 80%.', u'period': 6, u'pop': u'80', u'fcttext': u'Partly cloudy skies during the morning hours. Thunderstorms likely in the afternoon. High 89F. Winds SSW at 5 to 10 mph. Chance of rain 80%.', u'icon': u'chancetstorms'}, {u'title': u'Tuesday Night', u'icon_url': u'http://icons.wxug.com/i/c/k/nt_chancetstorms.gif', u'fcttext_metric': u'Widely scattered showers or a thunderstorm early. Then partly cloudy. Low 27C. Winds light and variable. Chance of rain 30%.', u'period': 7, u'pop': u'30', u'fcttext': u'Isolated thunderstorms during the evening, then skies turning partly cloudy overnight. Low around 80F. Winds light and variable. Chance of rain 30%.', u'icon': u'nt_chancetstorms'}]}\n",
      "forecast <type 'dict'> -- simpleforecast <type 'dict'> {u'forecastday': [{u'avehumidity': 78, u'maxhumidity': 0, u'avewind': {u'kph': 16, u'degrees': 222, u'dir': u'SW', u'mph': 10}, u'icon_url': u'http://icons.wxug.com/i/c/k/chancetstorms.gif', u'snow_allday': {u'cm': 0.0, u'in': 0.0}, u'maxwind': {u'kph': 24, u'degrees': 222, u'dir': u'SW', u'mph': 15}, u'minhumidity': 0, u'period': 1, u'pop': 50, u'skyicon': u'', u'high': {u'fahrenheit': u'90', u'celsius': u'32'}, u'qpf_night': {u'mm': 0, u'in': 0.0}, u'qpf_allday': {u'mm': 3, u'in': 0.11}, u'low': {u'fahrenheit': u'81', u'celsius': u'27'}, u'snow_night': {u'cm': 0.0, u'in': 0.0}, u'date': {u'tz_short': u'IST', u'weekday_short': u'Sat', u'isdst': u'0', u'monthname': u'August', u'hour': 19, u'min': u'00', u'ampm': u'PM', u'tz_long': u'Asia/Kolkata', u'month': 8, u'epoch': u'1502544600', u'sec': 0, u'weekday': u'Saturday', u'pretty': u'7:00 PM IST on August 12, 2017', u'year': 2017, u'yday': 223, u'day': 12, u'monthname_short': u'Aug'}, u'snow_day': {u'cm': 0.0, u'in': 0.0}, u'qpf_day': {u'mm': 3, u'in': 0.11}, u'conditions': u'Chance of a Thunderstorm', u'icon': u'chancetstorms'}, {u'avehumidity': 79, u'maxhumidity': 0, u'avewind': {u'kph': 11, u'degrees': 221, u'dir': u'SW', u'mph': 7}, u'icon_url': u'http://icons.wxug.com/i/c/k/chancetstorms.gif', u'snow_allday': {u'cm': 0.0, u'in': 0.0}, u'maxwind': {u'kph': 16, u'degrees': 221, u'dir': u'SW', u'mph': 10}, u'minhumidity': 0, u'period': 2, u'pop': 40, u'skyicon': u'', u'high': {u'fahrenheit': u'89', u'celsius': u'32'}, u'qpf_night': {u'mm': 1, u'in': 0.02}, u'qpf_allday': {u'mm': 2, u'in': 0.07}, u'low': {u'fahrenheit': u'80', u'celsius': u'27'}, u'snow_night': {u'cm': 0.0, u'in': 0.0}, u'date': {u'tz_short': u'IST', u'weekday_short': u'Sun', u'isdst': u'0', u'monthname': u'August', u'hour': 19, u'min': u'00', u'ampm': u'PM', u'tz_long': u'Asia/Kolkata', u'month': 8, u'epoch': u'1502631000', u'sec': 0, u'weekday': u'Sunday', u'pretty': u'7:00 PM IST on August 13, 2017', u'year': 2017, u'yday': 224, u'day': 13, u'monthname_short': u'Aug'}, u'snow_day': {u'cm': 0.0, u'in': 0.0}, u'qpf_day': {u'mm': 1, u'in': 0.05}, u'conditions': u'Chance of a Thunderstorm', u'icon': u'chancetstorms'}, {u'avehumidity': 78, u'maxhumidity': 0, u'avewind': {u'kph': 11, u'degrees': 207, u'dir': u'SSW', u'mph': 7}, u'icon_url': u'http://icons.wxug.com/i/c/k/chancetstorms.gif', u'snow_allday': {u'cm': 0.0, u'in': 0.0}, u'maxwind': {u'kph': 16, u'degrees': 207, u'dir': u'SSW', u'mph': 10}, u'minhumidity': 0, u'period': 3, u'pop': 80, u'skyicon': u'', u'high': {u'fahrenheit': u'89', u'celsius': u'32'}, u'qpf_night': {u'mm': 0, u'in': 0.0}, u'qpf_allday': {u'mm': 4, u'in': 0.15}, u'low': {u'fahrenheit': u'80', u'celsius': u'27'}, u'snow_night': {u'cm': 0.0, u'in': 0.0}, u'date': {u'tz_short': u'IST', u'weekday_short': u'Mon', u'isdst': u'0', u'monthname': u'August', u'hour': 19, u'min': u'00', u'ampm': u'PM', u'tz_long': u'Asia/Kolkata', u'month': 8, u'epoch': u'1502717400', u'sec': 0, u'weekday': u'Monday', u'pretty': u'7:00 PM IST on August 14, 2017', u'year': 2017, u'yday': 225, u'day': 14, u'monthname_short': u'Aug'}, u'snow_day': {u'cm': 0.0, u'in': 0.0}, u'qpf_day': {u'mm': 4, u'in': 0.15}, u'conditions': u'Chance of a Thunderstorm', u'icon': u'chancetstorms'}, {u'avehumidity': 78, u'maxhumidity': 0, u'avewind': {u'kph': 13, u'degrees': 202, u'dir': u'SSW', u'mph': 8}, u'icon_url': u'http://icons.wxug.com/i/c/k/chancetstorms.gif', u'snow_allday': {u'cm': 0.0, u'in': 0.0}, u'maxwind': {u'kph': 16, u'degrees': 202, u'dir': u'SSW', u'mph': 10}, u'minhumidity': 0, u'period': 4, u'pop': 80, u'skyicon': u'', u'high': {u'fahrenheit': u'89', u'celsius': u'32'}, u'qpf_night': {u'mm': 1, u'in': 0.03}, u'qpf_allday': {u'mm': 3, u'in': 0.11}, u'low': {u'fahrenheit': u'80', u'celsius': u'27'}, u'snow_night': {u'cm': 0.0, u'in': 0.0}, u'date': {u'tz_short': u'IST', u'weekday_short': u'Tue', u'isdst': u'0', u'monthname': u'August', u'hour': 19, u'min': u'00', u'ampm': u'PM', u'tz_long': u'Asia/Kolkata', u'month': 8, u'epoch': u'1502803800', u'sec': 0, u'weekday': u'Tuesday', u'pretty': u'7:00 PM IST on August 15, 2017', u'year': 2017, u'yday': 226, u'day': 15, u'monthname_short': u'Aug'}, u'snow_day': {u'cm': 0.0, u'in': 0.0}, u'qpf_day': {u'mm': 2, u'in': 0.08}, u'conditions': u'Chance of a Thunderstorm', u'icon': u'chancetstorms'}]}\n",
      "location <type 'dict'> -- city <type 'unicode'> Waltair\n",
      "location <type 'dict'> -- magic <type 'unicode'> 24\n",
      "location <type 'dict'> -- requesturl <type 'unicode'> global/stations/43150.html\n",
      "location <type 'dict'> -- zip <type 'unicode'> 00000\n",
      "location <type 'dict'> -- lon <type 'unicode'> 83.33000183\n",
      "location <type 'dict'> -- country <type 'unicode'> IN\n",
      "location <type 'dict'> -- tz_long <type 'unicode'> Asia/Kolkata\n",
      "location <type 'dict'> -- l <type 'unicode'> /q/zmw:00000.24.43150\n",
      "location <type 'dict'> -- lat <type 'unicode'> 17.71999931\n",
      "location <type 'dict'> -- state <type 'unicode'> AP\n",
      "location <type 'dict'> -- wmo <type 'unicode'> 43150\n",
      "location <type 'dict'> -- wuiurl <type 'unicode'> https://www.wunderground.com/global/stations/43150.html\n",
      "location <type 'dict'> -- country_iso3166 <type 'unicode'> IN\n",
      "location <type 'dict'> -- country_name <type 'unicode'> India\n",
      "location <type 'dict'> -- type <type 'unicode'> INTLCITY\n",
      "location <type 'dict'> -- tz_short <type 'unicode'> IST\n",
      "location <type 'dict'> -- nearby_weather_stations <type 'dict'> {u'airport': {u'station': [{u'city': u'Cwc Vishakhapatnam / Waltair', u'country': u'India', u'lon': u'83.30000305', u'icao': u'----', u'state': u'', u'lat': u'17.70000076'}]}, u'pws': {u'station': []}}\n",
      "1.80769948301 secs\n"
     ]
    }
   ],
   "source": [
    "import urllib2\n",
    "import json\n",
    "import time as t\n",
    "t1=t.clock()\n",
    "f = urllib2.urlopen('http://api.wunderground.com/api/8ace25576d42a9d5/geolookup/conditions/forecast/q/Vishakhapatnam%20/%20Waltair.json')\n",
    "js = f.read()\n",
    "pj = json.loads(js)\n",
    "for i in pj:\n",
    "    for j in pj[i]:\n",
    "        print i,type(pj[i]),\"--\",j,type(pj[i][j]),pj[i][j]#,pj[i]\n",
    "print t.clock()-t1,\"secs\""
   ]
  },
  {
   "cell_type": "markdown",
   "metadata": {},
   "source": [
    "current_observation;\n",
    "response;\n",
    "forecast;\n",
    "location;"
   ]
  },
  {
   "cell_type": "code",
   "execution_count": 36,
   "metadata": {},
   "outputs": [
    {
     "name": "stdout",
     "output_type": "stream",
     "text": [
      "47.5201231885\n"
     ]
    }
   ],
   "source": [
    "import time as t\n",
    "t1=t.clock()\n",
    "a=0\n",
    "while (a<100000000) :\n",
    "    i=a+1\n",
    "    a=a+1\n",
    "print t.clock()-t1"
   ]
  },
  {
   "cell_type": "code",
   "execution_count": 35,
   "metadata": {},
   "outputs": [
    {
     "name": "stdout",
     "output_type": "stream",
     "text": [
      "151.407462796\n"
     ]
    }
   ],
   "source": [
    "import time as t\n",
    "t1=t.clock()\n",
    "a=0;x=2;x1=3;y=6;y1=8\n",
    "while (a<100000000) :\n",
    "    i=((x1-x)**2 +(y1-y)**2)**(1/2.0)\n",
    "    a=a+1\n",
    "print t.clock()-t1"
   ]
  },
  {
   "cell_type": "code",
   "execution_count": 29,
   "metadata": {},
   "outputs": [
    {
     "name": "stdout",
     "output_type": "stream",
     "text": [
      "2.82842712475 3.14159265359\n",
      "2.82842712475\n"
     ]
    }
   ],
   "source": [
    "import math as m\n",
    "print m.sqrt(8),m.pi\n",
    "print 8**(1/2.0)"
   ]
  },
  {
   "cell_type": "code",
   "execution_count": 41,
   "metadata": {},
   "outputs": [
    {
     "data": {
      "application/json": {
       "cell": {
        "!": "OSMagics",
        "HTML": "Other",
        "SVG": "Other",
        "bash": "Other",
        "capture": "ExecutionMagics",
        "cmd": "Other",
        "debug": "ExecutionMagics",
        "file": "Other",
        "html": "DisplayMagics",
        "javascript": "DisplayMagics",
        "js": "DisplayMagics",
        "latex": "DisplayMagics",
        "perl": "Other",
        "prun": "ExecutionMagics",
        "pypy": "Other",
        "python": "Other",
        "python2": "Other",
        "python3": "Other",
        "ruby": "Other",
        "script": "ScriptMagics",
        "sh": "Other",
        "svg": "DisplayMagics",
        "sx": "OSMagics",
        "system": "OSMagics",
        "time": "ExecutionMagics",
        "timeit": "ExecutionMagics",
        "writefile": "OSMagics"
       },
       "line": {
        "alias": "OSMagics",
        "alias_magic": "BasicMagics",
        "autocall": "AutoMagics",
        "automagic": "AutoMagics",
        "autosave": "KernelMagics",
        "bookmark": "OSMagics",
        "cd": "OSMagics",
        "clear": "KernelMagics",
        "cls": "KernelMagics",
        "colors": "BasicMagics",
        "config": "ConfigMagics",
        "connect_info": "KernelMagics",
        "copy": "Other",
        "ddir": "Other",
        "debug": "ExecutionMagics",
        "dhist": "OSMagics",
        "dirs": "OSMagics",
        "doctest_mode": "BasicMagics",
        "echo": "Other",
        "ed": "Other",
        "edit": "KernelMagics",
        "env": "OSMagics",
        "gui": "BasicMagics",
        "hist": "Other",
        "history": "HistoryMagics",
        "killbgscripts": "ScriptMagics",
        "ldir": "Other",
        "less": "KernelMagics",
        "load": "CodeMagics",
        "load_ext": "ExtensionMagics",
        "loadpy": "CodeMagics",
        "logoff": "LoggingMagics",
        "logon": "LoggingMagics",
        "logstart": "LoggingMagics",
        "logstate": "LoggingMagics",
        "logstop": "LoggingMagics",
        "ls": "Other",
        "lsmagic": "BasicMagics",
        "macro": "ExecutionMagics",
        "magic": "BasicMagics",
        "matplotlib": "PylabMagics",
        "mkdir": "Other",
        "more": "KernelMagics",
        "notebook": "BasicMagics",
        "page": "BasicMagics",
        "pastebin": "CodeMagics",
        "pdb": "ExecutionMagics",
        "pdef": "NamespaceMagics",
        "pdoc": "NamespaceMagics",
        "pfile": "NamespaceMagics",
        "pinfo": "NamespaceMagics",
        "pinfo2": "NamespaceMagics",
        "popd": "OSMagics",
        "pprint": "BasicMagics",
        "precision": "BasicMagics",
        "profile": "BasicMagics",
        "prun": "ExecutionMagics",
        "psearch": "NamespaceMagics",
        "psource": "NamespaceMagics",
        "pushd": "OSMagics",
        "pwd": "OSMagics",
        "pycat": "OSMagics",
        "pylab": "PylabMagics",
        "qtconsole": "KernelMagics",
        "quickref": "BasicMagics",
        "recall": "HistoryMagics",
        "rehashx": "OSMagics",
        "reload_ext": "ExtensionMagics",
        "ren": "Other",
        "rep": "Other",
        "rerun": "HistoryMagics",
        "reset": "NamespaceMagics",
        "reset_selective": "NamespaceMagics",
        "rmdir": "Other",
        "run": "ExecutionMagics",
        "save": "CodeMagics",
        "sc": "OSMagics",
        "set_env": "OSMagics",
        "store": "StoreMagics",
        "sx": "OSMagics",
        "system": "OSMagics",
        "tb": "ExecutionMagics",
        "time": "ExecutionMagics",
        "timeit": "ExecutionMagics",
        "unalias": "OSMagics",
        "unload_ext": "ExtensionMagics",
        "who": "NamespaceMagics",
        "who_ls": "NamespaceMagics",
        "whos": "NamespaceMagics",
        "xdel": "NamespaceMagics",
        "xmode": "BasicMagics"
       }
      },
      "text/plain": [
       "Available line magics:\n",
       "%alias  %alias_magic  %autocall  %automagic  %autosave  %bookmark  %cd  %clear  %cls  %colors  %config  %connect_info  %copy  %ddir  %debug  %dhist  %dirs  %doctest_mode  %echo  %ed  %edit  %env  %gui  %hist  %history  %killbgscripts  %ldir  %less  %load  %load_ext  %loadpy  %logoff  %logon  %logstart  %logstate  %logstop  %ls  %lsmagic  %macro  %magic  %matplotlib  %mkdir  %more  %notebook  %page  %pastebin  %pdb  %pdef  %pdoc  %pfile  %pinfo  %pinfo2  %popd  %pprint  %precision  %profile  %prun  %psearch  %psource  %pushd  %pwd  %pycat  %pylab  %qtconsole  %quickref  %recall  %rehashx  %reload_ext  %ren  %rep  %rerun  %reset  %reset_selective  %rmdir  %run  %save  %sc  %set_env  %store  %sx  %system  %tb  %time  %timeit  %unalias  %unload_ext  %who  %who_ls  %whos  %xdel  %xmode\n",
       "\n",
       "Available cell magics:\n",
       "%%!  %%HTML  %%SVG  %%bash  %%capture  %%cmd  %%debug  %%file  %%html  %%javascript  %%js  %%latex  %%perl  %%prun  %%pypy  %%python  %%python2  %%python3  %%ruby  %%script  %%sh  %%svg  %%sx  %%system  %%time  %%timeit  %%writefile\n",
       "\n",
       "Automagic is ON, % prefix IS NOT needed for line magics."
      ]
     },
     "execution_count": 41,
     "metadata": {},
     "output_type": "execute_result"
    }
   ],
   "source": [
    "%lsmagic\n"
   ]
  },
  {
   "cell_type": "code",
   "execution_count": 44,
   "metadata": {},
   "outputs": [
    {
     "data": {
      "text/html": [
       "<h2>hello</h2>"
      ],
      "text/plain": [
       "<IPython.core.display.HTML object>"
      ]
     },
     "metadata": {},
     "output_type": "display_data"
    }
   ],
   "source": [
    "%%html\n",
    "<h2>hello</h2>"
   ]
  }
 ],
 "metadata": {
  "kernelspec": {
   "display_name": "Python 2",
   "language": "python",
   "name": "python2"
  },
  "language_info": {
   "codemirror_mode": {
    "name": "ipython",
    "version": 2
   },
   "file_extension": ".py",
   "mimetype": "text/x-python",
   "name": "python",
   "nbconvert_exporter": "python",
   "pygments_lexer": "ipython2",
   "version": "2.7.12"
  }
 },
 "nbformat": 4,
 "nbformat_minor": 2
}
