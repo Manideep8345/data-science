{
 "cells": [
  {
   "cell_type": "code",
   "execution_count": 1,
   "metadata": {},
   "outputs": [],
   "source": [
    "from bs4 import BeautifulSoup as bs\n",
    "import urllib2 as url\n",
    "import smtplib"
   ]
  },
  {
   "cell_type": "code",
   "execution_count": 3,
   "metadata": {},
   "outputs": [],
   "source": [
    "import smtplib\n",
    "\n",
    "from email.mime.multipart import MIMEMultipart\n",
    "from email.mime.text import MIMEText"
   ]
  },
  {
   "cell_type": "code",
   "execution_count": 39,
   "metadata": {},
   "outputs": [],
   "source": [
    "amz_link_csw='https://www.amazon.in/Casio-Enticer-Analog-Silver-Watch/dp/B003DZ9WDA/ref=redir_mobile_desktop?_encoding=UTF8&psc=1&refRID=00QF1M8SR2TBFRJFHJM8&ref_=pd_aw_sim_sbs_241_2'\n",
    "sil='https://www.amazon.in/s/ref=s9_acss_bw_cg_powerban_2b1_w?fst=as%3Aoff&rh=n%3A976419031%2Cn%3A%21976420031%2Cn%3A1389401031%2Cn%3A1389402031%2Cn%3A6612025031%2Cp_89%3AAmbrane%2Cp_85%3A10440599031%2Cp_n_pct-off-with-tax%3A2665401031&bbn=6612025031&ie=UTF8&qid=1504260880&rnid=2665398031&pf_rd_m=A1K21FY43GMZF8&pf_rd_s=merchandised-search-2&pf_rd_r=XQF252TXBRMWATW4ET1P&pf_rd_t=101&pf_rd_p=67cdc37c-974e-4ec6-8f2e-7246e0a0c627&pf_rd_i=6612025031'"
   ]
  },
  {
   "cell_type": "code",
   "execution_count": 53,
   "metadata": {},
   "outputs": [],
   "source": [
    "casio = url.urlopen(sil).read()\n",
    "bs_casio = bs(casio)\n",
    "#print bs_casio.prettify()"
   ]
  },
  {
   "cell_type": "code",
   "execution_count": null,
   "metadata": {},
   "outputs": [],
   "source": [
    "for i in bs_casio.html.body.findAll('span',id=\"priceblock_ourprice\"):\n",
    "    print \"price=\",i.text[3:]"
   ]
  },
  {
   "cell_type": "code",
   "execution_count": 50,
   "metadata": {},
   "outputs": [
    {
     "name": "stdout",
     "output_type": "stream",
     "text": [
      "price=   729\n",
      "price=   1,049\n",
      "price=   1,073\n",
      "price=   899\n",
      "price=   1,049\n",
      "price=   1,999\n",
      "price=   848\n",
      "price=   1,948\n",
      "price=   729\n",
      "price=   899\n",
      "price=   824\n",
      "price=   729\n",
      "price=   1,029\n",
      "price=   1,049\n",
      "price=   1,049\n",
      "price=   1,174\n",
      "price=   549\n",
      "price=   549\n",
      "price=   1,179\n",
      "price=   1,399\n",
      "price=   1,299\n",
      "price=   1,299\n",
      "price=   1,999\n",
      "price=   399\n"
     ]
    }
   ],
   "source": [
    "for i in bs_casio.html.body.findAll('span',class_=\"a-size-base a-color-price s-price a-text-bold\"):\n",
    "    print \"price=\",i.text"
   ]
  },
  {
   "cell_type": "code",
   "execution_count": 37,
   "metadata": {
    "scrolled": true
   },
   "outputs": [
    {
     "name": "stdout",
     "output_type": "stream",
     "text": [
      "price= 2,425.00\n"
     ]
    }
   ],
   "source": [
    "print \"price=\",i.text[3:]"
   ]
  }
 ],
 "metadata": {
  "kernelspec": {
   "display_name": "Python 2",
   "language": "python",
   "name": "python2"
  },
  "language_info": {
   "codemirror_mode": {
    "name": "ipython",
    "version": 2
   },
   "file_extension": ".py",
   "mimetype": "text/x-python",
   "name": "python",
   "nbconvert_exporter": "python",
   "pygments_lexer": "ipython2",
   "version": "2.7.12"
  }
 },
 "nbformat": 4,
 "nbformat_minor": 2
}
