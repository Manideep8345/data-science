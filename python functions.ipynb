{
 "cells": [
  {
   "cell_type": "code",
   "execution_count": 27,
   "metadata": {},
   "outputs": [],
   "source": [
    "import time as T"
   ]
  },
  {
   "cell_type": "code",
   "execution_count": 91,
   "metadata": {},
   "outputs": [],
   "source": [
    "#testing function declaration \n",
    "\n",
    "#this function gives that given x is prime or not\n",
    "def gtyu(x):\n",
    "    if(not(x%2)):\n",
    "        return \"No\"\n",
    "    i=3\n",
    "    while(i*i<=x):\n",
    "        if (not (x%i)):\n",
    "            return \"No\",i\n",
    "        i+=2\n",
    "    return \"yes\"\n",
    "\n",
    "#this function gives no of prime numbers with number range\n",
    "def ftyui(x):\n",
    "    y=0\n",
    "    while(x):\n",
    "        if(gtyu(x)==\"yes\"):\n",
    "            y+=1\n",
    "        x-=1\n",
    "    return y"
   ]
  },
  {
   "cell_type": "code",
   "execution_count": 69,
   "metadata": {},
   "outputs": [],
   "source": [
    "#recursion in python\n",
    "\n",
    "def factr(x):\n",
    "    if(x==1):\n",
    "        return 1\n",
    "    return x*factr(x-1)"
   ]
  },
  {
   "cell_type": "code",
   "execution_count": 61,
   "metadata": {},
   "outputs": [
    {
     "name": "stdout",
     "output_type": "stream",
     "text": [
      "357\n"
     ]
    }
   ],
   "source": [
    "#Testing lambda\n",
    "\n",
    "sum1 = lambda x,y: x+y # is equal to def sum1(x,y): return x+y;\n",
    "\n",
    "print sum1(347,10)"
   ]
  },
  {
   "cell_type": "code",
   "execution_count": 56,
   "metadata": {},
   "outputs": [],
   "source": [
    "#testing variable arguments\n",
    "\n",
    "def sume(*gtws):\n",
    "    ders=0\n",
    "    for i in gtws:\n",
    "        ders+=i\n",
    "    return ders"
   ]
  },
  {
   "cell_type": "code",
   "execution_count": 76,
   "metadata": {},
   "outputs": [],
   "source": [
    "#testing keyword arguments \n",
    "\n",
    "def added(**varw):\n",
    "    print varw['ju'],\"\\n\",varw['iop']"
   ]
  },
  {
   "cell_type": "code",
   "execution_count": 71,
   "metadata": {},
   "outputs": [],
   "source": [
    "def print_keyword_args(**kwargs):\n",
    "    # kwargs is a dict of the keyword args passed to the function\n",
    "    for key, value in kwargs.iteritems():\n",
    "        print \"%s = %s\" % (key, value)\n"
   ]
  },
  {
   "cell_type": "code",
   "execution_count": 80,
   "metadata": {},
   "outputs": [
    {
     "name": "stdout",
     "output_type": "stream",
     "text": [
      "90 \n",
      "8768\n"
     ]
    }
   ],
   "source": [
    "added(iop=8768,ju=90)"
   ]
  },
  {
   "cell_type": "code",
   "execution_count": 73,
   "metadata": {},
   "outputs": [
    {
     "name": "stdout",
     "output_type": "stream",
     "text": [
      "first_name = John\n",
      "last_name = Doe\n"
     ]
    }
   ],
   "source": [
    "print_keyword_args(first_name=\"John\", last_name=\"Doe\")"
   ]
  },
  {
   "cell_type": "code",
   "execution_count": 70,
   "metadata": {},
   "outputs": [
    {
     "name": "stdout",
     "output_type": "stream",
     "text": [
      "24\n"
     ]
    }
   ],
   "source": [
    "print factr(4)"
   ]
  },
  {
   "cell_type": "code",
   "execution_count": 92,
   "metadata": {},
   "outputs": [
    {
     "name": "stdout",
     "output_type": "stream",
     "text": [
      "25\n"
     ]
    },
    {
     "data": {
      "text/plain": [
       "0.002961000000141212"
      ]
     },
     "execution_count": 92,
     "metadata": {},
     "output_type": "execute_result"
    }
   ],
   "source": [
    "t=T.clock()\n",
    "print ftyui(x=100)\n",
    "T.clock()-t"
   ]
  },
  {
   "cell_type": "code",
   "execution_count": 86,
   "metadata": {},
   "outputs": [
    {
     "data": {
      "text/plain": [
       "2.49"
      ]
     },
     "execution_count": 86,
     "metadata": {},
     "output_type": "execute_result"
    }
   ],
   "source": [
    "149.40/60"
   ]
  },
  {
   "cell_type": "code",
   "execution_count": 89,
   "metadata": {},
   "outputs": [
    {
     "name": "stdout",
     "output_type": "stream",
     "text": [
      "('No', 11)\n"
     ]
    }
   ],
   "source": [
    "print gtyu(121)"
   ]
  },
  {
   "cell_type": "code",
   "execution_count": 62,
   "metadata": {},
   "outputs": [
    {
     "name": "stdout",
     "output_type": "stream",
     "text": [
      "19\n"
     ]
    }
   ],
   "source": [
    "print sume(10,2,3,4)"
   ]
  }
 ],
 "metadata": {
  "kernelspec": {
   "display_name": "Python 2",
   "language": "python",
   "name": "python2"
  },
  "language_info": {
   "codemirror_mode": {
    "name": "ipython",
    "version": 2
   },
   "file_extension": ".py",
   "mimetype": "text/x-python",
   "name": "python",
   "nbconvert_exporter": "python",
   "pygments_lexer": "ipython2",
   "version": "2.7.12"
  }
 },
 "nbformat": 4,
 "nbformat_minor": 2
}
