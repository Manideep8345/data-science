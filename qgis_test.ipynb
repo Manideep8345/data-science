{
 "cells": [
  {
   "cell_type": "code",
   "execution_count": 1,
   "metadata": {},
   "outputs": [
    {
     "name": "stdout",
     "output_type": "stream",
     "text": [
      "Using matplotlib backend: TkAgg\n"
     ]
    }
   ],
   "source": [
    "from qgis.core import *\n",
    "from qgis.utils import *\n",
    "from pyproj import Proj, transform\n",
    "from qgis.gui import *\n",
    "import sys\n",
    "import utm\n",
    "from PyQt4 import QtGui\n",
    "import pandas as pd, numpy as np, matplotlib.pyplot as plt\n",
    "from sklearn.cluster import DBSCAN\n",
    "import time as t\n",
    "%matplotlib"
   ]
  },
  {
   "cell_type": "code",
   "execution_count": 7,
   "metadata": {},
   "outputs": [],
   "source": [
    "\n",
    "#QgsApplication.initQgis()\n",
    "app = QgsApplication([],True, None)\n",
    "app.setPrefixPath(\"/usr\", True)\n",
    "app.initQgis()\n",
    "\n",
    "layer = QgsVectorLayer('/home/mandy8345/Map_3D/contourfiles/wells_test.shp', 'layer_name', 'ogr')\n",
    "ite = layer.getFeatures()\n",
    "i=0\n",
    "#tof ='EPSG:4326'\n",
    "inf = 'EPSG:3857'#layer.crs().authid()\n",
    "tof ='EPSG:4326'\n",
    "inProj = Proj(init=inf)\n",
    "outProj = Proj(init=tof)\n",
    "coords=[]\n",
    "for feature in ite:\n",
    "    # retrieve every feature with its geometry and attributes\n",
    "    # fetch geometry\n",
    "    geom = feature.geometry()\n",
    "    x1,y1 = geom.asPoint().x(),geom.asPoint().y()\n",
    "    poli = transform(inProj,outProj,x1,y1)\n",
    "    coords.append(poli)\n",
    "coords=np.array(coords)\n",
    "                            "
   ]
  },
  {
   "cell_type": "code",
   "execution_count": 8,
   "metadata": {
    "scrolled": true
   },
   "outputs": [],
   "source": [
    "#print coords[1]\n",
    "if not layer.isValid():\n",
    "    print \"Layer failed to load!\""
   ]
  },
  {
   "cell_type": "code",
   "execution_count": 9,
   "metadata": {},
   "outputs": [
    {
     "name": "stdout",
     "output_type": "stream",
     "text": [
      "Number of clusters:344\n"
     ]
    }
   ],
   "source": [
    "#coords = df.as_matrix(columns=[aj,bh])\n",
    "\n",
    "\n",
    "kms_per_radian = 6371.0088\n",
    "epsilon = 1.5 / kms_per_radian\n",
    "\n",
    "#epsilon parameter is the max distance (1.5 km in this example) \n",
    "#that points can be from each other to be considered a cluster\n",
    "\n",
    "#min_samples parameter is the minimum cluster size \n",
    "#everything else gets classified as noise\n",
    "db = DBSCAN(eps=epsilon, min_samples=1, algorithm='ball_tree', metric='haversine').fit(np.radians(coords))\n",
    "\n",
    "cluster_labels = db.labels_\n",
    "num_clusters = len(set(cluster_labels))\n",
    "clusters = pd.Series([coords[cluster_labels == n] for n in range(num_clusters)]) \n",
    "#'clusters' is pandas series object\n",
    "print 'Number of clusters:'+str(num_clusters);"
   ]
  },
  {
   "cell_type": "code",
   "execution_count": 10,
   "metadata": {},
   "outputs": [
    {
     "name": "stdout",
     "output_type": "stream",
     "text": [
      "0.544712\n"
     ]
    }
   ],
   "source": [
    "t_st=t.clock()\n",
    "x=[];y=[]               \n",
    "b=clusters\n",
    "cm = plt.cm.get_cmap('jet')\n",
    "xi=[];yi=[];dk=[];o=0;\n",
    "for j in b:\n",
    "    for i in j:\n",
    "       xi.append(i[0])\n",
    "       yi.append(i[1])\n",
    "       dk.append(len(j))\n",
    "    dr=len(j)\n",
    "    if dr>o:\n",
    "        o=dr\n",
    "lon1=max(xi)\n",
    "lon2=min(xi)\n",
    "lat=0\n",
    "zone1=utm.from_latlon(lat,lon1)\n",
    "zone2=utm.from_latlon(lat,lon2) \n",
    "fig, ax = plt.subplots()#(figsize=(90,50))\n",
    "fe=ax.scatter(xi,yi,c=dk,vmin=1,vmax=o,s=20,cmap=cm,label=\"go\")\n",
    "tfd=fe.get_array()\n",
    "tr=plt.colorbar(fe)\n",
    "#tr.ax.tick_params(direction='in', pad=0)\n",
    "tr.ax.set_ylabel('number of points in the cluster')\n",
    "#plotfile = \"test_\"+str(drty)\n",
    "#plt.savefig(plotfile);drty+=1\n",
    "print t.clock()-t_st\n",
    "plt.show() "
   ]
  }
 ],
 "metadata": {
  "kernelspec": {
   "display_name": "Python 2",
   "language": "python",
   "name": "python2"
  },
  "language_info": {
   "codemirror_mode": {
    "name": "ipython",
    "version": 2
   },
   "file_extension": ".py",
   "mimetype": "text/x-python",
   "name": "python",
   "nbconvert_exporter": "python",
   "pygments_lexer": "ipython2",
   "version": "2.7.12"
  }
 },
 "nbformat": 4,
 "nbformat_minor": 2
}
