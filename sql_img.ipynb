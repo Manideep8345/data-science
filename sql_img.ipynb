{
 "cells": [
  {
   "cell_type": "code",
   "execution_count": 1,
   "metadata": {},
   "outputs": [],
   "source": [
    "import mysql.connector\n",
    "import sys\n",
    "from PIL import Image\n",
    "import base64\n",
    "import cStringIO\n",
    "import PIL.Image"
   ]
  },
  {
   "cell_type": "code",
   "execution_count": null,
   "metadata": {},
   "outputs": [],
   "source": [
    "image = Image.open('/home/mandy8345/IMG.jpg')\n",
    "blob_value = open('/home/mandy8345/IMG.jpg', 'rb').read()"
   ]
  },
  {
   "cell_type": "code",
   "execution_count": null,
   "metadata": {},
   "outputs": [],
   "source": [
    "db = mysql.connector.connect(user='root', password='mysql',host='localhost',database='storeimage_test')\n",
    "\n",
    "image = Image.open('D:/test/c1d5073.jpg')\n",
    "blob_value = open('D:/test/c1d5073.jpg', 'rb').read()\n",
    "sqlInsert = 'INSERT INTO store_image(image) VALUES(%s)'\n",
    "args = (blob_value, )\n",
    "cursor=db.cursor()\n",
    "cursor.execute(sqlInsert,args)\n",
    "sqlDisplay='select image from store_image'\n",
    "db.commit()\n",
    "cursor.execute(sqlDisplay)\n",
    "data=cursor.fetchall()\n",
    "print type(data[0][0])\n",
    "file_like=cStringIO.StringIO(data[0][0])\n",
    "img=PIL.Image.open(file_like)\n",
    "img.show()\n",
    "\n",
    "db.close()"
   ]
  }
 ],
 "metadata": {
  "kernelspec": {
   "display_name": "Python 2",
   "language": "python",
   "name": "python2"
  },
  "language_info": {
   "codemirror_mode": {
    "name": "ipython",
    "version": 2
   },
   "file_extension": ".py",
   "mimetype": "text/x-python",
   "name": "python",
   "nbconvert_exporter": "python",
   "pygments_lexer": "ipython2",
   "version": "2.7.12"
  }
 },
 "nbformat": 4,
 "nbformat_minor": 2
}
