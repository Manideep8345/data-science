{
 "cells": [
  {
   "cell_type": "code",
   "execution_count": 3,
   "metadata": {},
   "outputs": [],
   "source": [
    "tiff_file=\"/home/mandy8345/Map_3D/au_area\""
   ]
  },
  {
   "cell_type": "code",
   "execution_count": 18,
   "metadata": {},
   "outputs": [],
   "source": [
    "from osgeo import osr,ogr,gdal\n",
    "import numpy as np"
   ]
  },
  {
   "cell_type": "code",
   "execution_count": 14,
   "metadata": {
    "collapsed": true
   },
   "outputs": [
    {
     "name": "stdout",
     "output_type": "stream",
     "text": [
      "AREA_OR_POINT : Point\n",
      "DTED_OriginLongitude : 0830000E\n",
      "DTED_CompilationDate : 0002\n",
      "DTED_NimaDesignator : DTED1\n",
      "DTED_MatchMergeVersion : A\n",
      "DTED_UniqueRef_DSI : J09 018        \n",
      "DTED_DigitizingSystem : SRTM      \n",
      "DTED_DataEdition : 02\n",
      "DTED_HorizontalDatum : WGS84\n",
      "DTED_RelHorizontalAccuracy : NA  \n",
      "DTED_Producer : USCNIMA \n",
      "DTED_HorizontalAccuracy : 0009\n",
      "DTED_MaintenanceDate : 0000\n",
      "DTED_MaintenanceDescription : 0000\n",
      "DTED_MatchMergeDate : 0000\n",
      "DTED_SecurityCode_DSI : U\n",
      "DTED_VerticalAccuracy_UHL : 0004\n",
      "DTED_RelVerticalAccuracy : 0004\n",
      "DTED_OriginLatitude : 0170000N\n",
      "DTED_VerticalDatum : E96\n",
      "DTED_VerticalAccuracy_ACC : 0004\n",
      "DTED_UniqueRef_UHL : J09 018     \n",
      "DTED_SecurityCode_UHL : U  \n"
     ]
    }
   ],
   "source": [
    "ds = gdal.Open(tiff_file)\n",
    "for i,j in ds.GetMetadata().items():\n",
    "    print i,\":\",j"
   ]
  },
  {
   "cell_type": "code",
   "execution_count": 16,
   "metadata": {
    "collapsed": true
   },
   "outputs": [
    {
     "name": "stdout",
     "output_type": "stream",
     "text": [
      "GeoTIFF   GTiff   GEOGCS[\"WGS 84\",DATUM[\"WGS_1984\",SPHEROID[\"WGS 84\",6378137,298.257223563,AUTHORITY[\"EPSG\",\"7030\"]],AUTHORITY[\"EPSG\",\"6326\"]],PRIMEM[\"Greenwich\",0],UNIT[\"degree\",0.0174532925199433],AUTHORITY[\"EPSG\",\"4326\"]]\n",
      "GEOGCS[\"WGS 84\",\n",
      "    DATUM[\"WGS_1984\",\n",
      "        SPHEROID[\"WGS 84\",6378137,298.257223563,\n",
      "            AUTHORITY[\"EPSG\",\"7030\"]],\n",
      "        AUTHORITY[\"EPSG\",\"6326\"]],\n",
      "    PRIMEM[\"Greenwich\",0],\n",
      "    UNIT[\"degree\",0.0174532925199433],\n",
      "    AUTHORITY[\"EPSG\",\"4326\"]]\n",
      "+proj=longlat +datum=WGS84 +no_defs \n",
      "xsize =  15 ysize =  13\n"
     ]
    }
   ],
   "source": [
    "print ds.GetDriver().LongName, \" \",ds.GetDriver().ShortName, \" \", ds.GetProjection()\n",
    "raster_wkt = ds.GetProjection()\n",
    "spatial_ref = osr.SpatialReference()\n",
    "spatial_ref.ImportFromWkt(raster_wkt)\n",
    "print spatial_ref.ExportToPrettyWkt()\n",
    "print spatial_ref.ExportToProj4()\n",
    "print \"xsize = \",ds.RasterXSize, \"ysize = \" ,ds.RasterYSize"
   ]
  },
  {
   "cell_type": "code",
   "execution_count": 20,
   "metadata": {
    "collapsed": true
   },
   "outputs": [
    {
     "name": "stdout",
     "output_type": "stream",
     "text": [
      "[[-32767 -32767 -32767 -32767     43     46     48     46 -32767 -32767\n",
      "  -32767 -32767 -32767 -32767 -32767]\n",
      " [-32767 -32767 -32767     47     49     46     50     48     45     42\n",
      "      40 -32767 -32767 -32767 -32767]\n",
      " [-32767 -32767     49     51     50     51     54     47     44     43\n",
      "      44     47 -32767 -32767 -32767]\n",
      " [-32767     55     55     55     55     57     51     49     48     44\n",
      "      49     50     49 -32767 -32767]\n",
      " [    58     58     55     61     63     63     57     51     49     50\n",
      "      54     47     50     51     44]\n",
      " [    63     63     58     61     64     64     55     53     57     63\n",
      "      46     53     52     51 -32767]\n",
      " [    58     60     63     69     69     60     67     61     56     62\n",
      "      57     53     58 -32767 -32767]\n",
      " [-32767     61     65     72     72     71     72     66     70     71\n",
      "      65     59 -32767 -32767 -32767]\n",
      " [-32767     63     65     66     72     73     77     76     77     73\n",
      "      69 -32767 -32767 -32767 -32767]\n",
      " [-32767 -32767     70     69     71     74     77     75     75     70\n",
      "  -32767 -32767 -32767 -32767 -32767]\n",
      " [-32767 -32767 -32767     70     71     72     73     72 -32767 -32767\n",
      "  -32767 -32767 -32767 -32767 -32767]\n",
      " [-32767 -32767 -32767     65     65     70 -32767 -32767 -32767 -32767\n",
      "  -32767 -32767 -32767 -32767 -32767]\n",
      " [-32767 -32767 -32767 -32767 -32767 -32767 -32767 -32767 -32767 -32767\n",
      "  -32767 -32767 -32767 -32767 -32767]]\n"
     ]
    }
   ],
   "source": [
    "rast_array = np.array(ds.GetRasterBand(1).ReadAsArray())\n",
    "print rast_array"
   ]
  },
  {
   "cell_type": "code",
   "execution_count": 22,
   "metadata": {},
   "outputs": [
    {
     "name": "stdout",
     "output_type": "stream",
     "text": [
      "(83.315897037644, 0.000833333333333, 0.0, 17.73461959072359, 0.0, -0.000833333333333)\n"
     ]
    }
   ],
   "source": [
    "print ds.GetGeoTransform()"
   ]
  },
  {
   "cell_type": "code",
   "execution_count": 26,
   "metadata": {},
   "outputs": [],
   "source": [
    "from random import randint"
   ]
  },
  {
   "cell_type": "code",
   "execution_count": 43,
   "metadata": {},
   "outputs": [
    {
     "name": "stdout",
     "output_type": "stream",
     "text": [
      "154\n"
     ]
    }
   ],
   "source": [
    "print randint(0,255)"
   ]
  }
 ],
 "metadata": {
  "kernelspec": {
   "display_name": "Python 2",
   "language": "python",
   "name": "python2"
  },
  "language_info": {
   "codemirror_mode": {
    "name": "ipython",
    "version": 2
   },
   "file_extension": ".py",
   "mimetype": "text/x-python",
   "name": "python",
   "nbconvert_exporter": "python",
   "pygments_lexer": "ipython2",
   "version": "2.7.12"
  }
 },
 "nbformat": 4,
 "nbformat_minor": 2
}
