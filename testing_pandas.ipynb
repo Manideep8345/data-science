{
 "cells": [
  {
   "cell_type": "code",
   "execution_count": 1,
   "metadata": {},
   "outputs": [],
   "source": [
    "import pandas"
   ]
  },
  {
   "cell_type": "code",
   "execution_count": 2,
   "metadata": {
    "collapsed": true
   },
   "outputs": [
    {
     "name": "stderr",
     "output_type": "stream",
     "text": [
      "/usr/local/lib/python2.7/dist-packages/IPython/core/interactiveshell.py:2718: DtypeWarning: Columns (5) have mixed types. Specify dtype option on import or set low_memory=False.\n",
      "  interactivity=interactivity, compiler=compiler, result=result)\n"
     ]
    },
    {
     "ename": "NameError",
     "evalue": "name 'State' is not defined",
     "output_type": "error",
     "traceback": [
      "\u001b[0;31m---------------------------------------------------------------------------\u001b[0m",
      "\u001b[0;31mNameError\u001b[0m                                 Traceback (most recent call last)",
      "\u001b[0;32m<ipython-input-2-20e54470d233>\u001b[0m in \u001b[0;36m<module>\u001b[0;34m()\u001b[0m\n\u001b[1;32m      1\u001b[0m \u001b[0mdf\u001b[0m\u001b[0;34m=\u001b[0m\u001b[0mpandas\u001b[0m\u001b[0;34m.\u001b[0m\u001b[0mread_csv\u001b[0m\u001b[0;34m(\u001b[0m\u001b[0;34m'wells1.csv'\u001b[0m\u001b[0;34m)\u001b[0m\u001b[0;34m\u001b[0m\u001b[0m\n\u001b[0;32m----> 2\u001b[0;31m \u001b[0mdf\u001b[0m\u001b[0;34m[\u001b[0m\u001b[0mState\u001b[0m\u001b[0;34m]\u001b[0m\u001b[0;34m\u001b[0m\u001b[0m\n\u001b[0m",
      "\u001b[0;31mNameError\u001b[0m: name 'State' is not defined"
     ]
    }
   ],
   "source": [
    "df=pandas.read_csv('wells1.csv')\n",
    "df[State]"
   ]
  },
  {
   "cell_type": "code",
   "execution_count": 3,
   "metadata": {},
   "outputs": [
    {
     "data": {
      "text/plain": [
       "0         WA\n",
       "1         WA\n",
       "2         WA\n",
       "3         WA\n",
       "4         WA\n",
       "5         WA\n",
       "6         WA\n",
       "7         WA\n",
       "8         WA\n",
       "9         WA\n",
       "10        WA\n",
       "11        WA\n",
       "12        WA\n",
       "13        WA\n",
       "14        WA\n",
       "15        WA\n",
       "16        WA\n",
       "17        WA\n",
       "18        WA\n",
       "19        WA\n",
       "20        WA\n",
       "21        WA\n",
       "22        WA\n",
       "23        WA\n",
       "24        WA\n",
       "25        WA\n",
       "26        WA\n",
       "27        WA\n",
       "28        WA\n",
       "29        WA\n",
       "          ..\n",
       "353854    NM\n",
       "353855    NM\n",
       "353856    NM\n",
       "353857    NM\n",
       "353858    NM\n",
       "353859    NM\n",
       "353860    NM\n",
       "353861    NM\n",
       "353862    NM\n",
       "353863    NM\n",
       "353864    NM\n",
       "353865    NM\n",
       "353866    NM\n",
       "353867    NM\n",
       "353868    NM\n",
       "353869    NM\n",
       "353870    NM\n",
       "353871    NM\n",
       "353872    NM\n",
       "353873    NM\n",
       "353874    NM\n",
       "353875    NM\n",
       "353876    NM\n",
       "353877    NM\n",
       "353878    NM\n",
       "353879    NM\n",
       "353880    NM\n",
       "353881    NM\n",
       "353882    NM\n",
       "353883    NM\n",
       "Name: State, Length: 353884, dtype: object"
      ]
     },
     "execution_count": 3,
     "metadata": {},
     "output_type": "execute_result"
    }
   ],
   "source": [
    "df['State']"
   ]
  },
  {
   "cell_type": "code",
   "execution_count": 5,
   "metadata": {},
   "outputs": [
    {
     "data": {
      "text/plain": [
       "State         object\n",
       "Well_Name     object\n",
       "Operator      object\n",
       "Type          object\n",
       "Status        object\n",
       "Slant         object\n",
       "Spud Date     object\n",
       "Longitude    float64\n",
       "Latitude     float64\n",
       "API           object\n",
       "dtype: object"
      ]
     },
     "execution_count": 5,
     "metadata": {},
     "output_type": "execute_result"
    }
   ],
   "source": [
    "df.dtypes"
   ]
  },
  {
   "cell_type": "code",
   "execution_count": 7,
   "metadata": {},
   "outputs": [],
   "source": [
    "state_df=df.State"
   ]
  },
  {
   "cell_type": "code",
   "execution_count": 11,
   "metadata": {},
   "outputs": [
    {
     "data": {
      "text/plain": [
       "0    WA\n",
       "1    WA\n",
       "2    WA\n",
       "3    WA\n",
       "4    WA\n",
       "Name: State, dtype: object"
      ]
     },
     "execution_count": 11,
     "metadata": {},
     "output_type": "execute_result"
    }
   ],
   "source": [
    "state_df.head()"
   ]
  },
  {
   "cell_type": "code",
   "execution_count": 12,
   "metadata": {
    "collapsed": true
   },
   "outputs": [],
   "source": [
    "subset_df=df[['State','API','Longitude','Latitude']]"
   ]
  },
  {
   "cell_type": "code",
   "execution_count": 13,
   "metadata": {
    "scrolled": true
   },
   "outputs": [
    {
     "data": {
      "text/html": [
       "<div>\n",
       "<table border=\"1\" class=\"dataframe\">\n",
       "  <thead>\n",
       "    <tr style=\"text-align: right;\">\n",
       "      <th></th>\n",
       "      <th>State</th>\n",
       "      <th>API</th>\n",
       "      <th>Longitude</th>\n",
       "      <th>Latitude</th>\n",
       "    </tr>\n",
       "  </thead>\n",
       "  <tbody>\n",
       "    <tr>\n",
       "      <th>0</th>\n",
       "      <td>WA</td>\n",
       "      <td>046-027-00074</td>\n",
       "      <td>-123.64427</td>\n",
       "      <td>46.99666</td>\n",
       "    </tr>\n",
       "    <tr>\n",
       "      <th>1</th>\n",
       "      <td>WA</td>\n",
       "      <td>046-031-00001</td>\n",
       "      <td>-124.58319</td>\n",
       "      <td>47.87892</td>\n",
       "    </tr>\n",
       "    <tr>\n",
       "      <th>2</th>\n",
       "      <td>WA</td>\n",
       "      <td>046-009-00040</td>\n",
       "      <td>-124.60347</td>\n",
       "      <td>47.89009</td>\n",
       "    </tr>\n",
       "    <tr>\n",
       "      <th>3</th>\n",
       "      <td>WA</td>\n",
       "      <td>046-009-00008</td>\n",
       "      <td>-124.52247</td>\n",
       "      <td>48.03229</td>\n",
       "    </tr>\n",
       "    <tr>\n",
       "      <th>4</th>\n",
       "      <td>WA</td>\n",
       "      <td>046-009-00005</td>\n",
       "      <td>-124.48695</td>\n",
       "      <td>47.91815</td>\n",
       "    </tr>\n",
       "  </tbody>\n",
       "</table>\n",
       "</div>"
      ],
      "text/plain": [
       "  State            API  Longitude  Latitude\n",
       "0    WA  046-027-00074 -123.64427  46.99666\n",
       "1    WA  046-031-00001 -124.58319  47.87892\n",
       "2    WA  046-009-00040 -124.60347  47.89009\n",
       "3    WA  046-009-00008 -124.52247  48.03229\n",
       "4    WA  046-009-00005 -124.48695  47.91815"
      ]
     },
     "execution_count": 13,
     "metadata": {},
     "output_type": "execute_result"
    }
   ],
   "source": [
    "subset_df.head()"
   ]
  },
  {
   "cell_type": "code",
   "execution_count": 19,
   "metadata": {
    "collapsed": true
   },
   "outputs": [],
   "source": [
    "subset_df=df.loc[[678,2341,990]]"
   ]
  },
  {
   "cell_type": "code",
   "execution_count": 20,
   "metadata": {
    "collapsed": true
   },
   "outputs": [
    {
     "data": {
      "text/html": [
       "<div>\n",
       "<table border=\"1\" class=\"dataframe\">\n",
       "  <thead>\n",
       "    <tr style=\"text-align: right;\">\n",
       "      <th></th>\n",
       "      <th>State</th>\n",
       "      <th>Well_Name</th>\n",
       "      <th>Operator</th>\n",
       "      <th>Type</th>\n",
       "      <th>Status</th>\n",
       "      <th>Slant</th>\n",
       "      <th>Spud Date</th>\n",
       "      <th>Longitude</th>\n",
       "      <th>Latitude</th>\n",
       "      <th>API</th>\n",
       "    </tr>\n",
       "  </thead>\n",
       "  <tbody>\n",
       "    <tr>\n",
       "      <th>678</th>\n",
       "      <td>WA</td>\n",
       "      <td>Donellan No. 1</td>\n",
       "      <td>North Pacific Natural Gas Co.</td>\n",
       "      <td>NaN</td>\n",
       "      <td>Drilled</td>\n",
       "      <td>NaN</td>\n",
       "      <td>1/1/1931</td>\n",
       "      <td>-119.577960</td>\n",
       "      <td>46.401470</td>\n",
       "      <td>046-005-00028</td>\n",
       "    </tr>\n",
       "    <tr>\n",
       "      <th>2341</th>\n",
       "      <td>CA</td>\n",
       "      <td>Honker Farms 2</td>\n",
       "      <td>Vintage Production California LLC</td>\n",
       "      <td>Dry Gas</td>\n",
       "      <td>Active</td>\n",
       "      <td>NaN</td>\n",
       "      <td>8/18/1974</td>\n",
       "      <td>-121.893590</td>\n",
       "      <td>38.067670</td>\n",
       "      <td>9520221</td>\n",
       "    </tr>\n",
       "    <tr>\n",
       "      <th>990</th>\n",
       "      <td>OR</td>\n",
       "      <td>LF 12B-35-65</td>\n",
       "      <td>NW Natural</td>\n",
       "      <td>Producer</td>\n",
       "      <td>Permitted</td>\n",
       "      <td>NaN</td>\n",
       "      <td>NaN</td>\n",
       "      <td>-123.277168</td>\n",
       "      <td>45.963562</td>\n",
       "      <td>36-009-00301</td>\n",
       "    </tr>\n",
       "  </tbody>\n",
       "</table>\n",
       "</div>"
      ],
      "text/plain": [
       "     State       Well_Name                           Operator      Type  \\\n",
       "678     WA  Donellan No. 1      North Pacific Natural Gas Co.       NaN   \n",
       "2341    CA  Honker Farms 2  Vintage Production California LLC   Dry Gas   \n",
       "990     OR    LF 12B-35-65                         NW Natural  Producer   \n",
       "\n",
       "         Status Slant  Spud Date   Longitude   Latitude            API  \n",
       "678     Drilled   NaN   1/1/1931 -119.577960  46.401470  046-005-00028  \n",
       "2341     Active   NaN  8/18/1974 -121.893590  38.067670        9520221  \n",
       "990   Permitted   NaN        NaN -123.277168  45.963562   36-009-00301  "
      ]
     },
     "execution_count": 20,
     "metadata": {},
     "output_type": "execute_result"
    }
   ],
   "source": [
    "subset_df"
   ]
  },
  {
   "cell_type": "code",
   "execution_count": 18,
   "metadata": {},
   "outputs": [
    {
     "data": {
      "text/html": [
       "<div>\n",
       "<table border=\"1\" class=\"dataframe\">\n",
       "  <thead>\n",
       "    <tr style=\"text-align: right;\">\n",
       "      <th></th>\n",
       "      <th>State</th>\n",
       "      <th>Well_Name</th>\n",
       "      <th>Operator</th>\n",
       "      <th>Type</th>\n",
       "      <th>Status</th>\n",
       "      <th>Slant</th>\n",
       "      <th>Spud Date</th>\n",
       "      <th>Longitude</th>\n",
       "      <th>Latitude</th>\n",
       "      <th>API</th>\n",
       "    </tr>\n",
       "  </thead>\n",
       "  <tbody>\n",
       "    <tr>\n",
       "      <th>345</th>\n",
       "      <td>WA</td>\n",
       "      <td>SU No. 33</td>\n",
       "      <td>Washington Water Power Co.</td>\n",
       "      <td>NaN</td>\n",
       "      <td>Drilled</td>\n",
       "      <td>NaN</td>\n",
       "      <td>3/25/1967</td>\n",
       "      <td>-122.844190</td>\n",
       "      <td>46.547020</td>\n",
       "      <td>046-041-00101</td>\n",
       "    </tr>\n",
       "    <tr>\n",
       "      <th>876</th>\n",
       "      <td>OR</td>\n",
       "      <td>LF 12-33-75</td>\n",
       "      <td>Taylor Operating Company LLC</td>\n",
       "      <td>NaN</td>\n",
       "      <td>Unknown</td>\n",
       "      <td>NaN</td>\n",
       "      <td>NaN</td>\n",
       "      <td>-123.319572</td>\n",
       "      <td>46.049469</td>\n",
       "      <td>36-009-00091</td>\n",
       "    </tr>\n",
       "    <tr>\n",
       "      <th>8765</th>\n",
       "      <td>CA</td>\n",
       "      <td>3-6T1</td>\n",
       "      <td>Chevron U.S.A. Inc.</td>\n",
       "      <td>Observation</td>\n",
       "      <td>Active</td>\n",
       "      <td>NaN</td>\n",
       "      <td>6/29/1988</td>\n",
       "      <td>-120.388030</td>\n",
       "      <td>36.231090</td>\n",
       "      <td>1922852</td>\n",
       "    </tr>\n",
       "  </tbody>\n",
       "</table>\n",
       "</div>"
      ],
      "text/plain": [
       "     State    Well_Name                      Operator         Type   Status  \\\n",
       "345     WA    SU No. 33    Washington Water Power Co.          NaN  Drilled   \n",
       "876     OR  LF 12-33-75  Taylor Operating Company LLC          NaN  Unknown   \n",
       "8765    CA        3-6T1           Chevron U.S.A. Inc.  Observation   Active   \n",
       "\n",
       "     Slant  Spud Date   Longitude   Latitude            API  \n",
       "345    NaN  3/25/1967 -122.844190  46.547020  046-041-00101  \n",
       "876    NaN        NaN -123.319572  46.049469   36-009-00091  \n",
       "8765   NaN  6/29/1988 -120.388030  36.231090        1922852  "
      ]
     },
     "execution_count": 18,
     "metadata": {},
     "output_type": "execute_result"
    }
   ],
   "source": [
    "df.ix[[345,876,8765]]"
   ]
  },
  {
   "cell_type": "code",
   "execution_count": 27,
   "metadata": {},
   "outputs": [
    {
     "name": "stdout",
     "output_type": "stream",
     "text": [
      "10\n",
      "11\n",
      "12\n",
      "13\n",
      "14\n"
     ]
    }
   ],
   "source": [
    "for i in range(10,15):\n",
    "    print i"
   ]
  },
  {
   "cell_type": "code",
   "execution_count": 39,
   "metadata": {
    "scrolled": true
   },
   "outputs": [
    {
     "name": "stderr",
     "output_type": "stream",
     "text": [
      "D:\\petra  bytes\\lib\\site-packages\\pandas\\core\\generic.py:1138: PerformanceWarning: \n",
      "your performance may suffer as PyTables will pickle object types that it cannot\n",
      "map directly to c-types [inferred_type->mixed,key->block1_values] [items->['State', 'Well_Name', 'Operator', 'Type', 'Status', 'Slant', 'Spud Date', 'API']]\n",
      "\n",
      "  return pytables.to_hdf(path_or_buf, key, self, **kwargs)\n"
     ]
    }
   ],
   "source": [
    "subset_df.to_hdf(\"lat_lon\",'juy')"
   ]
  },
  {
   "cell_type": "code",
   "execution_count": 46,
   "metadata": {
    "collapsed": true
   },
   "outputs": [
    {
     "name": "stdout",
     "output_type": "stream",
     "text": [
      "[(u'psa_data', <HDF5 group \"/psa_data\" (2 members)>)]\n",
      "[(u'well_1', <HDF5 group \"/psa_data/well_1\" (1 members)>), (u'well_2', <HDF5 group \"/psa_data/well_2\" (1 members)>)]\n",
      "[(u'1234', <HDF5 dataset \"1234\": shape (63, 5), type \"<f8\">)]\n",
      "[(u'2222', <HDF5 dataset \"2222\": shape (63, 5), type \"<f8\">)]\n"
     ]
    },
    {
     "data": {
      "image/png": "[encoded data removed]",
      "text/plain": [
       "<matplotlib.figure.Figure at 0x12585940>"
      ]
     },
     "metadata": {},
     "output_type": "display_data"
    },
    {
     "data": {
      "image/png": "[encoded data removed]",
      "text/plain": [
       "<matplotlib.figure.Figure at 0x14dc2400>"
      ]
     },
     "metadata": {},
     "output_type": "display_data"
    }
   ],
   "source": [
    "import h5py as hp\n",
    "#i'm using h5py because,it is a Pythonic interface to the HDF5 binary data format.\n",
    "import numpy as np\n",
    "#i'm using numpy because,it has N-dimensional array object.\n",
    "import matplotlib.pyplot as plt\n",
    "#i'm using matplotlib because,it is used to plot graph\n",
    "f=hp.File('Test.petrabytes',\"r\")\n",
    "#i'm reading test.pertabytes file\n",
    "k=list( f.items())\n",
    "print k\n",
    "#i'm looking for groups in test.pertabytes,i found psa_data\n",
    "g=f.get('psa_data')\n",
    "k2=list(g.items())\n",
    "print k2\n",
    "#i'm looking for subgroup in psa_data group,i found well_1 and well_2,first im going with well_1 data\n",
    "g1=g.get('well_1')\n",
    "k3=list(g1.items())\n",
    "print k3\n",
    "#i'm looking for datasets in well_1 group,i found 1234 dataset\n",
    "data=np.array(g1.get('1234'))\n",
    "plt.plot(data)\n",
    "#i'm plotting data from 1234 dataset\n",
    "g2=g.get('well_2')\n",
    "k4=list(g2.items())\n",
    "print k4\n",
    "#i'm looking fordatasets in well_1 group,i found 2222 dataset\n",
    "data2=np.array(g2.get('2222'))\n",
    "plt.figure()\n",
    "plt.plot(data2)\n",
    "#i'm plotting data from 2222 dataset\n",
    "f.close()\n",
    "#file closed\n",
    "plt.show()\n",
    "#PEACE \\/"
   ]
  },
  {
   "cell_type": "code",
   "execution_count": 49,
   "metadata": {},
   "outputs": [
    {
     "name": "stdout",
     "output_type": "stream",
     "text": [
      "[(u'juy', <HDF5 group \"/juy\" (6 members)>)]\n"
     ]
    }
   ],
   "source": [
    "import h5py as hp\n",
    "f=hp.File('lat_lon','r')\n",
    "k=list( f.items())\n",
    "print k"
   ]
  },
  {
   "cell_type": "code",
   "execution_count": 55,
   "metadata": {},
   "outputs": [
    {
     "name": "stdout",
     "output_type": "stream",
     "text": [
      "<HDF5 group \"/juy\" (6 members)>\n"
     ]
    }
   ],
   "source": [
    "import numpy as np\n",
    "g1=f.get('juy')\n",
    "k2=list(g1.items())\n",
    "print g1"
   ]
  },
  {
   "cell_type": "code",
   "execution_count": 58,
   "metadata": {},
   "outputs": [
    {
     "ename": "ValueError",
     "evalue": "No dataset in HDF5 file.",
     "output_type": "error",
     "traceback": [
      "\u001b[1;31m---------------------------------------------------------------------------\u001b[0m",
      "\u001b[1;31mValueError\u001b[0m                                Traceback (most recent call last)",
      "\u001b[1;32m<ipython-input-58-0fb738582736>\u001b[0m in \u001b[0;36m<module>\u001b[1;34m()\u001b[0m\n\u001b[1;32m----> 1\u001b[1;33m \u001b[0mpandas\u001b[0m\u001b[1;33m.\u001b[0m\u001b[0mread_hdf\u001b[0m\u001b[1;33m(\u001b[0m\u001b[1;34m'Test.petrabytes'\u001b[0m\u001b[1;33m)\u001b[0m\u001b[1;33m\u001b[0m\u001b[0m\n\u001b[0m",
      "\u001b[1;32mD:\\petra  bytes\\lib\\site-packages\\pandas\\io\\pytables.pyc\u001b[0m in \u001b[0;36mread_hdf\u001b[1;34m(path_or_buf, key, **kwargs)\u001b[0m\n\u001b[0;32m    346\u001b[0m             \u001b[0mgroups\u001b[0m \u001b[1;33m=\u001b[0m \u001b[0mstore\u001b[0m\u001b[1;33m.\u001b[0m\u001b[0mgroups\u001b[0m\u001b[1;33m(\u001b[0m\u001b[1;33m)\u001b[0m\u001b[1;33m\u001b[0m\u001b[0m\n\u001b[0;32m    347\u001b[0m             \u001b[1;32mif\u001b[0m \u001b[0mlen\u001b[0m\u001b[1;33m(\u001b[0m\u001b[0mgroups\u001b[0m\u001b[1;33m)\u001b[0m \u001b[1;33m==\u001b[0m \u001b[1;36m0\u001b[0m\u001b[1;33m:\u001b[0m\u001b[1;33m\u001b[0m\u001b[0m\n\u001b[1;32m--> 348\u001b[1;33m                 \u001b[1;32mraise\u001b[0m \u001b[0mValueError\u001b[0m\u001b[1;33m(\u001b[0m\u001b[1;34m'No dataset in HDF5 file.'\u001b[0m\u001b[1;33m)\u001b[0m\u001b[1;33m\u001b[0m\u001b[0m\n\u001b[0m\u001b[0;32m    349\u001b[0m             \u001b[0mcandidate_only_group\u001b[0m \u001b[1;33m=\u001b[0m \u001b[0mgroups\u001b[0m\u001b[1;33m[\u001b[0m\u001b[1;36m0\u001b[0m\u001b[1;33m]\u001b[0m\u001b[1;33m\u001b[0m\u001b[0m\n\u001b[0;32m    350\u001b[0m \u001b[1;33m\u001b[0m\u001b[0m\n",
      "\u001b[1;31mValueError\u001b[0m: No dataset in HDF5 file."
     ]
    }
   ],
   "source": [
    "pandas.read_hdf('Test.petrabytes')"
   ]
  },
  {
   "cell_type": "code",
   "execution_count": 56,
   "metadata": {},
   "outputs": [
    {
     "ename": "AttributeError",
     "evalue": "'NoneType' object has no attribute 'items'",
     "output_type": "error",
     "traceback": [
      "\u001b[1;31m---------------------------------------------------------------------------\u001b[0m",
      "\u001b[1;31mAttributeError\u001b[0m                            Traceback (most recent call last)",
      "\u001b[1;32m<ipython-input-56-c396ca6df21e>\u001b[0m in \u001b[0;36m<module>\u001b[1;34m()\u001b[0m\n\u001b[0;32m      1\u001b[0m \u001b[0mg\u001b[0m\u001b[1;33m=\u001b[0m\u001b[0mg1\u001b[0m\u001b[1;33m.\u001b[0m\u001b[0mget\u001b[0m\u001b[1;33m(\u001b[0m\u001b[1;34m'juy'\u001b[0m\u001b[1;33m)\u001b[0m\u001b[1;33m\u001b[0m\u001b[0m\n\u001b[1;32m----> 2\u001b[1;33m \u001b[0mk2\u001b[0m\u001b[1;33m=\u001b[0m\u001b[0mlist\u001b[0m\u001b[1;33m(\u001b[0m\u001b[0mg\u001b[0m\u001b[1;33m.\u001b[0m\u001b[0mitems\u001b[0m\u001b[1;33m(\u001b[0m\u001b[1;33m)\u001b[0m\u001b[1;33m)\u001b[0m\u001b[1;33m\u001b[0m\u001b[0m\n\u001b[0m\u001b[0;32m      3\u001b[0m \u001b[1;32mprint\u001b[0m \u001b[0mg\u001b[0m\u001b[1;33m\u001b[0m\u001b[0m\n",
      "\u001b[1;31mAttributeError\u001b[0m: 'NoneType' object has no attribute 'items'"
     ]
    }
   ],
   "source": [
    "g=g1.get('juy')\n",
    "k2=list(g.items())\n",
    "print g"
   ]
  }
 ],
 "metadata": {
  "kernelspec": {
   "display_name": "Python 2",
   "language": "python",
   "name": "python2"
  },
  "language_info": {
   "codemirror_mode": {
    "name": "ipython",
    "version": 2
   },
   "file_extension": ".py",
   "mimetype": "text/x-python",
   "name": "python",
   "nbconvert_exporter": "python",
   "pygments_lexer": "ipython2",
   "version": "2.7.12"
  }
 },
 "nbformat": 4,
 "nbformat_minor": 2
}
